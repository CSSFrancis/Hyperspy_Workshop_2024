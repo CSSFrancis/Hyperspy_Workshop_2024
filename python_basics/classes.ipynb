{
 "cells": [
  {
   "metadata": {},
   "cell_type": "markdown",
   "source": "# Classes allow us to combine data and functions",
   "id": "3c365dbc197ee390"
  },
  {
   "metadata": {
    "ExecuteTime": {
     "end_time": "2024-05-13T11:31:32.648099Z",
     "start_time": "2024-05-13T11:31:32.627154Z"
    }
   },
   "cell_type": "code",
   "source": [
    "class Person:\n",
    "\n",
    "    # inside a class the functions (called methods) take a parameter called 'self' which refers to caller\n",
    "    def __init__(self, name: str, age: int):  # the __init__ is a special method that init-ialises an object\n",
    "        self.name = name\n",
    "        self.age = age  # here we assign an instance variable 'age' to be the parameter age\n",
    "\n",
    "    def print_name(self):\n",
    "        # we do not have access to the name and age parameters from __init__, but we do have access to self!\n",
    "        print(self.name)\n",
    "\n",
    "    #when adding type hints for classes, the class has to be in quotes.\n",
    "    def compare_names(self, other: \"Person\") -> bool:\n",
    "        return self.name == other.name"
   ],
   "id": "5aae7cd4006cb324",
   "outputs": [],
   "execution_count": 1
  },
  {
   "metadata": {
    "ExecuteTime": {
     "end_time": "2024-05-13T11:31:32.663058Z",
     "start_time": "2024-05-13T11:31:32.651090Z"
    }
   },
   "cell_type": "code",
   "source": [
    "p1 = Person(\"Alice Attacker\", 18)\n",
    "p2 = Person(\"Bob Defender\", 20)\n",
    "\n",
    "#we cannot access the functions print_name and compare_names, so we have to rely on the objects!\n",
    "p1.print_name()\n",
    "p2.print_name()  # notice that 'self' becomes the object we call it on - on this line it's p2."
   ],
   "id": "544813b19d5f1aeb",
   "outputs": [
    {
     "name": "stdout",
     "output_type": "stream",
     "text": [
      "Alice Attacker\n",
      "Bob Defender\n"
     ]
    }
   ],
   "execution_count": 2
  },
  {
   "metadata": {
    "ExecuteTime": {
     "end_time": "2024-05-13T11:31:32.678020Z",
     "start_time": "2024-05-13T11:31:32.665054Z"
    }
   },
   "cell_type": "code",
   "source": "p1.compare_names(p2)  # here p1 is self!",
   "id": "482dfca4b0eb475d",
   "outputs": [
    {
     "data": {
      "text/plain": [
       "False"
      ]
     },
     "execution_count": 3,
     "metadata": {},
     "output_type": "execute_result"
    }
   ],
   "execution_count": 3
  },
  {
   "metadata": {},
   "cell_type": "markdown",
   "source": "## We can add methods that don't need an object - static methods",
   "id": "349012ed2f39769b"
  },
  {
   "metadata": {
    "ExecuteTime": {
     "end_time": "2024-05-13T11:31:33.276481Z",
     "start_time": "2024-05-13T11:31:32.680014Z"
    }
   },
   "cell_type": "code",
   "source": [
    "class Student:\n",
    "\n",
    "    def __init__(self, sid: int):\n",
    "        self.id = sid\n",
    "\n",
    "    def id_is_prime(self) -> bool:\n",
    "        for i in range(2, self.id):\n",
    "            if self.id % i == 0:\n",
    "                return False\n",
    "        return True\n",
    "\n",
    "    @staticmethod  # this marks a function as static\n",
    "    def first_class(grade: int) -> bool:\n",
    "        return grade >= 70\n",
    "\n",
    "\n",
    "print(Student.first_class(70))\n",
    "s1 = Student(34)\n",
    "print(s1.id_is_prime())\n",
    "print(s1.first_class(65))\n",
    "\n",
    "# trying this on a non-static method\n",
    "print(Student.id_is_prime())"
   ],
   "id": "b2ef95575a7db727",
   "outputs": [
    {
     "name": "stdout",
     "output_type": "stream",
     "text": [
      "True\n",
      "False\n",
      "False\n"
     ]
    },
    {
     "ename": "TypeError",
     "evalue": "id_is_prime() missing 1 required positional argument: 'self'",
     "output_type": "error",
     "traceback": [
      "\u001B[1;31m---------------------------------------------------------------------------\u001B[0m",
      "\u001B[1;31mTypeError\u001B[0m                                 Traceback (most recent call last)",
      "Cell \u001B[1;32mIn[4], line 23\u001B[0m\n\u001B[0;32m     20\u001B[0m \u001B[38;5;28mprint\u001B[39m(s1\u001B[38;5;241m.\u001B[39mfirst_class(\u001B[38;5;241m65\u001B[39m))\n\u001B[0;32m     22\u001B[0m \u001B[38;5;66;03m# trying this on a non-static method\u001B[39;00m\n\u001B[1;32m---> 23\u001B[0m \u001B[38;5;28mprint\u001B[39m(\u001B[43mStudent\u001B[49m\u001B[38;5;241;43m.\u001B[39;49m\u001B[43mid_is_prime\u001B[49m\u001B[43m(\u001B[49m\u001B[43m)\u001B[49m)\n",
      "\u001B[1;31mTypeError\u001B[0m: id_is_prime() missing 1 required positional argument: 'self'"
     ]
    }
   ],
   "execution_count": 4
  }
 ],
 "metadata": {
  "kernelspec": {
   "display_name": "Python 3",
   "language": "python",
   "name": "python3"
  },
  "language_info": {
   "codemirror_mode": {
    "name": "ipython",
    "version": 2
   },
   "file_extension": ".py",
   "mimetype": "text/x-python",
   "name": "python",
   "nbconvert_exporter": "python",
   "pygments_lexer": "ipython2",
   "version": "2.7.6"
  }
 },
 "nbformat": 4,
 "nbformat_minor": 5
}
