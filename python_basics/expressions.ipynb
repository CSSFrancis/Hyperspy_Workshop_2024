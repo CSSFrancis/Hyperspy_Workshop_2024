{
 "cells": [
  {
   "metadata": {},
   "cell_type": "markdown",
   "source": "# Expressions always emit a value",
   "id": "a8d8356714fe09a3"
  },
  {
   "metadata": {},
   "cell_type": "markdown",
   "source": "## Number expressions:",
   "id": "8456deeefd7fe180"
  },
  {
   "metadata": {
    "ExecuteTime": {
     "end_time": "2024-05-13T10:54:09.002796Z",
     "start_time": "2024-05-13T10:54:08.978860Z"
    }
   },
   "cell_type": "code",
   "source": "1",
   "id": "18a4f792308974fd",
   "outputs": [
    {
     "data": {
      "text/plain": [
       "1"
      ]
     },
     "execution_count": 1,
     "metadata": {},
     "output_type": "execute_result"
    }
   ],
   "execution_count": 1
  },
  {
   "metadata": {
    "ExecuteTime": {
     "end_time": "2024-05-13T10:54:09.152555Z",
     "start_time": "2024-05-13T10:54:09.134599Z"
    }
   },
   "cell_type": "code",
   "source": "2.34",
   "id": "73243e87fb2b6fd2",
   "outputs": [
    {
     "data": {
      "text/plain": [
       "2.34"
      ]
     },
     "execution_count": 2,
     "metadata": {},
     "output_type": "execute_result"
    }
   ],
   "execution_count": 2
  },
  {
   "metadata": {
    "ExecuteTime": {
     "end_time": "2024-05-13T10:54:09.227030Z",
     "start_time": "2024-05-13T10:54:09.215062Z"
    }
   },
   "cell_type": "code",
   "source": "5e6",
   "id": "4e1ad0f564b8a9e2",
   "outputs": [
    {
     "data": {
      "text/plain": [
       "5000000.0"
      ]
     },
     "execution_count": 3,
     "metadata": {},
     "output_type": "execute_result"
    }
   ],
   "execution_count": 3
  },
  {
   "metadata": {
    "ExecuteTime": {
     "end_time": "2024-05-13T10:54:09.301850Z",
     "start_time": "2024-05-13T10:54:09.281891Z"
    }
   },
   "cell_type": "code",
   "source": "7_000_000",
   "id": "1f9cc16ab64d2929",
   "outputs": [
    {
     "data": {
      "text/plain": [
       "7000000"
      ]
     },
     "execution_count": 4,
     "metadata": {},
     "output_type": "execute_result"
    }
   ],
   "execution_count": 4
  },
  {
   "metadata": {},
   "cell_type": "markdown",
   "source": "## Boolean expressions:",
   "id": "35b2fa9a5a9988d5"
  },
  {
   "metadata": {
    "ExecuteTime": {
     "end_time": "2024-05-13T10:54:09.377044Z",
     "start_time": "2024-05-13T10:54:09.356718Z"
    }
   },
   "cell_type": "code",
   "source": "True",
   "id": "f88134b28915eeab",
   "outputs": [
    {
     "data": {
      "text/plain": [
       "True"
      ]
     },
     "execution_count": 5,
     "metadata": {},
     "output_type": "execute_result"
    }
   ],
   "execution_count": 5
  },
  {
   "metadata": {
    "ExecuteTime": {
     "end_time": "2024-05-13T10:54:09.451861Z",
     "start_time": "2024-05-13T10:54:09.430915Z"
    }
   },
   "cell_type": "code",
   "source": "False",
   "id": "2f1aaea152fb7b35",
   "outputs": [
    {
     "data": {
      "text/plain": [
       "False"
      ]
     },
     "execution_count": 6,
     "metadata": {},
     "output_type": "execute_result"
    }
   ],
   "execution_count": 6
  },
  {
   "metadata": {},
   "cell_type": "markdown",
   "source": "## What operators are available?",
   "id": "a25662a566493bf1"
  },
  {
   "metadata": {
    "ExecuteTime": {
     "end_time": "2024-05-13T10:54:09.526659Z",
     "start_time": "2024-05-13T10:54:09.513695Z"
    }
   },
   "cell_type": "code",
   "source": "1 + 2",
   "id": "58ecd248283cc768",
   "outputs": [
    {
     "data": {
      "text/plain": [
       "3"
      ]
     },
     "execution_count": 7,
     "metadata": {},
     "output_type": "execute_result"
    }
   ],
   "execution_count": 7
  },
  {
   "metadata": {
    "ExecuteTime": {
     "end_time": "2024-05-13T10:54:09.616958Z",
     "start_time": "2024-05-13T10:54:09.604990Z"
    }
   },
   "cell_type": "code",
   "source": "3 - 4",
   "id": "4cc7f6afc0adbb01",
   "outputs": [
    {
     "data": {
      "text/plain": [
       "-1"
      ]
     },
     "execution_count": 8,
     "metadata": {},
     "output_type": "execute_result"
    }
   ],
   "execution_count": 8
  },
  {
   "metadata": {
    "ExecuteTime": {
     "end_time": "2024-05-13T10:54:09.722134Z",
     "start_time": "2024-05-13T10:54:09.708171Z"
    }
   },
   "cell_type": "code",
   "source": "5 * 6",
   "id": "dcc666a643d8ca56",
   "outputs": [
    {
     "data": {
      "text/plain": [
       "30"
      ]
     },
     "execution_count": 9,
     "metadata": {},
     "output_type": "execute_result"
    }
   ],
   "execution_count": 9
  },
  {
   "metadata": {
    "ExecuteTime": {
     "end_time": "2024-05-13T10:54:09.961493Z",
     "start_time": "2024-05-13T10:54:09.950522Z"
    }
   },
   "cell_type": "code",
   "source": "7 / 8",
   "id": "69206562e5259e36",
   "outputs": [
    {
     "data": {
      "text/plain": [
       "0.875"
      ]
     },
     "execution_count": 10,
     "metadata": {},
     "output_type": "execute_result"
    }
   ],
   "execution_count": 10
  },
  {
   "metadata": {
    "ExecuteTime": {
     "end_time": "2024-05-13T10:54:10.036801Z",
     "start_time": "2024-05-13T10:54:10.027826Z"
    }
   },
   "cell_type": "code",
   "source": "7 // 8",
   "id": "b9144a8cf79d4f25",
   "outputs": [
    {
     "data": {
      "text/plain": [
       "0"
      ]
     },
     "execution_count": 11,
     "metadata": {},
     "output_type": "execute_result"
    }
   ],
   "execution_count": 11
  },
  {
   "metadata": {
    "ExecuteTime": {
     "end_time": "2024-05-13T10:54:10.111913Z",
     "start_time": "2024-05-13T10:54:10.100942Z"
    }
   },
   "cell_type": "code",
   "source": "9 ** 10",
   "id": "548a27c465184164",
   "outputs": [
    {
     "data": {
      "text/plain": [
       "3486784401"
      ]
     },
     "execution_count": 12,
     "metadata": {},
     "output_type": "execute_result"
    }
   ],
   "execution_count": 12
  },
  {
   "metadata": {
    "ExecuteTime": {
     "end_time": "2024-05-13T10:54:10.247077Z",
     "start_time": "2024-05-13T10:54:10.235586Z"
    }
   },
   "cell_type": "code",
   "source": "11 % 12",
   "id": "e05a355ae517e304",
   "outputs": [
    {
     "data": {
      "text/plain": [
       "11"
      ]
     },
     "execution_count": 13,
     "metadata": {},
     "output_type": "execute_result"
    }
   ],
   "execution_count": 13
  },
  {
   "metadata": {
    "ExecuteTime": {
     "end_time": "2024-05-13T10:54:10.291964Z",
     "start_time": "2024-05-13T10:54:10.277005Z"
    }
   },
   "cell_type": "code",
   "source": "-13",
   "id": "8bdf0bc0d0e801b8",
   "outputs": [
    {
     "data": {
      "text/plain": [
       "-13"
      ]
     },
     "execution_count": 14,
     "metadata": {},
     "output_type": "execute_result"
    }
   ],
   "execution_count": 14
  },
  {
   "metadata": {
    "ExecuteTime": {
     "end_time": "2024-05-13T10:54:10.351809Z",
     "start_time": "2024-05-13T10:54:10.334857Z"
    }
   },
   "cell_type": "code",
   "source": "+14",
   "id": "38492295a1585401",
   "outputs": [
    {
     "data": {
      "text/plain": [
       "14"
      ]
     },
     "execution_count": 15,
     "metadata": {},
     "output_type": "execute_result"
    }
   ],
   "execution_count": 15
  },
  {
   "metadata": {
    "ExecuteTime": {
     "end_time": "2024-05-13T10:54:10.396692Z",
     "start_time": "2024-05-13T10:54:10.382729Z"
    }
   },
   "cell_type": "code",
   "source": "True and False",
   "id": "f336c880f9d9751b",
   "outputs": [
    {
     "data": {
      "text/plain": [
       "False"
      ]
     },
     "execution_count": 16,
     "metadata": {},
     "output_type": "execute_result"
    }
   ],
   "execution_count": 16
  },
  {
   "metadata": {
    "ExecuteTime": {
     "end_time": "2024-05-13T10:54:10.441990Z",
     "start_time": "2024-05-13T10:54:10.420627Z"
    }
   },
   "cell_type": "code",
   "source": "False or True",
   "id": "28464211b0efac0c",
   "outputs": [
    {
     "data": {
      "text/plain": [
       "True"
      ]
     },
     "execution_count": 17,
     "metadata": {},
     "output_type": "execute_result"
    }
   ],
   "execution_count": 17
  },
  {
   "metadata": {
    "ExecuteTime": {
     "end_time": "2024-05-13T10:54:10.486872Z",
     "start_time": "2024-05-13T10:54:10.473906Z"
    }
   },
   "cell_type": "code",
   "source": "not True",
   "id": "c3acaa823f2c27f",
   "outputs": [
    {
     "data": {
      "text/plain": [
       "False"
      ]
     },
     "execution_count": 18,
     "metadata": {},
     "output_type": "execute_result"
    }
   ],
   "execution_count": 18
  },
  {
   "metadata": {
    "ExecuteTime": {
     "end_time": "2024-05-13T10:54:10.562042Z",
     "start_time": "2024-05-13T10:54:10.549083Z"
    }
   },
   "cell_type": "code",
   "source": "15 == 15",
   "id": "ff859825f541ad7f",
   "outputs": [
    {
     "data": {
      "text/plain": [
       "True"
      ]
     },
     "execution_count": 19,
     "metadata": {},
     "output_type": "execute_result"
    }
   ],
   "execution_count": 19
  },
  {
   "metadata": {
    "ExecuteTime": {
     "end_time": "2024-05-13T10:54:10.606922Z",
     "start_time": "2024-05-13T10:54:10.593957Z"
    }
   },
   "cell_type": "code",
   "source": "16 != 16.0",
   "id": "ab289c1e0dd5fc46",
   "outputs": [
    {
     "data": {
      "text/plain": [
       "False"
      ]
     },
     "execution_count": 20,
     "metadata": {},
     "output_type": "execute_result"
    }
   ],
   "execution_count": 20
  },
  {
   "metadata": {
    "ExecuteTime": {
     "end_time": "2024-05-13T10:54:10.651801Z",
     "start_time": "2024-05-13T10:54:10.642826Z"
    }
   },
   "cell_type": "code",
   "source": "17 < 18",
   "id": "4cb10e6dfe3b720c",
   "outputs": [
    {
     "data": {
      "text/plain": [
       "True"
      ]
     },
     "execution_count": 21,
     "metadata": {},
     "output_type": "execute_result"
    }
   ],
   "execution_count": 21
  },
  {
   "metadata": {
    "ExecuteTime": {
     "end_time": "2024-05-13T10:54:10.712164Z",
     "start_time": "2024-05-13T10:54:10.704198Z"
    }
   },
   "cell_type": "code",
   "source": "19.5 > 20",
   "id": "c3000f0f6a782edd",
   "outputs": [
    {
     "data": {
      "text/plain": [
       "False"
      ]
     },
     "execution_count": 22,
     "metadata": {},
     "output_type": "execute_result"
    }
   ],
   "execution_count": 22
  },
  {
   "metadata": {
    "ExecuteTime": {
     "end_time": "2024-05-13T10:54:10.772267Z",
     "start_time": "2024-05-13T10:54:10.762062Z"
    }
   },
   "cell_type": "code",
   "source": "21.8 <= 22.8",
   "id": "5c3009920acc43e3",
   "outputs": [
    {
     "data": {
      "text/plain": [
       "True"
      ]
     },
     "execution_count": 23,
     "metadata": {},
     "output_type": "execute_result"
    }
   ],
   "execution_count": 23
  },
  {
   "metadata": {
    "ExecuteTime": {
     "end_time": "2024-05-13T10:54:10.817666Z",
     "start_time": "2024-05-13T10:54:10.807693Z"
    }
   },
   "cell_type": "code",
   "source": "23 >= 24",
   "id": "180c4c5ce2fa7cff",
   "outputs": [
    {
     "data": {
      "text/plain": [
       "False"
      ]
     },
     "execution_count": 24,
     "metadata": {},
     "output_type": "execute_result"
    }
   ],
   "execution_count": 24
  },
  {
   "metadata": {},
   "cell_type": "markdown",
   "source": "## How can collections be formed?",
   "id": "c972ae1c52fda179"
  },
  {
   "metadata": {
    "ExecuteTime": {
     "end_time": "2024-05-13T10:54:10.892898Z",
     "start_time": "2024-05-13T10:54:10.872954Z"
    }
   },
   "cell_type": "code",
   "source": "[1, 2, 3.0, -60, 180 * 4 + 66]  # list - CAN be changed later",
   "id": "f695ea6010f43493",
   "outputs": [
    {
     "data": {
      "text/plain": [
       "[1, 2, 3.0, -60, 786]"
      ]
     },
     "execution_count": 25,
     "metadata": {},
     "output_type": "execute_result"
    }
   ],
   "execution_count": 25
  },
  {
   "metadata": {
    "ExecuteTime": {
     "end_time": "2024-05-13T10:54:10.952743Z",
     "start_time": "2024-05-13T10:54:10.938777Z"
    }
   },
   "cell_type": "code",
   "source": "(88.9, 6 % 4, 8 ** 2, 1e-4,)  # tuple - CANNOT be changed later - also notice the trailing comma!",
   "id": "55465763d066c341",
   "outputs": [
    {
     "data": {
      "text/plain": [
       "(88.9, 2, 64, 0.0001)"
      ]
     },
     "execution_count": 26,
     "metadata": {},
     "output_type": "execute_result"
    }
   ],
   "execution_count": 26
  },
  {
   "metadata": {},
   "cell_type": "markdown",
   "source": "## What about strings? (File paths, etc.)",
   "id": "fd9c5b2b20ff9213"
  },
  {
   "metadata": {
    "ExecuteTime": {
     "end_time": "2024-05-13T10:54:11.013153Z",
     "start_time": "2024-05-13T10:54:11.003179Z"
    }
   },
   "cell_type": "code",
   "source": "\"a string is formed by using single or double quotes\"",
   "id": "a757b75d9d26443c",
   "outputs": [
    {
     "data": {
      "text/plain": [
       "'a string is formed by using single or double quotes'"
      ]
     },
     "execution_count": 27,
     "metadata": {},
     "output_type": "execute_result"
    }
   ],
   "execution_count": 27
  },
  {
   "metadata": {
    "ExecuteTime": {
     "end_time": "2024-05-13T10:54:11.043088Z",
     "start_time": "2024-05-13T10:54:11.030105Z"
    }
   },
   "cell_type": "code",
   "source": "\"Any character can be used in a string, but there are special ones:\"",
   "id": "997e9ef03ff40127",
   "outputs": [
    {
     "data": {
      "text/plain": [
       "'Any character can be used in a string, but there are special ones:'"
      ]
     },
     "execution_count": 28,
     "metadata": {},
     "output_type": "execute_result"
    }
   ],
   "execution_count": 28
  },
  {
   "metadata": {
    "ExecuteTime": {
     "end_time": "2024-05-13T10:54:11.088269Z",
     "start_time": "2024-05-13T10:54:11.077300Z"
    }
   },
   "cell_type": "code",
   "source": [
    "\"\\n\"  # new line\n",
    "\"\\t\"  # tab\n",
    "\"\\\"\"  # double quote\n",
    "\"\\'\"  #single quote\n",
    "\"\\\\\"  # backslash"
   ],
   "id": "829aed4aeb492488",
   "outputs": [
    {
     "data": {
      "text/plain": [
       "'\\\\'"
      ]
     },
     "execution_count": 29,
     "metadata": {},
     "output_type": "execute_result"
    }
   ],
   "execution_count": 29
  },
  {
   "metadata": {
    "ExecuteTime": {
     "end_time": "2024-05-13T10:54:11.178127Z",
     "start_time": "2024-05-13T10:54:11.166148Z"
    }
   },
   "cell_type": "code",
   "source": "r\"An 'r' in front of the string allows for raw strings - you don't need backslashes to escape (except for double quotes)\"",
   "id": "337f8248ab238947",
   "outputs": [
    {
     "data": {
      "text/plain": [
       "\"An 'r' in front of the string allows for raw strings - you don't need backslashes to escape (except for double quotes)\""
      ]
     },
     "execution_count": 30,
     "metadata": {},
     "output_type": "execute_result"
    }
   ],
   "execution_count": 30
  },
  {
   "metadata": {
    "ExecuteTime": {
     "end_time": "2024-05-13T10:54:11.252915Z",
     "start_time": "2024-05-13T10:54:11.239950Z"
    }
   },
   "cell_type": "code",
   "source": "f\"An \\'f\\' in front of the string allows to add expressions inside curly braces ({66 + 7})\"",
   "id": "bddf96bfab0a145c",
   "outputs": [
    {
     "data": {
      "text/plain": [
       "\"An 'f' in front of the string allows to add expressions inside curly braces (73)\""
      ]
     },
     "execution_count": 31,
     "metadata": {},
     "output_type": "execute_result"
    }
   ],
   "execution_count": 31
  },
  {
   "metadata": {},
   "cell_type": "markdown",
   "source": "## Quick note on variables:",
   "id": "19940cb428e1292d"
  },
  {
   "metadata": {
    "ExecuteTime": {
     "end_time": "2024-05-13T10:54:11.299319Z",
     "start_time": "2024-05-13T10:54:11.287352Z"
    }
   },
   "cell_type": "code",
   "source": "x = 5678  # no declaration, name it and give it a value!",
   "id": "a80a4fcdf9a5555c",
   "outputs": [],
   "execution_count": 32
  },
  {
   "metadata": {
    "ExecuteTime": {
     "end_time": "2024-05-13T10:54:11.405020Z",
     "start_time": "2024-05-13T10:54:11.395048Z"
    }
   },
   "cell_type": "code",
   "source": "x  # give a name, that's how to unwrap the value",
   "id": "484846c16de189d7",
   "outputs": [
    {
     "data": {
      "text/plain": [
       "5678"
      ]
     },
     "execution_count": 33,
     "metadata": {},
     "output_type": "execute_result"
    }
   ],
   "execution_count": 33
  }
 ],
 "metadata": {
  "kernelspec": {
   "display_name": "Python 3",
   "language": "python",
   "name": "python3"
  },
  "language_info": {
   "codemirror_mode": {
    "name": "ipython",
    "version": 2
   },
   "file_extension": ".py",
   "mimetype": "text/x-python",
   "name": "python",
   "nbconvert_exporter": "python",
   "pygments_lexer": "ipython2",
   "version": "2.7.6"
  }
 },
 "nbformat": 4,
 "nbformat_minor": 5
}
