{
 "cells": [
  {
   "metadata": {},
   "cell_type": "markdown",
   "source": [
    "# There are two ways of controlling flow - diversion (branching) and repetition (iteration)\n",
    "\n",
    "Note that when creating a new scope (inside branches, loops, and later we will see it in functions and classes)"
   ],
   "id": "27eed9ffa3e53729"
  },
  {
   "metadata": {},
   "cell_type": "markdown",
   "source": "## branching uses 'if', 'elif' and 'else'",
   "id": "d4556c1a90f85cf1"
  },
  {
   "metadata": {
    "ExecuteTime": {
     "end_time": "2024-05-13T11:05:45.337363Z",
     "start_time": "2024-05-13T11:05:45.305448Z"
    }
   },
   "cell_type": "code",
   "source": [
    "x = 50\n",
    "if x > 50:\n",
    "    message = \"Great Job!\"\n",
    "elif x > 40:\n",
    "    message = \"Good Job!\"\n",
    "elif x > 30:\n",
    "    message = \"Okay...\"\n",
    "else:\n",
    "    message = \"Get better\"\n",
    "message"
   ],
   "id": "e7668796d99d9fb",
   "outputs": [
    {
     "data": {
      "text/plain": [
       "'Good Job!'"
      ]
     },
     "execution_count": 1,
     "metadata": {},
     "output_type": "execute_result"
    }
   ],
   "execution_count": 1
  },
  {
   "metadata": {},
   "cell_type": "markdown",
   "source": "## Iteration uses 'for' and 'while' ",
   "id": "244db5337b687bd7"
  },
  {
   "metadata": {
    "ExecuteTime": {
     "end_time": "2024-05-13T11:05:45.352323Z",
     "start_time": "2024-05-13T11:05:45.339358Z"
    }
   },
   "cell_type": "code",
   "source": [
    "count = 0\n",
    "for letter in message:\n",
    "    count += 1  ## this is a shorthand for count = count + 1\n",
    "count"
   ],
   "id": "284189d91ac544c8",
   "outputs": [
    {
     "data": {
      "text/plain": [
       "9"
      ]
     },
     "execution_count": 2,
     "metadata": {},
     "output_type": "execute_result"
    }
   ],
   "execution_count": 2
  },
  {
   "metadata": {
    "ExecuteTime": {
     "end_time": "2024-05-13T11:05:45.367283Z",
     "start_time": "2024-05-13T11:05:45.354318Z"
    }
   },
   "cell_type": "code",
   "source": [
    "y = 3\n",
    "for i in range(2, 8):  # note that range does NOT hit the end value\n",
    "    y *= i\n",
    "y"
   ],
   "id": "61f0ccd125ebed5b",
   "outputs": [
    {
     "data": {
      "text/plain": [
       "15120"
      ]
     },
     "execution_count": 3,
     "metadata": {},
     "output_type": "execute_result"
    }
   ],
   "execution_count": 3
  },
  {
   "metadata": {
    "ExecuteTime": {
     "end_time": "2024-05-13T11:05:45.382244Z",
     "start_time": "2024-05-13T11:05:45.369278Z"
    }
   },
   "cell_type": "code",
   "source": [
    "x = 100\n",
    "while x > 0:\n",
    "    x -= 10\n",
    "x"
   ],
   "id": "39dd6d02b6f0388e",
   "outputs": [
    {
     "data": {
      "text/plain": [
       "0"
      ]
     },
     "execution_count": 4,
     "metadata": {},
     "output_type": "execute_result"
    }
   ],
   "execution_count": 4
  },
  {
   "metadata": {
    "ExecuteTime": {
     "end_time": "2024-05-13T11:05:45.397518Z",
     "start_time": "2024-05-13T11:05:45.384238Z"
    }
   },
   "cell_type": "code",
   "source": [
    "x = 8\n",
    "while x > 5:\n",
    "    x += 1  # uh oh! infinite loop!\n",
    "    if x == 300:\n",
    "        break  # luckily this allows us to exit\n",
    "x"
   ],
   "id": "7e009911a31bf31a",
   "outputs": [
    {
     "data": {
      "text/plain": [
       "300"
      ]
     },
     "execution_count": 5,
     "metadata": {},
     "output_type": "execute_result"
    }
   ],
   "execution_count": 5
  }
 ],
 "metadata": {
  "kernelspec": {
   "display_name": "Python 3",
   "language": "python",
   "name": "python3"
  },
  "language_info": {
   "codemirror_mode": {
    "name": "ipython",
    "version": 2
   },
   "file_extension": ".py",
   "mimetype": "text/x-python",
   "name": "python",
   "nbconvert_exporter": "python",
   "pygments_lexer": "ipython2",
   "version": "2.7.6"
  }
 },
 "nbformat": 4,
 "nbformat_minor": 5
}
