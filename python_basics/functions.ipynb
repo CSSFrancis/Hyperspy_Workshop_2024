{
 "cells": [
  {
   "metadata": {},
   "cell_type": "markdown",
   "source": "# Functions allow us to separate common routines into blocks",
   "id": "109d82c8ae7e2165"
  },
  {
   "metadata": {
    "ExecuteTime": {
     "end_time": "2024-05-13T11:31:00.849224Z",
     "start_time": "2024-05-13T11:31:00.837257Z"
    }
   },
   "cell_type": "code",
   "source": [
    "def add(a, b):\n",
    "    return a + b  # the return allows us to emit data back to whichever line called the function"
   ],
   "id": "dbbe00fcec29deb1",
   "outputs": [],
   "execution_count": 1
  },
  {
   "metadata": {
    "ExecuteTime": {
     "end_time": "2024-05-13T11:31:00.864185Z",
     "start_time": "2024-05-13T11:31:00.851219Z"
    }
   },
   "cell_type": "code",
   "source": "add  # doesn't call anything... functions act like variables - they wrap a bit of code rather than a value",
   "id": "e95d69457891c610",
   "outputs": [
    {
     "data": {
      "text/plain": [
       "<function __main__.add(a, b)>"
      ]
     },
     "execution_count": 2,
     "metadata": {},
     "output_type": "execute_result"
    }
   ],
   "execution_count": 2
  },
  {
   "metadata": {
    "ExecuteTime": {
     "end_time": "2024-05-13T11:31:00.879145Z",
     "start_time": "2024-05-13T11:31:00.865182Z"
    }
   },
   "cell_type": "code",
   "source": "add(1, 2)  # now these brackets call the function!",
   "id": "9c4741f6e185a57a",
   "outputs": [
    {
     "data": {
      "text/plain": [
       "3"
      ]
     },
     "execution_count": 3,
     "metadata": {},
     "output_type": "execute_result"
    }
   ],
   "execution_count": 3
  },
  {
   "metadata": {},
   "cell_type": "markdown",
   "source": [
    "## The issue is, they're not very descriptive!\n",
    "We can add docstrings (documentation comments)... \n",
    "But sometimes we just want a little bit of help, not a full essay!\n",
    "\n",
    "## So we add 'type hints' little hints as to the expected inputs and outputs"
   ],
   "id": "fdff9d0386dc8e5f"
  },
  {
   "metadata": {
    "ExecuteTime": {
     "end_time": "2024-05-13T11:31:00.894104Z",
     "start_time": "2024-05-13T11:31:00.881140Z"
    }
   },
   "cell_type": "code",
   "source": [
    "def multiply(x1: float, x2: float) -> float:\n",
    "    return x1 * x2\n",
    "\n",
    "\n",
    "multiply(2.3, 3)  # note that an integer is automatically upscaled to a float!"
   ],
   "id": "9cc868b10fd14409",
   "outputs": [
    {
     "data": {
      "text/plain": [
       "6.8999999999999995"
      ]
     },
     "execution_count": 4,
     "metadata": {},
     "output_type": "execute_result"
    }
   ],
   "execution_count": 4
  },
  {
   "metadata": {},
   "cell_type": "markdown",
   "source": "## Unfortunately, hints are just hints - they are not enforced!",
   "id": "70f06476c66c1477"
  },
  {
   "metadata": {
    "ExecuteTime": {
     "end_time": "2024-05-13T11:31:01.402746Z",
     "start_time": "2024-05-13T11:31:00.896099Z"
    }
   },
   "cell_type": "code",
   "source": "multiply(\"I'm a string!!!\", [\"Here\", \"is\", \"a\", \"list\", \"(of strings)\"])",
   "id": "5b968588bd44610a",
   "outputs": [
    {
     "ename": "TypeError",
     "evalue": "can't multiply sequence by non-int of type 'list'",
     "output_type": "error",
     "traceback": [
      "\u001B[1;31m---------------------------------------------------------------------------\u001B[0m",
      "\u001B[1;31mTypeError\u001B[0m                                 Traceback (most recent call last)",
      "Cell \u001B[1;32mIn[5], line 1\u001B[0m\n\u001B[1;32m----> 1\u001B[0m \u001B[43mmultiply\u001B[49m\u001B[43m(\u001B[49m\u001B[38;5;124;43m\"\u001B[39;49m\u001B[38;5;124;43mI\u001B[39;49m\u001B[38;5;124;43m'\u001B[39;49m\u001B[38;5;124;43mm a string!!!\u001B[39;49m\u001B[38;5;124;43m\"\u001B[39;49m\u001B[43m,\u001B[49m\u001B[43m \u001B[49m\u001B[43m[\u001B[49m\u001B[38;5;124;43m\"\u001B[39;49m\u001B[38;5;124;43mHere\u001B[39;49m\u001B[38;5;124;43m\"\u001B[39;49m\u001B[43m,\u001B[49m\u001B[43m \u001B[49m\u001B[38;5;124;43m\"\u001B[39;49m\u001B[38;5;124;43mis\u001B[39;49m\u001B[38;5;124;43m\"\u001B[39;49m\u001B[43m,\u001B[49m\u001B[43m \u001B[49m\u001B[38;5;124;43m\"\u001B[39;49m\u001B[38;5;124;43ma\u001B[39;49m\u001B[38;5;124;43m\"\u001B[39;49m\u001B[43m,\u001B[49m\u001B[43m \u001B[49m\u001B[38;5;124;43m\"\u001B[39;49m\u001B[38;5;124;43mlist\u001B[39;49m\u001B[38;5;124;43m\"\u001B[39;49m\u001B[43m,\u001B[49m\u001B[43m \u001B[49m\u001B[38;5;124;43m\"\u001B[39;49m\u001B[38;5;124;43m(of strings)\u001B[39;49m\u001B[38;5;124;43m\"\u001B[39;49m\u001B[43m]\u001B[49m\u001B[43m)\u001B[49m\n",
      "Cell \u001B[1;32mIn[4], line 2\u001B[0m, in \u001B[0;36mmultiply\u001B[1;34m(x1, x2)\u001B[0m\n\u001B[0;32m      1\u001B[0m \u001B[38;5;28;01mdef\u001B[39;00m \u001B[38;5;21mmultiply\u001B[39m(x1: \u001B[38;5;28mfloat\u001B[39m, x2: \u001B[38;5;28mfloat\u001B[39m) \u001B[38;5;241m-\u001B[39m\u001B[38;5;241m>\u001B[39m \u001B[38;5;28mfloat\u001B[39m:\n\u001B[1;32m----> 2\u001B[0m     \u001B[38;5;28;01mreturn\u001B[39;00m \u001B[43mx1\u001B[49m\u001B[43m \u001B[49m\u001B[38;5;241;43m*\u001B[39;49m\u001B[43m \u001B[49m\u001B[43mx2\u001B[49m\n",
      "\u001B[1;31mTypeError\u001B[0m: can't multiply sequence by non-int of type 'list'"
     ]
    }
   ],
   "execution_count": 5
  },
  {
   "metadata": {},
   "cell_type": "markdown",
   "source": "# Advanced function usage: nesting, higher order functions",
   "id": "203b000e8211ff"
  },
  {
   "metadata": {
    "ExecuteTime": {
     "end_time": "2024-05-13T11:31:03.171066Z",
     "start_time": "2024-05-13T11:31:03.166079Z"
    }
   },
   "cell_type": "code",
   "source": [
    "def i_take_a_function(fn):\n",
    "    return fn(1, 2, 3)\n",
    "\n",
    "\n",
    "i_take_a_function(print)  # print allows us to output values"
   ],
   "id": "afb0e37acd2077ff",
   "outputs": [
    {
     "name": "stdout",
     "output_type": "stream",
     "text": [
      "1 2 3\n"
     ]
    }
   ],
   "execution_count": 6
  },
  {
   "metadata": {
    "ExecuteTime": {
     "end_time": "2024-05-13T11:31:15.771928Z",
     "start_time": "2024-05-13T11:31:15.759959Z"
    }
   },
   "cell_type": "code",
   "source": [
    "def i_return_a_function():\n",
    "    return sum  # sum allows us to add elements passed to it\n",
    "\n",
    "\n",
    "i_return_a_function()([1, 2, 3])\n",
    "# double brackets - we are calling a function (i_return_a_function) which returns a function (sum) that we need to call!"
   ],
   "id": "80768967744d304d",
   "outputs": [
    {
     "data": {
      "text/plain": [
       "6"
      ]
     },
     "execution_count": 7,
     "metadata": {},
     "output_type": "execute_result"
    }
   ],
   "execution_count": 7
  },
  {
   "metadata": {
    "ExecuteTime": {
     "end_time": "2024-05-13T11:31:18.588661Z",
     "start_time": "2024-05-13T11:31:18.582678Z"
    }
   },
   "cell_type": "code",
   "source": [
    "def i_make_a_function(multiplier: int):\n",
    "    def inner(collection: str) -> str:\n",
    "        return collection * multiplier  # we can access parameters from enclosing functions!!\n",
    "\n",
    "    print(inner(\"abc\"))\n",
    "\n",
    "\n",
    "i_make_a_function(3)"
   ],
   "id": "3607f288215c43ac",
   "outputs": [
    {
     "name": "stdout",
     "output_type": "stream",
     "text": [
      "abcabcabc\n"
     ]
    }
   ],
   "execution_count": 8
  },
  {
   "metadata": {
    "ExecuteTime": {
     "end_time": "2024-05-13T11:31:19.456418Z",
     "start_time": "2024-05-13T11:31:19.438466Z"
    }
   },
   "cell_type": "code",
   "source": [
    "def i_do_all_3(fn):\n",
    "    def inner() -> int:\n",
    "        print(f\"I call {fn} using the list [\\\"a\\\", \\\"b\\\", \\\"c\\\"]\")\n",
    "        fn([\"a\", \"b\", \"c\"])\n",
    "        print(\"Now, I return 1\")\n",
    "        return 1\n",
    "\n",
    "    return inner\n",
    "\n",
    "\n",
    "i_do_all_3(print)()"
   ],
   "id": "eccb029bb7e67108",
   "outputs": [
    {
     "name": "stdout",
     "output_type": "stream",
     "text": [
      "I call <built-in function print> using the list [\"a\", \"b\", \"c\"]\n",
      "['a', 'b', 'c']\n",
      "Now, I return 1\n"
     ]
    },
    {
     "data": {
      "text/plain": [
       "1"
      ]
     },
     "execution_count": 9,
     "metadata": {},
     "output_type": "execute_result"
    }
   ],
   "execution_count": 9
  },
  {
   "metadata": {},
   "cell_type": "markdown",
   "source": "## We can use the typing module to add a type hint for these advanced functions",
   "id": "a827045b4df9852d"
  },
  {
   "metadata": {
    "ExecuteTime": {
     "end_time": "2024-05-13T11:31:21.524982Z",
     "start_time": "2024-05-13T11:31:21.513014Z"
    }
   },
   "cell_type": "code",
   "source": [
    "import typing\n",
    "\n",
    "\n",
    "# i_do_all_3 takes in a parameter for a function.\n",
    "# This function (fn) should have a singular parameter for a list, and return nothing\n",
    "# i_do_all_3 returns a function that has no parameters, and returns an integer\n",
    "def i_do_all_3(fn: typing.Callable[[list], None]) -> typing.Callable[[], int]:\n",
    "    def inner() -> int:\n",
    "        print(f\"I call {fn} using the list [\\\"a\\\", \\\"b\\\", \\\"c\\\"]\")\n",
    "        fn([\"a\", \"b\", \"c\"])\n",
    "        print(\"Now, I return 1\")\n",
    "        return 1\n",
    "\n",
    "    return inner\n",
    "\n",
    "\n",
    "i_do_all_3(print)() "
   ],
   "id": "55fc8a998bb44a61",
   "outputs": [
    {
     "name": "stdout",
     "output_type": "stream",
     "text": [
      "I call <built-in function print> using the list [\"a\", \"b\", \"c\"]\n",
      "['a', 'b', 'c']\n",
      "Now, I return 1\n"
     ]
    },
    {
     "data": {
      "text/plain": [
       "1"
      ]
     },
     "execution_count": 10,
     "metadata": {},
     "output_type": "execute_result"
    }
   ],
   "execution_count": 10
  }
 ],
 "metadata": {
  "kernelspec": {
   "display_name": "Python 3",
   "language": "python",
   "name": "python3"
  },
  "language_info": {
   "codemirror_mode": {
    "name": "ipython",
    "version": 2
   },
   "file_extension": ".py",
   "mimetype": "text/x-python",
   "name": "python",
   "nbconvert_exporter": "python",
   "pygments_lexer": "ipython2",
   "version": "2.7.6"
  }
 },
 "nbformat": 4,
 "nbformat_minor": 5
}
