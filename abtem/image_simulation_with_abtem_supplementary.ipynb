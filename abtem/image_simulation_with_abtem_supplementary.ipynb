{
 "cells": [
  {
   "cell_type": "markdown",
   "id": "9747384f-1502-4af1-b948-9b5718ca0ad0",
   "metadata": {},
   "source": [
    "# Introduction to multislice simulations with *ab*TEM - supplementary\n",
    "\n",
    "This tutorial is a supplement of a short introduction to image simulation with *ab*TEM covering slightly more advanced topics. The tutorial covers 4D-STEM, frozen phonons and PRISM.\n",
    "\n",
    "### Contents:\n",
    "\n",
    "1. <a href='#4d_stem'> 4D-STEM\n",
    "2. <a href='#frozen_phonons'> The frozen phonon model\n",
    "3. <a href='#prism'> Large STEM simulation with PRISM\n",
    "4. <a href='#parallel'> Parallelization\n",
    "\n",
    "### Author:\n",
    "* 13/05/2024 Jacob Madsen - For the HyperSpy workshop at ePSIC 2024"
   ]
  },
  {
   "cell_type": "code",
   "execution_count": null,
   "id": "d84ec4cc-e4b5-4350-a701-4dc1b9a5254a",
   "metadata": {},
   "outputs": [],
   "source": [
    "%matplotlib widget\n",
    "\n",
    "import matplotlib.pyplot as plt\n",
    "import numpy as np\n",
    "\n",
    "import ase\n",
    "import abtem\n",
    "\n",
    "abtem.config.set({\"device\": \"cpu\"})\n",
    "abtem.config.set({\"fft\": \"fftw\"})"
   ]
  },
  {
   "cell_type": "markdown",
   "id": "1b4cd1e0-9c64-4ae5-bfee-4209392916a8",
   "metadata": {},
   "source": [
    "We recreate some the simulation objects from the basics tutorial. "
   ]
  },
  {
   "cell_type": "code",
   "execution_count": null,
   "id": "9d084962-c600-4928-9877-704ccbbbfaaf",
   "metadata": {},
   "outputs": [],
   "source": [
    "atoms = ase.io.read(\"sto_lto.cif\")\n",
    "\n",
    "abtem.show_atoms(atoms)"
   ]
  },
  {
   "cell_type": "code",
   "execution_count": null,
   "id": "2db6bca3-470d-4a91-a1e7-9b2fb96ac5ff",
   "metadata": {},
   "outputs": [],
   "source": [
    "atoms = ase.io.read(\"sto_lto.cif\")\n",
    "\n",
    "potential = abtem.Potential(atoms, sampling=0.05, slice_thickness=2)\n",
    "\n",
    "probe = abtem.Probe(energy=150e3, defocus=50, semiangle_cutoff=20)\n",
    "\n",
    "scan = abtem.GridScan(\n",
    "    start=(0, 0),\n",
    "    end=(1 / 3, 1),\n",
    "    sampling=probe.ctf.nyquist_sampling,\n",
    "    fractional=True,\n",
    "    potential=potential,\n",
    ")"
   ]
  },
  {
   "cell_type": "markdown",
   "id": "de4d3d53-ded5-44a8-984c-83373f0cb9f5",
   "metadata": {},
   "source": [
    "## 4D-STEM <a id='4d_stem'></a>\n",
    "\n",
    "To run a 4D-STEM simulation, we only need to change the `AnnularDetector` to a `PixelatedDetector`. The `PixelatedDetector` will by default detect the diffraction patterns up the angle corrsponding to the largest rectangle inside the antialiasing limit, however, we can choose another maximum angle by setting the `max_angle` argument.\n",
    "\n",
    "Here we set the maximum angle to $100 \\ \\mathrm{mrad}$."
   ]
  },
  {
   "cell_type": "code",
   "execution_count": null,
   "id": "46daf01c-bd79-47ce-b8e4-c2961edcba2b",
   "metadata": {},
   "outputs": [],
   "source": [
    "detector = abtem.PixelatedDetector(max_angle=100)"
   ]
  },
  {
   "cell_type": "markdown",
   "id": "ca97d42f-f915-41f2-b967-abf7cbb9d887",
   "metadata": {},
   "source": [
    "We build a scanned multislice simulation, the result is a 4D array with $15\\times 43$ probe positions each producing a $116\\times 107$ diffraction pattern."
   ]
  },
  {
   "cell_type": "code",
   "execution_count": null,
   "id": "5c13d5d4-c69c-4f40-9b8e-a8d5d0bdeae3",
   "metadata": {},
   "outputs": [],
   "source": [
    "measurement_4d = probe.scan(scan=scan, potential=potential, detectors=detector)\n",
    "\n",
    "measurement_4d.array"
   ]
  },
  {
   "cell_type": "markdown",
   "id": "00fa165d-3f87-43da-8a2f-2aca0a93214b",
   "metadata": {},
   "source": [
    "The size of the dataset is quite manageable in this case, however, 4D-STEM dataset can grow quite large, hence, it is often preferable to write the simulation results directly to disk instead of the memory. *ab*TEM uses Dask and [zarr](https://zarr.readthedocs.io/en/stable/) to efficiently read and write in manageable chunks, in this case 8 chunks across the scan dimensions."
   ]
  },
  {
   "cell_type": "code",
   "execution_count": null,
   "id": "d87332a0-e83e-459b-81a1-e1fb1821811c",
   "metadata": {},
   "outputs": [],
   "source": [
    "measurement_4d.to_zarr(\"measurement_4d.zarr\")"
   ]
  },
  {
   "cell_type": "markdown",
   "id": "8b427f76-23f3-476d-b4ae-ce9238da53a1",
   "metadata": {},
   "source": [
    "We use the `from_zarr` function to lazily read back the results. "
   ]
  },
  {
   "cell_type": "code",
   "execution_count": null,
   "id": "b4b80fe5-0d3d-4ee4-866f-b07b80672448",
   "metadata": {
    "tags": []
   },
   "outputs": [],
   "source": [
    "measurement_4d = abtem.from_zarr(\"measurement_4d.zarr\")\n",
    "measurement_4d.array"
   ]
  },
  {
   "cell_type": "markdown",
   "id": "0ae53978-e221-4d17-a39d-684ff1bf993a",
   "metadata": {},
   "source": [
    "To read the entire measurement from disk into memory, we can run `.compute`, however, this is often unecessary as most of the *ab*TEM features works with lazy measurements. \n",
    "\n",
    "We show the diffraction patterns using an interactive visualization reading each chunk directly from disk."
   ]
  },
  {
   "cell_type": "code",
   "execution_count": null,
   "id": "7dbc7378-8f9f-4097-bcfa-665d23659252",
   "metadata": {},
   "outputs": [],
   "source": [
    "measurement_4d.show(interact=True)"
   ]
  },
  {
   "cell_type": "markdown",
   "id": "144dcf2a-8e40-4935-96c6-258056c0f7de",
   "metadata": {},
   "source": [
    "We can of course also index the dataset to retrieve a specific diffraction pattern."
   ]
  },
  {
   "cell_type": "code",
   "execution_count": null,
   "id": "0b1a120e-4122-4f9d-90d7-9e57a510f1f9",
   "metadata": {},
   "outputs": [],
   "source": [
    "measurement_4d[1, 1].show();"
   ]
  },
  {
   "cell_type": "markdown",
   "id": "a526da52-be88-49cc-a151-c1f60ca7a12d",
   "metadata": {},
   "source": [
    "Since we have the full diffraction pattern, we can integration between any to scattering angles within the maximum detected angle.\n",
    "\n",
    "To do this we first need to bin the diffraction patterns radially. We specify 100 radial bins and 1 azimuthal bin."
   ]
  },
  {
   "cell_type": "code",
   "execution_count": null,
   "id": "b2f25f54-a316-432e-a02b-9ca953b03f01",
   "metadata": {},
   "outputs": [],
   "source": [
    "polar_binned = measurement_4d.polar_binning(nbins_radial=100, nbins_azimuthal=1)\n",
    "\n",
    "polar_binned.array"
   ]
  },
  {
   "cell_type": "markdown",
   "id": "ddf10467-eddb-4038-bde2-d7f79069ce82",
   "metadata": {},
   "source": [
    "The `to_image_ensemble` creates a representation of the polar binned diffraction patterns for displaying interactively. We interpolate and tile to get a better visualization."
   ]
  },
  {
   "cell_type": "code",
   "execution_count": null,
   "id": "0e427257-a777-484a-abf5-baaeda550fbc",
   "metadata": {},
   "outputs": [],
   "source": [
    "binned_images = polar_binned.to_image_ensemble().compute().interpolate(0.1).tile((3, 1))\n",
    "\n",
    "binned_images.show(interact=True)"
   ]
  },
  {
   "cell_type": "markdown",
   "id": "383deba4-eb30-4f20-9bae-895dbbdc240c",
   "metadata": {},
   "source": [
    "In 4D-STEM, some algorithm is typically used for reducing the dataset to 2D. *ab*TEM includes some basic algorithms for reduction of 4D-STEM, for more advanced algorithms you may want to try a package dedicated to 4D-STEM.\n",
    "\n",
    "The center of mass, $\\vec{I}_{com}(\\vec{r}_p)$, of the diffraction pattern at a probe position, $\\vec{r}_p$, may be calculated as\n",
    "\n",
    "$$\n",
    "    \\vec{I}_{com}(\\vec{r}_p) = \\int \\hat{I}(\\vec{k}, \\vec{r}_p) \\vec{k} d^2\\vec{k} \\quad ,\n",
    "$$\n",
    "\n",
    "where $\\hat{I}(\\vec{k})$ is a diffraction pattern intensity. Doing this for every diffraction pattern, we obtain the image shown below. The center of mass is returned as complex `Images`, where the real and imaginary parts correspond to the $x$- and $y$-direction, respectively. We set `units=\"reciprocal\"`, hence each complex component is in units of $\\mathrm{Å}^{-1}$."
   ]
  },
  {
   "cell_type": "code",
   "execution_count": null,
   "id": "31380880-8e5b-4b1a-b7c9-ea80742451ac",
   "metadata": {},
   "outputs": [],
   "source": [
    "center_of_mass = measurement_4d.center_of_mass(units=\"1/Å\")\n",
    "center_of_mass.array"
   ]
  },
  {
   "cell_type": "markdown",
   "id": "c79403e8-0be2-43cc-8d3d-37b29623e4a6",
   "metadata": {},
   "source": [
    "We interpolate and tile before showing the real part of the COM."
   ]
  },
  {
   "cell_type": "code",
   "execution_count": null,
   "id": "c8240e4f-37ff-4fab-af47-b4864bdfc1a4",
   "metadata": {},
   "outputs": [],
   "source": [
    "interpolated_center_of_mass = center_of_mass.interpolate(0.1).tile((3, 1))\n",
    "\n",
    "interpolated_center_of_mass.real().show(title=\"COM real part\", cbar=True);"
   ]
  },
  {
   "cell_type": "markdown",
   "id": "fa6725b0-4e17-4de7-9378-d8d34f30db31",
   "metadata": {},
   "source": [
    "We can show both real and imaginary components using [domain coloring](https://en.wikipedia.org/wiki/Domain_coloring)."
   ]
  },
  {
   "cell_type": "code",
   "execution_count": null,
   "id": "954a3cd6-f740-49a2-a69a-df1a2ae22ba8",
   "metadata": {},
   "outputs": [],
   "source": [
    "interpolated_center_of_mass.show(cbar=True, cmap=\"hsluv\", title=\"COM domain coloring\");"
   ]
  },
  {
   "cell_type": "markdown",
   "id": "6a63d72d-3ed2-4424-895a-eb36581e029e",
   "metadata": {},
   "source": [
    "It may be shown, in the weak-phase approximation, that by integrating $\\vec{I}_{com}(\\vec{r}_p)$, we can obtain the phase change of the exit wave, $\\phi(\\vec{r_p})$, cross-correlated with the probe intensity\n",
    "\n",
    "$$\n",
    "\\vec{I}_{iCOM}(\\vec{r}_p) = \\frac{1}{2\\pi} \\left[\\|\\psi_0(\\vec{r})\\|^2 \\star \\phi(\\vec{r})\\right](\\vec{r}_p) \\quad .\n",
    "$$\n",
    "\n",
    "This is the so-called integrated center of mass. We can calculate this using the `integrate_gradient` method, which assumes a complex `Image`."
   ]
  },
  {
   "cell_type": "code",
   "execution_count": null,
   "id": "ef793b98-9b2c-47b3-8083-e4cfe61a8f4b",
   "metadata": {},
   "outputs": [],
   "source": [
    "integrated_gradient = interpolated_center_of_mass.integrate_gradient()\n",
    "\n",
    "integrated_gradient.show();"
   ]
  },
  {
   "cell_type": "markdown",
   "id": "8b0128ca-f80b-460f-9959-869aafad0a5f",
   "metadata": {},
   "source": [
    "## The frozen phonon model <a id='frozen_phonons'></a>\n",
    "The atoms in any real material at a particular instance of time are not exactly located at their symmetrical lattice points due to thermal vibrations. In the Frozen phonon approximation, the effect of thermal vibrations are simulated by the _intensities_ averaged over several different configurations of atoms with different random offsets. \n",
    "\n",
    "To simulate frozen phonons the `Atoms` are wrapped with a `FrozenPhonons` object, where we also need to provide the magnitude of the thermal vibrations for each atomic species and the number of configurations we average over. Including more configurations will be more accurate, but of course also more expensive to calculate. \n",
    "\n",
    "Getting the right magnitude of thermal vibrations for a particular material, is not always trivial, here we just use the same reasonable value of $0.1 \\ \\mathrm{Å}$ for all the atomic numbers. We set the number og random structures in the thermal ensemble to 8."
   ]
  },
  {
   "cell_type": "code",
   "execution_count": null,
   "id": "37947d22-4927-4142-a5da-8e086278d960",
   "metadata": {},
   "outputs": [],
   "source": [
    "atoms"
   ]
  },
  {
   "cell_type": "code",
   "execution_count": null,
   "id": "dadc9094-a09a-4b2c-8fcb-d0f80dfa2a45",
   "metadata": {},
   "outputs": [],
   "source": [
    "sigmas = {\"O\": .1, \"Sr\": .1, \"La\":.1, \"Ti\":.1}\n",
    "\n",
    "frozen_phonons = abtem.FrozenPhonons(atoms * (1, 1, 4), sigmas=sigmas, num_configs=8)"
   ]
  },
  {
   "cell_type": "markdown",
   "id": "7bac3834-e30d-418e-8316-12ba1b660ed8",
   "metadata": {},
   "source": [
    "We can draw a particular frozen phonon configuration by iterating."
   ]
  },
  {
   "cell_type": "code",
   "execution_count": null,
   "id": "70681f6a-d7d4-40a4-928f-97b0a7aef848",
   "metadata": {},
   "outputs": [],
   "source": [
    "iterator = iter(frozen_phonons)"
   ]
  },
  {
   "cell_type": "code",
   "execution_count": null,
   "id": "af22a6e5-f552-4b28-bed1-d0f77812f07e",
   "metadata": {},
   "outputs": [],
   "source": [
    "config = next(iterator)\n",
    "\n",
    "abtem.show_atoms(config, scale=.5);"
   ]
  },
  {
   "cell_type": "markdown",
   "id": "c967f4cf-2ed4-45e3-8161-9230fc479cb4",
   "metadata": {},
   "source": [
    "The potential can be created as above, we just provide the frozen phonons instead of the atoms. "
   ]
  },
  {
   "cell_type": "code",
   "execution_count": null,
   "id": "a26de0eb-bb1f-4c0a-8d79-92ebb60ff552",
   "metadata": {},
   "outputs": [],
   "source": [
    "frozen_phonon_potential = abtem.Potential(\n",
    "    frozen_phonons, sampling=0.05, slice_thickness=2\n",
    ")"
   ]
  },
  {
   "cell_type": "code",
   "execution_count": null,
   "id": "d524d162-c073-4ea7-b358-47662e03e52c",
   "metadata": {},
   "outputs": [],
   "source": [
    "frozen_phonon_potential.build().project().compute().show(interact=True)"
   ]
  },
  {
   "cell_type": "markdown",
   "id": "7ee6fe1a-c8e8-433f-9488-4215108998ff",
   "metadata": {},
   "source": [
    "The potential object can be used in the same way as above, here we do a CBED simulation for each thermal snapshot. The result is an ensemble of 8 wave functions."
   ]
  },
  {
   "cell_type": "code",
   "execution_count": null,
   "id": "9ee75d8b-2362-442e-b6e1-083c2c279d80",
   "metadata": {},
   "outputs": [],
   "source": [
    "exit_waves = probe.multislice(potential=frozen_phonon_potential)\n",
    "\n",
    "exit_waves.array"
   ]
  },
  {
   "cell_type": "code",
   "execution_count": null,
   "id": "a0cf8fae-599c-463b-941f-2980d8733fdd",
   "metadata": {},
   "outputs": [],
   "source": [
    "exit_waves.compute()"
   ]
  },
  {
   "cell_type": "markdown",
   "id": "986e39c5-25d5-4e34-8dee-ecfe355bdb15",
   "metadata": {},
   "source": [
    "We show the ensemble of wave functions interactively."
   ]
  },
  {
   "cell_type": "code",
   "execution_count": null,
   "id": "59b27c49-8ad4-44e3-8640-27d7ef53ed7b",
   "metadata": {},
   "outputs": [],
   "source": [
    "exit_waves.diffraction_patterns().shape"
   ]
  },
  {
   "cell_type": "code",
   "execution_count": null,
   "id": "e148d78e-8bbd-4d7c-b883-d8bdfe9d2d30",
   "metadata": {},
   "outputs": [],
   "source": [
    "exit_waves.diffraction_patterns().show(interact=True)"
   ]
  },
  {
   "cell_type": "markdown",
   "id": "4921e96e-d141-46fc-9b87-2a3209c7b1bc",
   "metadata": {},
   "source": [
    "To get final diffraction pattern, we take the mean over the ensemble dimension.\n",
    "\n",
    "__Note__: some imaging modes will average over frozen phonons by default to conserve memory."
   ]
  },
  {
   "cell_type": "code",
   "execution_count": null,
   "id": "1a696a0c-1a66-4bd5-8643-f6938feecbe4",
   "metadata": {},
   "outputs": [],
   "source": [
    "probe.cutoff_angles"
   ]
  },
  {
   "cell_type": "code",
   "execution_count": null,
   "id": "0f3137db-904c-403a-8bfe-8ec4d3ea7240",
   "metadata": {},
   "outputs": [],
   "source": [
    "mean_diffraction_pattern = exit_waves.diffraction_patterns().mean(0)"
   ]
  },
  {
   "cell_type": "code",
   "execution_count": null,
   "id": "b70fd4d2-bc76-4a65-8e77-047643175d2e",
   "metadata": {},
   "outputs": [],
   "source": [
    "#exit_waves.diffraction_patterns()."
   ]
  },
  {
   "cell_type": "markdown",
   "id": "e05e1484-caaa-4e0b-93fe-2f0234ec43b3",
   "metadata": {},
   "source": [
    "We show the resulting diffraction pattern on a power scale."
   ]
  },
  {
   "cell_type": "code",
   "execution_count": null,
   "id": "ad7053ef-df2c-4991-a1b0-5437c1c04947",
   "metadata": {},
   "outputs": [],
   "source": [
    "mean_diffraction_pattern.show(power=0.25, units=\"mrad\");"
   ]
  },
  {
   "cell_type": "markdown",
   "id": "c3732a10-071f-4eb3-8787-e7ac7d9f7867",
   "metadata": {},
   "source": [
    "## Large STEM simulation with PRISM <a id='prism'></a>\n",
    "Multslice simulations of STEM images can be very slow because the scattering of the electron probe is calculated from scratch at each pixel of the image. An alternative is to use the [PRISM algorithm](https://prism-em.com). \n",
    "\n",
    "The PRISM algorithm for STEM simulations may be summarised as two consecutive stages: \n",
    "\n",
    "__Multislice stage:__ Build the PRISM scattering matrix by applying the multislice algorithm to each component of a plane wave expansion of the incoming probe.\n",
    "\n",
    "__Reduction stage:__ For each probe position, perform a reduction with a set of expansion coefficients determined by the probe position and phase aberrations.\n",
    "\n",
    "PRISM almost always provides a decent speed-up for images with many probe positions, and allows for huge speedups, at a modest cost to accuracy, by using Fourier interpolation.\n",
    "\n",
    "We import the moderately large model of a nanoparticle on carbon that was constructed in \"atomic_models_with_ase.ipynb\"."
   ]
  },
  {
   "cell_type": "code",
   "execution_count": null,
   "id": "e713ad31-8b01-4622-ae4a-d83899710d50",
   "metadata": {},
   "outputs": [],
   "source": [
    "from ase.io import read\n",
    "\n",
    "cluster = read(\"cluster_on_carbon.cfg\")\n",
    "\n",
    "print(\n",
    "    \"Number of atoms: {} \\nCell: {:.2f} x {:.2f} x {:.2f}\".format(\n",
    "        len(cluster), *np.diag(cluster.cell)\n",
    "    )\n",
    ")"
   ]
  },
  {
   "cell_type": "code",
   "execution_count": null,
   "id": "f71fdb9e-5d57-4207-adbf-61c007980bca",
   "metadata": {},
   "outputs": [],
   "source": [
    "abtem.show_atoms(cluster, plane=\"xz\", title=\"Side view\")"
   ]
  },
  {
   "cell_type": "markdown",
   "id": "dc329fa5-b35a-4f67-ad56-592be47374f6",
   "metadata": {},
   "source": [
    "In *ab*TEM, the PRISM algorithm can be used by exchanging the `Probe` for the `SMatrix`. However, we need to provide the potential directly to the `SMatrix`, additionally there is new to know about, namely interpolation.\n",
    "\n",
    "Increasing the interpolation decreases the number of plane waves necessary in the plane wave expansion of the probe, hence lowering both time and memory consumption. The price is that the interpolation factor also decreases the Fourier space sampling rate, i.e. the pixels of the detected diffraction patterns becomes larger and equivalently the probe window becomes smaller."
   ]
  },
  {
   "cell_type": "code",
   "execution_count": null,
   "id": "f5441162-81b6-4ce4-946d-e8a75006aa84",
   "metadata": {},
   "outputs": [],
   "source": [
    "cluster_potential = abtem.Potential(cluster, gpts=768, slice_thickness=2)\n",
    "\n",
    "S = abtem.SMatrix(\n",
    "    potential=cluster_potential, interpolation=6, energy=150e3, semiangle_cutoff=25\n",
    ")\n",
    "\n",
    "S.cutoff_angles"
   ]
  },
  {
   "cell_type": "markdown",
   "id": "bc4c5576-320c-46fc-b966-684407693b68",
   "metadata": {},
   "source": [
    "We can get the equivalent probe produced represented by the scattering matrix using the `dummy_probes` method."
   ]
  },
  {
   "cell_type": "code",
   "execution_count": null,
   "id": "5ed09d50-329a-491b-a0aa-656bd2ac1cc9",
   "metadata": {},
   "outputs": [],
   "source": [
    "S.dummy_probes(plane=\"exit\").show()"
   ]
  },
  {
   "cell_type": "markdown",
   "id": "46aeae25-d20f-4324-90b7-ed8c78bf2b18",
   "metadata": {},
   "source": [
    "The nanoparticle is located around $60 \\ \\mathrm{Å}$ inside the cell, hence we may want to change the focus to match. Remember the convention used in *ab*TEM; positive defocus negates positive free-space propagation."
   ]
  },
  {
   "cell_type": "code",
   "execution_count": null,
   "id": "65152484-6a05-4404-bc00-5d102961ff9c",
   "metadata": {},
   "outputs": [],
   "source": [
    "ctf = abtem.CTF(defocus=[0, 70])\n",
    "\n",
    "S.dummy_probes(plane=\"exit\", ctf=ctf).show(interact=True)"
   ]
  },
  {
   "cell_type": "markdown",
   "id": "e2294377-0e37-430d-9efe-73236d1d6942",
   "metadata": {},
   "source": [
    "We can `build` the `SMatrix` to produce an `SMatrixArray`. The `SMatrixArray` wraps a 3D NumPy array where the first dimension indexes the plane wave of the plane wave expansion.\n",
    "\n",
    "We see that the expansion of our probe requires 177 plane waves."
   ]
  },
  {
   "cell_type": "code",
   "execution_count": null,
   "id": "76097c4d-0b42-4d59-8d3a-d6aaea80341b",
   "metadata": {},
   "outputs": [],
   "source": [
    "S.build().array"
   ]
  },
  {
   "cell_type": "markdown",
   "id": "c7d505ef-08c7-47a4-b36b-6da60fe0295a",
   "metadata": {},
   "source": [
    "We can access the plane waves using the `waves` property."
   ]
  },
  {
   "cell_type": "code",
   "execution_count": null,
   "id": "2a81fae1-c7eb-4c37-9ee4-2cd41b6cf5ad",
   "metadata": {},
   "outputs": [],
   "source": [
    "plane_waves = S.build().waves.compute()"
   ]
  },
  {
   "cell_type": "markdown",
   "id": "d3525ab7-89ee-473b-8e71-ae48612f7f3b",
   "metadata": {},
   "source": [
    "We show every 10'th of the plane waves using domain coloring."
   ]
  },
  {
   "cell_type": "code",
   "execution_count": null,
   "id": "38ee929a-4963-4d2f-ab13-8f1689af4591",
   "metadata": {},
   "outputs": [],
   "source": [
    "plane_waves.shape"
   ]
  },
  {
   "cell_type": "code",
   "execution_count": null,
   "id": "cb3d5d59-dad4-4e50-9abb-1a332afd8cc7",
   "metadata": {},
   "outputs": [],
   "source": [
    "plane_waves[::50].to_images().show(\n",
    "    cbar=True, cmap=\"hsv\", explode=True, common_color_scale=True\n",
    ")"
   ]
  },
  {
   "cell_type": "markdown",
   "id": "d435b7ee-00ac-4d64-b82d-db0bb47fb5ed",
   "metadata": {},
   "source": [
    "We create a MAADF detector."
   ]
  },
  {
   "cell_type": "code",
   "execution_count": null,
   "id": "8c6ab495-6d9b-4136-9d1e-75d26f7e0451",
   "metadata": {},
   "outputs": [],
   "source": [
    "maadf_detector = abtem.AnnularDetector(inner=60, outer=150)"
   ]
  },
  {
   "cell_type": "markdown",
   "id": "39b5df4f-f0e0-4d69-85fa-77f6789de236",
   "metadata": {},
   "source": [
    "We can run the simulation by just providing the detector. By not providing a scan object we assume scanning the Nyquist sampling rate across the entire sample."
   ]
  },
  {
   "cell_type": "code",
   "execution_count": null,
   "id": "28639fbb-7634-4d38-9308-b692befc5ae9",
   "metadata": {},
   "outputs": [],
   "source": [
    "image_prism = S.scan(\n",
    "    detectors=maadf_detector,\n",
    "    max_batch_reduction=50,\n",
    "    ctf=ctf,\n",
    ")"
   ]
  },
  {
   "cell_type": "markdown",
   "id": "7c67f3bc-c770-4fab-9222-a615e31e9ad4",
   "metadata": {},
   "source": [
    "We see that the result will be 2 images of $170 \\times 170$, i.e. $2 \\times 28900$ probe positions. This should be compared to the only $177$ plane waves in the expansion, we thus reduced the number of runs of the multislice algorithm by a factor of $326$. The caveat is that we still need to run the reduction stage twice and we lost some reciprocal space resolution by using interpolation."
   ]
  },
  {
   "cell_type": "code",
   "execution_count": null,
   "id": "8e11c5d4-3372-4b51-91ae-9655db035cc0",
   "metadata": {},
   "outputs": [],
   "source": [
    "image_prism.array"
   ]
  },
  {
   "cell_type": "markdown",
   "id": "78d6d518-74f3-4b19-901a-1d925d7d81d8",
   "metadata": {},
   "source": [
    "We compute to run both the PRISM multislice and reduction stages. The simulation took around 40 seconds on my 2018 MacBook."
   ]
  },
  {
   "cell_type": "code",
   "execution_count": null,
   "id": "5c9bf34d-1178-423f-bc70-46ae5484be3b",
   "metadata": {},
   "outputs": [],
   "source": [
    "image_prism.compute()"
   ]
  },
  {
   "cell_type": "markdown",
   "id": "971f390d-1189-444e-ba0b-a9edc97d1923",
   "metadata": {},
   "source": [
    "Lastly, we apply the typical postprocessing steps and show the MAADF image."
   ]
  },
  {
   "cell_type": "code",
   "execution_count": null,
   "id": "98065342-7322-40d2-ab25-d1a44d0e70e2",
   "metadata": {},
   "outputs": [],
   "source": [
    "image_prism.gaussian_filter(0.35).interpolate(0.1).show(interact=True);"
   ]
  },
  {
   "cell_type": "markdown",
   "id": "01eaf3c7-fa1f-4c97-a03f-f62d03962165",
   "metadata": {},
   "source": [
    "## Parallelization and memory <a href='#parallel'>\n",
    "   \n",
    "*ab*TEM is parallelized using [Dask](https://www.dask.org/){cite}`dask`, which is a flexible library for parallel computing in Python. \n",
    "\n",
    "When running methods such as `build`, `multislice` and `scan`, *ab*TEM creates a Dask [*task graph*](https://docs.dask.org/en/stable/graphs.html). The task graph breaks down a larger task into smaller subtasks represented by the *node*, with *edges* between nodes if it the subtask dependent on another subtask. \n",
    "    \n",
    "After generating a task graph, it needs to be executed on (parallel) hardware. This is the job of a [task scheduler](https://docs.dask.org/en/stable/scheduler-overview.html). Dask provides several *task schedulers*: each of which will compute a task graph and give the same result, but with different performance characteristics. The default scheduler is the [`ThreadPoolExecutor`](https://docs.dask.org/en/stable/scheduling.html#local-threads). The threaded scheduler takes the argument `num_workers`, which sets the number of threads to use.\n",
    "\n",
    "As an example, we create the task graph for the frozen phonon simulation above. We set the scheduler explicitly and change the number of workers to 2. Note that changing the number of workers may not always affect the computational time significantly, as NumPy and the FFT libraries also has parallelism."
   ]
  },
  {
   "cell_type": "code",
   "execution_count": null,
   "id": "0e53f947-e912-4af8-899e-344eafa2abff",
   "metadata": {},
   "outputs": [],
   "source": [
    "exit_waves = probe.multislice(potential=frozen_phonon_potential)\n",
    "\n",
    "exit_waves.array"
   ]
  },
  {
   "cell_type": "code",
   "execution_count": null,
   "id": "12139946-49a4-4997-abd7-b5b9b672cbd5",
   "metadata": {},
   "outputs": [],
   "source": [
    "exit_waves = probe.multislice(potential=frozen_phonon_potential)\n",
    "\n",
    "exit_waves.compute(scheduler=\"threads\", num_workers=2)"
   ]
  },
  {
   "cell_type": "markdown",
   "id": "786cd340-75e6-4df0-a147-985be87cdd35",
   "metadata": {},
   "source": [
    "The Dask distributed scheduler is necessary for running your simulations on a cluster, but it also runs [locally on a personal machine](https://docs.dask.org/en/stable/scheduling.html#dask-distributed-local). \n",
    "\n",
    "You can use the Dask distributed scheduler by initializing a [Dask Client](https://distributed.dask.org/en/stable/client.html). The `Client` takes keyword arguments such as `n_workers` (note that this is different from `num_workers` above!) and `threads_per_worker`."
   ]
  },
  {
   "cell_type": "code",
   "execution_count": null,
   "id": "9e971dde-b030-4c60-9eda-02a85074a1a6",
   "metadata": {},
   "outputs": [],
   "source": [
    "from dask.distributed import Client\n",
    "\n",
    "client = Client(n_workers=4, threads_per_worker=1)\n",
    "\n",
    "client"
   ]
  },
  {
   "cell_type": "markdown",
   "id": "525d01ea-dfe7-444b-9723-b29b9d4a27cd",
   "metadata": {},
   "source": [
    "A benefit of using the distributed scheduler on a single machine is the live diagnostic dashboard. You can access this through the Dashboard link shown above.\n",
    "\n",
    "We run the frozen phonons calculation with the dsitributed scheduler as an example. When a client is active we should not provide any arguments to `compute`."
   ]
  },
  {
   "cell_type": "code",
   "execution_count": null,
   "id": "8b82a500-e458-4d27-a689-17e639b6135d",
   "metadata": {},
   "outputs": [],
   "source": [
    "exit_waves = probe.multislice(potential=frozen_phonon_potential)\n",
    "\n",
    "exit_waves.compute()"
   ]
  }
 ],
 "metadata": {
  "kernelspec": {
   "display_name": "Python 3 (ipykernel)",
   "language": "python",
   "name": "python3"
  },
  "language_info": {
   "codemirror_mode": {
    "name": "ipython",
    "version": 3
   },
   "file_extension": ".py",
   "mimetype": "text/x-python",
   "name": "python",
   "nbconvert_exporter": "python",
   "pygments_lexer": "ipython3",
   "version": "3.11.8"
  },
  "widgets": {
   "application/vnd.jupyter.widget-state+json": {
    "state": {
     "002b636f22a74ebc95e0749e4c78c809": {
      "model_module": "@jupyter-widgets/base",
      "model_module_version": "2.0.0",
      "model_name": "LayoutModel",
      "state": {
       "_view_name": "ErrorWidgetView",
       "error": {},
       "msg": "Failed to load model class 'LayoutModel' from module '@jupyter-widgets/base'"
      }
     },
     "010775a720d04e10bec2a3717750bf87": {
      "model_module": "@jupyter-widgets/base",
      "model_module_version": "2.0.0",
      "model_name": "LayoutModel",
      "state": {
       "_view_name": "ErrorWidgetView",
       "error": {},
       "msg": "Failed to load model class 'LayoutModel' from module '@jupyter-widgets/base'"
      }
     },
     "0194b9193fc94441ba24f87f2cf6eaec": {
      "model_module": "@jupyter-widgets/base",
      "model_module_version": "2.0.0",
      "model_name": "LayoutModel",
      "state": {
       "_view_name": "ErrorWidgetView",
       "error": {},
       "msg": "Failed to load model class 'LayoutModel' from module '@jupyter-widgets/base'"
      }
     },
     "01ff7f36f0c84a91a803c55113840add": {
      "model_module": "@jupyter-widgets/base",
      "model_module_version": "2.0.0",
      "model_name": "LayoutModel",
      "state": {
       "_view_name": "ErrorWidgetView",
       "error": {},
       "msg": "Failed to load model class 'LayoutModel' from module '@jupyter-widgets/base'",
       "width": "20%"
      }
     },
     "0209f2826de54db281076dad828e802c": {
      "model_module": "@jupyter-widgets/base",
      "model_module_version": "2.0.0",
      "model_name": "LayoutModel",
      "state": {
       "_view_name": "ErrorWidgetView",
       "error": {},
       "msg": "Failed to load model class 'LayoutModel' from module '@jupyter-widgets/base'"
      }
     },
     "0271b79504224f259a466768249ca209": {
      "model_module": "@jupyter-widgets/controls",
      "model_module_version": "2.0.0",
      "model_name": "HBoxModel",
      "state": {
       "_view_name": "ErrorWidgetView",
       "children": [
        "IPY_MODEL_38cb48b9752f4de4afc5eb63b69494f7",
        "IPY_MODEL_26a976ce6b6b4073973ad29e6284d6b0"
       ],
       "error": {},
       "layout": "IPY_MODEL_0194b9193fc94441ba24f87f2cf6eaec",
       "msg": "Failed to load model class 'HBoxModel' from module '@jupyter-widgets/controls'"
      }
     },
     "029132b119694eefb0d9a6c93922d35b": {
      "model_module": "@jupyter-widgets/base",
      "model_module_version": "2.0.0",
      "model_name": "LayoutModel",
      "state": {
       "_view_name": "ErrorWidgetView",
       "error": {},
       "msg": "Failed to load model class 'LayoutModel' from module '@jupyter-widgets/base'"
      }
     },
     "02f0c4038e81459ab78e77b6d841c083": {
      "model_module": "@jupyter-widgets/base",
      "model_module_version": "2.0.0",
      "model_name": "LayoutModel",
      "state": {
       "_view_name": "ErrorWidgetView",
       "error": {},
       "msg": "Failed to load model class 'LayoutModel' from module '@jupyter-widgets/base'"
      }
     },
     "02f888a6d2db4d65b4944569c7429530": {
      "model_module": "@jupyter-widgets/base",
      "model_module_version": "2.0.0",
      "model_name": "LayoutModel",
      "state": {
       "_view_name": "ErrorWidgetView",
       "error": {},
       "msg": "Failed to load model class 'LayoutModel' from module '@jupyter-widgets/base'",
       "width": "50%"
      }
     },
     "02fd8e63e44240b89862425e9dade534": {
      "model_module": "@jupyter-widgets/controls",
      "model_module_version": "2.0.0",
      "model_name": "DescriptionStyleModel",
      "state": {
       "_view_name": "ErrorWidgetView",
       "description_width": "",
       "error": {},
       "msg": "Failed to load model class 'DescriptionStyleModel' from module '@jupyter-widgets/controls'"
      }
     },
     "031d37d937e24ef7b3b06535dea78efa": {
      "model_module": "@jupyter-widgets/base",
      "model_module_version": "2.0.0",
      "model_name": "LayoutModel",
      "state": {
       "_view_name": "ErrorWidgetView",
       "error": {},
       "msg": "Failed to load model class 'LayoutModel' from module '@jupyter-widgets/base'"
      }
     },
     "036d8fa59e4c45faaff633c2482b440c": {
      "model_module": "@jupyter-widgets/base",
      "model_module_version": "2.0.0",
      "model_name": "LayoutModel",
      "state": {
       "_view_name": "ErrorWidgetView",
       "error": {},
       "msg": "Failed to load model class 'LayoutModel' from module '@jupyter-widgets/base'",
       "width": "30%"
      }
     },
     "043687da76af4fd2b241946da1eebd01": {
      "model_module": "@jupyter-widgets/base",
      "model_module_version": "2.0.0",
      "model_name": "LayoutModel",
      "state": {
       "_view_name": "ErrorWidgetView",
       "error": {},
       "msg": "Failed to load model class 'LayoutModel' from module '@jupyter-widgets/base'"
      }
     },
     "058a3718f201479c9ee188b96ea9442e": {
      "model_module": "@jupyter-widgets/base",
      "model_module_version": "2.0.0",
      "model_name": "LayoutModel",
      "state": {
       "_view_name": "ErrorWidgetView",
       "error": {},
       "msg": "Failed to load model class 'LayoutModel' from module '@jupyter-widgets/base'"
      }
     },
     "05c1825ed5164263ba4806925dbe84a4": {
      "model_module": "@jupyter-widgets/controls",
      "model_module_version": "2.0.0",
      "model_name": "ButtonModel",
      "state": {
       "_view_name": "ErrorWidgetView",
       "description": "Scale",
       "error": {},
       "layout": "IPY_MODEL_ba30b969157e490c86c10c53431f9ef6",
       "msg": "Failed to load model class 'ButtonModel' from module '@jupyter-widgets/controls'",
       "style": "IPY_MODEL_926c575455e74a5d983a0d5d49537a3a"
      }
     },
     "0654953d090b4eb6ab97b56b568ca434": {
      "model_module": "@jupyter-widgets/base",
      "model_module_version": "2.0.0",
      "model_name": "LayoutModel",
      "state": {
       "_view_name": "ErrorWidgetView",
       "error": {},
       "msg": "Failed to load model class 'LayoutModel' from module '@jupyter-widgets/base'"
      }
     },
     "06abfa5070b74d66b7b384ad7bfe9f57": {
      "model_module": "@jupyter-widgets/controls",
      "model_module_version": "2.0.0",
      "model_name": "DescriptionStyleModel",
      "state": {
       "_view_name": "ErrorWidgetView",
       "description_width": "",
       "error": {},
       "msg": "Failed to load model class 'DescriptionStyleModel' from module '@jupyter-widgets/controls'"
      }
     },
     "07ebbe4f046a45a5a87beba975d25e50": {
      "model_module": "@jupyter-widgets/base",
      "model_module_version": "2.0.0",
      "model_name": "LayoutModel",
      "state": {
       "_view_name": "ErrorWidgetView",
       "error": {},
       "msg": "Failed to load model class 'LayoutModel' from module '@jupyter-widgets/base'"
      }
     },
     "09de840472034a74a0abf1ba055041c0": {
      "model_module": "@jupyter-widgets/controls",
      "model_module_version": "2.0.0",
      "model_name": "HBoxModel",
      "state": {
       "_view_name": "ErrorWidgetView",
       "children": [
        "IPY_MODEL_c13c6e89cda345d1ab878ae90412bdb3",
        "IPY_MODEL_5d78194e76c3411ca0630ec82a9410bb",
        "IPY_MODEL_674d9970beb44472a0f30e4a494c5c00"
       ],
       "error": {},
       "layout": "IPY_MODEL_8b6781c3519a46fa97cda71639713285",
       "msg": "Failed to load model class 'HBoxModel' from module '@jupyter-widgets/controls'"
      }
     },
     "09f91dfc13c14be49a76eac12f0d11b6": {
      "model_module": "@jupyter-widgets/controls",
      "model_module_version": "2.0.0",
      "model_name": "SliderStyleModel",
      "state": {
       "_view_name": "ErrorWidgetView",
       "description_width": "",
       "error": {},
       "msg": "Failed to load model class 'SliderStyleModel' from module '@jupyter-widgets/controls'"
      }
     },
     "0a4bd16ddfe0432db0cf01b0b8af8d91": {
      "model_module": "@jupyter-widgets/controls",
      "model_module_version": "2.0.0",
      "model_name": "DescriptionStyleModel",
      "state": {
       "_view_name": "ErrorWidgetView",
       "description_width": "",
       "error": {},
       "msg": "Failed to load model class 'DescriptionStyleModel' from module '@jupyter-widgets/controls'"
      }
     },
     "0ab51bd9b64b464b8d410b52cc273db4": {
      "model_module": "@jupyter-widgets/base",
      "model_module_version": "2.0.0",
      "model_name": "LayoutModel",
      "state": {
       "_view_name": "ErrorWidgetView",
       "error": {},
       "msg": "Failed to load model class 'LayoutModel' from module '@jupyter-widgets/base'"
      }
     },
     "0b1e2b73d1c34af8b464a9df17bb100a": {
      "model_module": "@jupyter-widgets/controls",
      "model_module_version": "2.0.0",
      "model_name": "FloatSliderModel",
      "state": {
       "_view_name": "ErrorWidgetView",
       "description": "Power",
       "error": {},
       "layout": "IPY_MODEL_e39680c0cf314226bb947ec1858d98b2",
       "max": 2,
       "min": 0.01,
       "msg": "Failed to load model class 'FloatSliderModel' from module '@jupyter-widgets/controls'",
       "step": 0.01,
       "style": "IPY_MODEL_692f3d2e3993479f8c16cef8310412b0",
       "value": 1
      }
     },
     "0bc02908f8534318b34ae2f112973289": {
      "model_module": "@jupyter-widgets/controls",
      "model_module_version": "2.0.0",
      "model_name": "DescriptionStyleModel",
      "state": {
       "_view_name": "ErrorWidgetView",
       "description_width": "",
       "error": {},
       "msg": "Failed to load model class 'DescriptionStyleModel' from module '@jupyter-widgets/controls'"
      }
     },
     "0c4cfecba757448089510bd4ec5a67dc": {
      "model_module": "@jupyter-widgets/base",
      "model_module_version": "2.0.0",
      "model_name": "LayoutModel",
      "state": {
       "_view_name": "ErrorWidgetView",
       "error": {},
       "msg": "Failed to load model class 'LayoutModel' from module '@jupyter-widgets/base'"
      }
     },
     "0d05147887e4400e94c488c15f551a69": {
      "model_module": "@jupyter-widgets/base",
      "model_module_version": "2.0.0",
      "model_name": "LayoutModel",
      "state": {
       "_view_name": "ErrorWidgetView",
       "error": {},
       "msg": "Failed to load model class 'LayoutModel' from module '@jupyter-widgets/base'"
      }
     },
     "0d4d0fc6f7144c22b0c3e8524993c16f": {
      "model_module": "@jupyter-widgets/base",
      "model_module_version": "2.0.0",
      "model_name": "LayoutModel",
      "state": {
       "_view_name": "ErrorWidgetView",
       "error": {},
       "msg": "Failed to load model class 'LayoutModel' from module '@jupyter-widgets/base'"
      }
     },
     "0d87e5ed72b54f878775bc473a577f0c": {
      "model_module": "@jupyter-widgets/base",
      "model_module_version": "2.0.0",
      "model_name": "LayoutModel",
      "state": {
       "_view_name": "ErrorWidgetView",
       "error": {},
       "msg": "Failed to load model class 'LayoutModel' from module '@jupyter-widgets/base'"
      }
     },
     "0f66ad311739492b8afcf4f9ef095683": {
      "model_module": "@jupyter-widgets/base",
      "model_module_version": "2.0.0",
      "model_name": "LayoutModel",
      "state": {
       "_view_name": "ErrorWidgetView",
       "error": {},
       "msg": "Failed to load model class 'LayoutModel' from module '@jupyter-widgets/base'"
      }
     },
     "0fe82de24e144a15b36fff9301b41576": {
      "model_module": "@jupyter-widgets/controls",
      "model_module_version": "2.0.0",
      "model_name": "HBoxModel",
      "state": {
       "_view_name": "ErrorWidgetView",
       "children": [
        "IPY_MODEL_05c1825ed5164263ba4806925dbe84a4",
        "IPY_MODEL_c56afdb4f53242c8a8525be5821064fd",
        "IPY_MODEL_da489cc41c414c12886a656e0f1300ac"
       ],
       "error": {},
       "layout": "IPY_MODEL_1ffb1567af2e4599a8af0ee3b94358fb",
       "msg": "Failed to load model class 'HBoxModel' from module '@jupyter-widgets/controls'"
      }
     },
     "102eba2329fe4263aaff750e8ada7b5f": {
      "model_module": "@jupyter-widgets/controls",
      "model_module_version": "2.0.0",
      "model_name": "DescriptionStyleModel",
      "state": {
       "_view_name": "ErrorWidgetView",
       "description_width": "",
       "error": {},
       "msg": "Failed to load model class 'DescriptionStyleModel' from module '@jupyter-widgets/controls'"
      }
     },
     "1094f5aff4d44be0ab8d9115cecad077": {
      "model_module": "@jupyter-widgets/controls",
      "model_module_version": "2.0.0",
      "model_name": "VBoxModel",
      "state": {
       "_view_name": "ErrorWidgetView",
       "children": [
        "IPY_MODEL_63a789ed6fd44255b53ec64528c27c48"
       ],
       "error": {},
       "layout": "IPY_MODEL_10a649218521416c8dd75fc6aa8991f8",
       "msg": "Failed to load model class 'VBoxModel' from module '@jupyter-widgets/controls'"
      }
     },
     "10a649218521416c8dd75fc6aa8991f8": {
      "model_module": "@jupyter-widgets/base",
      "model_module_version": "2.0.0",
      "model_name": "LayoutModel",
      "state": {
       "_view_name": "ErrorWidgetView",
       "error": {},
       "msg": "Failed to load model class 'LayoutModel' from module '@jupyter-widgets/base'"
      }
     },
     "11d736686e1a47dea40281f34e5939ae": {
      "model_module": "@jupyter-widgets/base",
      "model_module_version": "2.0.0",
      "model_name": "LayoutModel",
      "state": {
       "_view_name": "ErrorWidgetView",
       "error": {},
       "msg": "Failed to load model class 'LayoutModel' from module '@jupyter-widgets/base'",
       "width": "50%"
      }
     },
     "144bfe3688d44a3298686fe75a0808db": {
      "model_module": "@jupyter-widgets/base",
      "model_module_version": "2.0.0",
      "model_name": "LayoutModel",
      "state": {
       "_view_name": "ErrorWidgetView",
       "error": {},
       "msg": "Failed to load model class 'LayoutModel' from module '@jupyter-widgets/base'"
      }
     },
     "14a04adbdc2a4e8284b7b7612a4c5155": {
      "model_module": "@jupyter-widgets/base",
      "model_module_version": "2.0.0",
      "model_name": "LayoutModel",
      "state": {
       "_view_name": "ErrorWidgetView",
       "error": {},
       "msg": "Failed to load model class 'LayoutModel' from module '@jupyter-widgets/base'"
      }
     },
     "1549674f682b4fd88539101885d749f2": {
      "model_module": "@jupyter-widgets/base",
      "model_module_version": "2.0.0",
      "model_name": "LayoutModel",
      "state": {
       "_view_name": "ErrorWidgetView",
       "error": {},
       "msg": "Failed to load model class 'LayoutModel' from module '@jupyter-widgets/base'"
      }
     },
     "1606c90884b94530a591e8af6c440948": {
      "model_module": "@jupyter-widgets/controls",
      "model_module_version": "2.0.0",
      "model_name": "DescriptionStyleModel",
      "state": {
       "_view_name": "ErrorWidgetView",
       "description_width": "",
       "error": {},
       "msg": "Failed to load model class 'DescriptionStyleModel' from module '@jupyter-widgets/controls'"
      }
     },
     "162f571bea4e43b2acdba0de532513e2": {
      "model_module": "@jupyter-widgets/controls",
      "model_module_version": "2.0.0",
      "model_name": "ButtonModel",
      "state": {
       "_view_name": "ErrorWidgetView",
       "description": "Scale",
       "error": {},
       "layout": "IPY_MODEL_01ff7f36f0c84a91a803c55113840add",
       "msg": "Failed to load model class 'ButtonModel' from module '@jupyter-widgets/controls'",
       "style": "IPY_MODEL_3835126c2c3a425b8ace7556ce9c31df"
      }
     },
     "16fc5982b0ca440484962d40d5997758": {
      "model_module": "@jupyter-widgets/controls",
      "model_module_version": "2.0.0",
      "model_name": "FloatSliderModel",
      "state": {
       "_view_name": "ErrorWidgetView",
       "description": "Power",
       "error": {},
       "layout": "IPY_MODEL_8331f779c21145dc9c41ff31a0dc03c1",
       "max": 2,
       "min": 0.01,
       "msg": "Failed to load model class 'FloatSliderModel' from module '@jupyter-widgets/controls'",
       "step": 0.01,
       "style": "IPY_MODEL_e724b9c90b8a41d0b4ac1ed3180d1624",
       "value": 1
      }
     },
     "1902d6f3b9e6442dbc5987ecd234b8f2": {
      "model_module": "@jupyter-widgets/base",
      "model_module_version": "2.0.0",
      "model_name": "LayoutModel",
      "state": {
       "_view_name": "ErrorWidgetView",
       "error": {},
       "msg": "Failed to load model class 'LayoutModel' from module '@jupyter-widgets/base'",
       "width": "50%"
      }
     },
     "19f53a9b94504be49fdc55aba95e9763": {
      "model_module": "@jupyter-widgets/base",
      "model_module_version": "2.0.0",
      "model_name": "LayoutModel",
      "state": {
       "_view_name": "ErrorWidgetView",
       "error": {},
       "msg": "Failed to load model class 'LayoutModel' from module '@jupyter-widgets/base'"
      }
     },
     "1a04cb02a6074cbeb12069e0136fe036": {
      "model_module": "@jupyter-widgets/base",
      "model_module_version": "2.0.0",
      "model_name": "LayoutModel",
      "state": {
       "_view_name": "ErrorWidgetView",
       "error": {},
       "msg": "Failed to load model class 'LayoutModel' from module '@jupyter-widgets/base'",
       "width": "50%"
      }
     },
     "1a16c9b6378f47ba8bad8830d9e89edf": {
      "model_module": "@jupyter-widgets/controls",
      "model_module_version": "2.0.0",
      "model_name": "SliderStyleModel",
      "state": {
       "_view_name": "ErrorWidgetView",
       "description_width": "",
       "error": {},
       "msg": "Failed to load model class 'SliderStyleModel' from module '@jupyter-widgets/controls'"
      }
     },
     "1ae90e25eea847c39d85ef4552814c46": {
      "model_module": "@jupyter-widgets/base",
      "model_module_version": "2.0.0",
      "model_name": "LayoutModel",
      "state": {
       "_view_name": "ErrorWidgetView",
       "error": {},
       "msg": "Failed to load model class 'LayoutModel' from module '@jupyter-widgets/base'"
      }
     },
     "1b913c0399f34aa8b844c1f33d32c2a6": {
      "model_module": "@jupyter-widgets/controls",
      "model_module_version": "2.0.0",
      "model_name": "VBoxModel",
      "state": {
       "_view_name": "ErrorWidgetView",
       "children": [
        "IPY_MODEL_9ec7114201854ce3991efba2087a4d36"
       ],
       "error": {},
       "layout": "IPY_MODEL_d0f33f627d6f45a9a64c6da73211e9e3",
       "msg": "Failed to load model class 'VBoxModel' from module '@jupyter-widgets/controls'"
      }
     },
     "1c72148d65314ddda240c83e5b339901": {
      "model_module": "@jupyter-widgets/controls",
      "model_module_version": "2.0.0",
      "model_name": "HBoxModel",
      "state": {
       "_view_name": "ErrorWidgetView",
       "children": [
        "IPY_MODEL_47c269bfa9c148769f3649a497a84955",
        "IPY_MODEL_069550e7d0e84beb9c101354366fba7f"
       ],
       "error": {},
       "layout": "IPY_MODEL_4d5a935bef4249c981f42ed10f2c6397",
       "msg": "Failed to load model class 'HBoxModel' from module '@jupyter-widgets/controls'"
      }
     },
     "1cfd0cc740804701a6ecb79fbba40d37": {
      "model_module": "@jupyter-widgets/base",
      "model_module_version": "2.0.0",
      "model_name": "LayoutModel",
      "state": {
       "_view_name": "ErrorWidgetView",
       "error": {},
       "msg": "Failed to load model class 'LayoutModel' from module '@jupyter-widgets/base'"
      }
     },
     "1d99bd92f18a43f580a7490282468f7d": {
      "model_module": "@jupyter-widgets/base",
      "model_module_version": "2.0.0",
      "model_name": "LayoutModel",
      "state": {
       "_view_name": "ErrorWidgetView",
       "error": {},
       "msg": "Failed to load model class 'LayoutModel' from module '@jupyter-widgets/base'",
       "width": "30%"
      }
     },
     "1e441562a3b449569fd2c8a95fa38408": {
      "model_module": "@jupyter-widgets/base",
      "model_module_version": "2.0.0",
      "model_name": "LayoutModel",
      "state": {
       "_view_name": "ErrorWidgetView",
       "error": {},
       "msg": "Failed to load model class 'LayoutModel' from module '@jupyter-widgets/base'"
      }
     },
     "1e679298cafc498f8d712e6635675cbf": {
      "model_module": "@jupyter-widgets/controls",
      "model_module_version": "2.0.0",
      "model_name": "FloatSliderModel",
      "state": {
       "_view_name": "ErrorWidgetView",
       "description": "Power",
       "error": {},
       "layout": "IPY_MODEL_d91ca2b78e1448389e000e967757cb9b",
       "max": 2,
       "min": 0.01,
       "msg": "Failed to load model class 'FloatSliderModel' from module '@jupyter-widgets/controls'",
       "step": 0.01,
       "style": "IPY_MODEL_f11f462e92094647b9b264a11e3f0610",
       "value": 1
      }
     },
     "1e912dc1811a440eaa98d8ea2d7b4dfc": {
      "model_module": "@jupyter-widgets/controls",
      "model_module_version": "2.0.0",
      "model_name": "FloatSliderModel",
      "state": {
       "_view_name": "ErrorWidgetView",
       "description": "Power",
       "error": {},
       "layout": "IPY_MODEL_c84c29c0ae0e45278b2c90e63c75a904",
       "max": 2,
       "min": 0.01,
       "msg": "Failed to load model class 'FloatSliderModel' from module '@jupyter-widgets/controls'",
       "step": 0.01,
       "style": "IPY_MODEL_09f91dfc13c14be49a76eac12f0d11b6",
       "value": 1
      }
     },
     "1ef43af280c94714b8db0c6373411412": {
      "model_module": "@jupyter-widgets/controls",
      "model_module_version": "2.0.0",
      "model_name": "VBoxModel",
      "state": {
       "_view_name": "ErrorWidgetView",
       "children": [
        "IPY_MODEL_0fe82de24e144a15b36fff9301b41576"
       ],
       "error": {},
       "layout": "IPY_MODEL_b4fb41ba4ec642dea6af0b79f4840eb0",
       "msg": "Failed to load model class 'VBoxModel' from module '@jupyter-widgets/controls'"
      }
     },
     "1ffb1567af2e4599a8af0ee3b94358fb": {
      "model_module": "@jupyter-widgets/base",
      "model_module_version": "2.0.0",
      "model_name": "LayoutModel",
      "state": {
       "_view_name": "ErrorWidgetView",
       "error": {},
       "msg": "Failed to load model class 'LayoutModel' from module '@jupyter-widgets/base'"
      }
     },
     "207d337de0b546978daa2b8923e23aea": {
      "model_module": "@jupyter-widgets/base",
      "model_module_version": "2.0.0",
      "model_name": "LayoutModel",
      "state": {
       "_view_name": "ErrorWidgetView",
       "error": {},
       "msg": "Failed to load model class 'LayoutModel' from module '@jupyter-widgets/base'"
      }
     },
     "212aa268f1a644a0bc6a31e24e4d05e6": {
      "model_module": "@jupyter-widgets/base",
      "model_module_version": "2.0.0",
      "model_name": "LayoutModel",
      "state": {
       "_view_name": "ErrorWidgetView",
       "error": {},
       "msg": "Failed to load model class 'LayoutModel' from module '@jupyter-widgets/base'"
      }
     },
     "2270d1fc92e0472d8fdcf7217677d768": {
      "model_module": "@jupyter-widgets/base",
      "model_module_version": "2.0.0",
      "model_name": "LayoutModel",
      "state": {
       "_view_name": "ErrorWidgetView",
       "error": {},
       "msg": "Failed to load model class 'LayoutModel' from module '@jupyter-widgets/base'",
       "width": "20%"
      }
     },
     "2276f53b973e4ac7aaef3a4d2c885fa0": {
      "model_module": "@jupyter-widgets/base",
      "model_module_version": "2.0.0",
      "model_name": "LayoutModel",
      "state": {
       "_view_name": "ErrorWidgetView",
       "error": {},
       "msg": "Failed to load model class 'LayoutModel' from module '@jupyter-widgets/base'"
      }
     },
     "23aa153a2901459fa31ac292d422d0be": {
      "model_module": "@jupyter-widgets/base",
      "model_module_version": "2.0.0",
      "model_name": "LayoutModel",
      "state": {
       "_view_name": "ErrorWidgetView",
       "error": {},
       "msg": "Failed to load model class 'LayoutModel' from module '@jupyter-widgets/base'"
      }
     },
     "245aedd9ed2a45d5a41d9d0b7d62817d": {
      "model_module": "@jupyter-widgets/base",
      "model_module_version": "2.0.0",
      "model_name": "LayoutModel",
      "state": {
       "_view_name": "ErrorWidgetView",
       "error": {},
       "msg": "Failed to load model class 'LayoutModel' from module '@jupyter-widgets/base'"
      }
     },
     "24663007b6524378bc2ae920c3b9cf58": {
      "model_module": "@jupyter-widgets/base",
      "model_module_version": "2.0.0",
      "model_name": "LayoutModel",
      "state": {
       "_view_name": "ErrorWidgetView",
       "error": {},
       "msg": "Failed to load model class 'LayoutModel' from module '@jupyter-widgets/base'"
      }
     },
     "24e9e6f7f54c4c899a32df7598238cf4": {
      "model_module": "@jupyter-widgets/controls",
      "model_module_version": "2.0.0",
      "model_name": "ToggleButtonModel",
      "state": {
       "_view_name": "ErrorWidgetView",
       "description": "Continuous update",
       "error": {},
       "layout": "IPY_MODEL_11d736686e1a47dea40281f34e5939ae",
       "msg": "Failed to load model class 'ToggleButtonModel' from module '@jupyter-widgets/controls'",
       "style": "IPY_MODEL_f6cedef5b9444c70af8cd629966e5482",
       "value": true
      }
     },
     "2553065c54f846e7af80667b4067e690": {
      "model_module": "@jupyter-widgets/base",
      "model_module_version": "2.0.0",
      "model_name": "LayoutModel",
      "state": {
       "_view_name": "ErrorWidgetView",
       "error": {},
       "msg": "Failed to load model class 'LayoutModel' from module '@jupyter-widgets/base'"
      }
     },
     "257994f20eef4cb1a9c7ae461bc22977": {
      "model_module": "@jupyter-widgets/base",
      "model_module_version": "2.0.0",
      "model_name": "LayoutModel",
      "state": {
       "_view_name": "ErrorWidgetView",
       "error": {},
       "msg": "Failed to load model class 'LayoutModel' from module '@jupyter-widgets/base'"
      }
     },
     "2680e8f5aea349f1b4661b8ebe934288": {
      "model_module": "@jupyter-widgets/base",
      "model_module_version": "2.0.0",
      "model_name": "LayoutModel",
      "state": {
       "_view_name": "ErrorWidgetView",
       "error": {},
       "msg": "Failed to load model class 'LayoutModel' from module '@jupyter-widgets/base'"
      }
     },
     "2730c8ca511b402495a07cee72f1432c": {
      "model_module": "@jupyter-widgets/base",
      "model_module_version": "2.0.0",
      "model_name": "LayoutModel",
      "state": {
       "_view_name": "ErrorWidgetView",
       "error": {},
       "msg": "Failed to load model class 'LayoutModel' from module '@jupyter-widgets/base'"
      }
     },
     "284e73eb5aa442b88fc0a61798afedb5": {
      "model_module": "@jupyter-widgets/base",
      "model_module_version": "2.0.0",
      "model_name": "LayoutModel",
      "state": {
       "_view_name": "ErrorWidgetView",
       "error": {},
       "msg": "Failed to load model class 'LayoutModel' from module '@jupyter-widgets/base'"
      }
     },
     "290d5477790643c4b759ed195100a883": {
      "model_module": "@jupyter-widgets/base",
      "model_module_version": "2.0.0",
      "model_name": "LayoutModel",
      "state": {
       "_view_name": "ErrorWidgetView",
       "error": {},
       "msg": "Failed to load model class 'LayoutModel' from module '@jupyter-widgets/base'"
      }
     },
     "294270682e3b497084fa4d772206fb1d": {
      "model_module": "@jupyter-widgets/base",
      "model_module_version": "2.0.0",
      "model_name": "LayoutModel",
      "state": {
       "_view_name": "ErrorWidgetView",
       "error": {},
       "msg": "Failed to load model class 'LayoutModel' from module '@jupyter-widgets/base'"
      }
     },
     "294e430f862f4833970262485404f25e": {
      "model_module": "@jupyter-widgets/base",
      "model_module_version": "2.0.0",
      "model_name": "LayoutModel",
      "state": {
       "_view_name": "ErrorWidgetView",
       "error": {},
       "msg": "Failed to load model class 'LayoutModel' from module '@jupyter-widgets/base'"
      }
     },
     "296caf53b2db4991bde34d2e09a01893": {
      "model_module": "@jupyter-widgets/base",
      "model_module_version": "2.0.0",
      "model_name": "LayoutModel",
      "state": {
       "_view_name": "ErrorWidgetView",
       "error": {},
       "msg": "Failed to load model class 'LayoutModel' from module '@jupyter-widgets/base'",
       "width": "50%"
      }
     },
     "29e4c4d76c8a44aeb4f6d5785a168afa": {
      "model_module": "@jupyter-widgets/controls",
      "model_module_version": "2.0.0",
      "model_name": "VBoxModel",
      "state": {
       "_view_name": "ErrorWidgetView",
       "children": [
        "IPY_MODEL_1094f5aff4d44be0ab8d9115cecad077",
        "IPY_MODEL_54788df6756443e9b677227f2bba7a04",
        "IPY_MODEL_e8c6afdaef2b4ac1b6388894976024a0"
       ],
       "error": {},
       "layout": "IPY_MODEL_6049effd68fb4469bfce662e267b8601",
       "msg": "Failed to load model class 'VBoxModel' from module '@jupyter-widgets/controls'"
      }
     },
     "29eefc717a3548c1bf420f9c8a9be7f9": {
      "model_module": "@jupyter-widgets/base",
      "model_module_version": "2.0.0",
      "model_name": "LayoutModel",
      "state": {
       "_view_name": "ErrorWidgetView",
       "error": {},
       "msg": "Failed to load model class 'LayoutModel' from module '@jupyter-widgets/base'"
      }
     },
     "2a1b7687c2714bbf9cc5bfeab8cfd3b6": {
      "model_module": "@jupyter-widgets/controls",
      "model_module_version": "2.0.0",
      "model_name": "VBoxModel",
      "state": {
       "_view_name": "ErrorWidgetView",
       "children": [
        "IPY_MODEL_d638212a73a94f28b72bc8a15fbec0c6"
       ],
       "error": {},
       "layout": "IPY_MODEL_40411549efb24194894a1dd630456fa6",
       "msg": "Failed to load model class 'VBoxModel' from module '@jupyter-widgets/controls'"
      }
     },
     "2aec910ffb424345a18057f96ac25110": {
      "model_module": "@jupyter-widgets/controls",
      "model_module_version": "2.0.0",
      "model_name": "ToggleButtonModel",
      "state": {
       "_view_name": "ErrorWidgetView",
       "description": "Continuous update",
       "error": {},
       "layout": "IPY_MODEL_c922666fd6b34cf9bb61133f6d292e62",
       "msg": "Failed to load model class 'ToggleButtonModel' from module '@jupyter-widgets/controls'",
       "style": "IPY_MODEL_8449c61d5dfe4665a48d6afde673c2cc",
       "value": true
      }
     },
     "2b00430fa0cf4e37a49c2b7202b9ae91": {
      "model_module": "@jupyter-widgets/base",
      "model_module_version": "2.0.0",
      "model_name": "LayoutModel",
      "state": {
       "_view_name": "ErrorWidgetView",
       "error": {},
       "msg": "Failed to load model class 'LayoutModel' from module '@jupyter-widgets/base'"
      }
     },
     "2c11b6e533cf49d89dd260fa7c2dfd6e": {
      "model_module": "@jupyter-widgets/controls",
      "model_module_version": "2.0.0",
      "model_name": "DescriptionStyleModel",
      "state": {
       "_view_name": "ErrorWidgetView",
       "description_width": "",
       "error": {},
       "msg": "Failed to load model class 'DescriptionStyleModel' from module '@jupyter-widgets/controls'"
      }
     },
     "2d1733ee523d4e219d4895050d4d942d": {
      "model_module": "@jupyter-widgets/base",
      "model_module_version": "2.0.0",
      "model_name": "LayoutModel",
      "state": {
       "_view_name": "ErrorWidgetView",
       "error": {},
       "msg": "Failed to load model class 'LayoutModel' from module '@jupyter-widgets/base'"
      }
     },
     "2da8d853314a47618f1f4dde035a7238": {
      "model_module": "@jupyter-widgets/base",
      "model_module_version": "2.0.0",
      "model_name": "LayoutModel",
      "state": {
       "_view_name": "ErrorWidgetView",
       "error": {},
       "msg": "Failed to load model class 'LayoutModel' from module '@jupyter-widgets/base'"
      }
     },
     "2dc11dedf9d1464ca2546d8625297e9d": {
      "model_module": "@jupyter-widgets/base",
      "model_module_version": "2.0.0",
      "model_name": "LayoutModel",
      "state": {
       "_view_name": "ErrorWidgetView",
       "error": {},
       "msg": "Failed to load model class 'LayoutModel' from module '@jupyter-widgets/base'"
      }
     },
     "2f1760ec0bbd4608bd6f3c0402cc2ac8": {
      "model_module": "@jupyter-widgets/controls",
      "model_module_version": "2.0.0",
      "model_name": "ToggleButtonModel",
      "state": {
       "_view_name": "ErrorWidgetView",
       "description": "Continuous update",
       "error": {},
       "layout": "IPY_MODEL_296caf53b2db4991bde34d2e09a01893",
       "msg": "Failed to load model class 'ToggleButtonModel' from module '@jupyter-widgets/controls'",
       "style": "IPY_MODEL_bac4f3dc8afc40f3a3fe7cd34988d583",
       "value": true
      }
     },
     "302ca76a8ec047bd9ebb440b2de2e72d": {
      "model_module": "@jupyter-widgets/controls",
      "model_module_version": "2.0.0",
      "model_name": "VBoxModel",
      "state": {
       "_view_name": "ErrorWidgetView",
       "children": [
        "IPY_MODEL_f420d5a16d8f4c8681a9ef402dbda40c"
       ],
       "error": {},
       "layout": "IPY_MODEL_af0bd1ee3a1643f78699f8232b925dac",
       "msg": "Failed to load model class 'VBoxModel' from module '@jupyter-widgets/controls'"
      }
     },
     "30e8eb1a34b745508c6174a48653abb7": {
      "model_module": "@jupyter-widgets/base",
      "model_module_version": "2.0.0",
      "model_name": "LayoutModel",
      "state": {
       "_view_name": "ErrorWidgetView",
       "error": {},
       "msg": "Failed to load model class 'LayoutModel' from module '@jupyter-widgets/base'"
      }
     },
     "30e91245fbf741a2b186f4eaa36f30cf": {
      "model_module": "@jupyter-widgets/base",
      "model_module_version": "2.0.0",
      "model_name": "LayoutModel",
      "state": {
       "_view_name": "ErrorWidgetView",
       "error": {},
       "msg": "Failed to load model class 'LayoutModel' from module '@jupyter-widgets/base'"
      }
     },
     "31501b994b754e96a8e634381e52f435": {
      "model_module": "@jupyter-widgets/controls",
      "model_module_version": "2.0.0",
      "model_name": "DescriptionStyleModel",
      "state": {
       "_view_name": "ErrorWidgetView",
       "description_width": "",
       "error": {},
       "msg": "Failed to load model class 'DescriptionStyleModel' from module '@jupyter-widgets/controls'"
      }
     },
     "3163f5a4f5624c22b02b6f7bcca708fc": {
      "model_module": "@jupyter-widgets/base",
      "model_module_version": "2.0.0",
      "model_name": "LayoutModel",
      "state": {
       "_view_name": "ErrorWidgetView",
       "error": {},
       "msg": "Failed to load model class 'LayoutModel' from module '@jupyter-widgets/base'"
      }
     },
     "31678fa8cb8f45609b8f9e9efc214146": {
      "model_module": "@jupyter-widgets/base",
      "model_module_version": "2.0.0",
      "model_name": "LayoutModel",
      "state": {
       "_view_name": "ErrorWidgetView",
       "error": {},
       "msg": "Failed to load model class 'LayoutModel' from module '@jupyter-widgets/base'"
      }
     },
     "33fed1997db043c897f202e4ffabaf9c": {
      "model_module": "@jupyter-widgets/controls",
      "model_module_version": "2.0.0",
      "model_name": "DescriptionStyleModel",
      "state": {
       "_view_name": "ErrorWidgetView",
       "description_width": "",
       "error": {},
       "msg": "Failed to load model class 'DescriptionStyleModel' from module '@jupyter-widgets/controls'"
      }
     },
     "355120c2db514d58908802a8db321431": {
      "model_module": "@jupyter-widgets/controls",
      "model_module_version": "2.0.0",
      "model_name": "ToggleButtonModel",
      "state": {
       "_view_name": "ErrorWidgetView",
       "description": "Continuous update",
       "error": {},
       "layout": "IPY_MODEL_1a04cb02a6074cbeb12069e0136fe036",
       "msg": "Failed to load model class 'ToggleButtonModel' from module '@jupyter-widgets/controls'",
       "style": "IPY_MODEL_ceb9ddba1f53418eb79b298ac1294cc9",
       "value": true
      }
     },
     "356afdc723c345bf8ebfe9ea1bd22f18": {
      "model_module": "@jupyter-widgets/base",
      "model_module_version": "2.0.0",
      "model_name": "LayoutModel",
      "state": {
       "_view_name": "ErrorWidgetView",
       "error": {},
       "msg": "Failed to load model class 'LayoutModel' from module '@jupyter-widgets/base'"
      }
     },
     "35705b8690e34a7bae5f23ec2ef31510": {
      "model_module": "@jupyter-widgets/base",
      "model_module_version": "2.0.0",
      "model_name": "LayoutModel",
      "state": {
       "_view_name": "ErrorWidgetView",
       "error": {},
       "msg": "Failed to load model class 'LayoutModel' from module '@jupyter-widgets/base'"
      }
     },
     "35c4d0b6935b478fb9d4a6e9990d0668": {
      "model_module": "@jupyter-widgets/controls",
      "model_module_version": "2.0.0",
      "model_name": "SelectionSliderModel",
      "state": {
       "_options_labels": [
        "74.041",
        "4.041"
       ],
       "_view_name": "ErrorWidgetView",
       "description": "C10 [Å]",
       "error": {},
       "index": 1,
       "layout": "IPY_MODEL_010775a720d04e10bec2a3717750bf87",
       "msg": "Failed to load model class 'SelectionSliderModel' from module '@jupyter-widgets/controls'",
       "style": "IPY_MODEL_9ed95deb6dad4fb0a37c563c93550684"
      }
     },
     "36007d5dcc6f468585a05736745aa007": {
      "model_module": "@jupyter-widgets/controls",
      "model_module_version": "2.0.0",
      "model_name": "ButtonStyleModel",
      "state": {
       "_view_name": "ErrorWidgetView",
       "error": {},
       "msg": "Failed to load model class 'ButtonStyleModel' from module '@jupyter-widgets/controls'"
      }
     },
     "36913b1a80424ff9a2dc8ace1140701c": {
      "model_module": "@jupyter-widgets/base",
      "model_module_version": "2.0.0",
      "model_name": "LayoutModel",
      "state": {
       "_view_name": "ErrorWidgetView",
       "error": {},
       "msg": "Failed to load model class 'LayoutModel' from module '@jupyter-widgets/base'",
       "width": "300px"
      }
     },
     "3702b9e005ba4f24be1b802f56eae5e0": {
      "model_module": "@jupyter-widgets/base",
      "model_module_version": "2.0.0",
      "model_name": "LayoutModel",
      "state": {
       "_view_name": "ErrorWidgetView",
       "error": {},
       "msg": "Failed to load model class 'LayoutModel' from module '@jupyter-widgets/base'"
      }
     },
     "3835126c2c3a425b8ace7556ce9c31df": {
      "model_module": "@jupyter-widgets/controls",
      "model_module_version": "2.0.0",
      "model_name": "ButtonStyleModel",
      "state": {
       "_view_name": "ErrorWidgetView",
       "error": {},
       "msg": "Failed to load model class 'ButtonStyleModel' from module '@jupyter-widgets/controls'"
      }
     },
     "38cb48b9752f4de4afc5eb63b69494f7": {
      "model_module": "@jupyter-widgets/controls",
      "model_module_version": "2.0.0",
      "model_name": "VBoxModel",
      "state": {
       "_view_name": "ErrorWidgetView",
       "children": [
        "IPY_MODEL_aeaf85c288bb40d998e01a6e45f98b51",
        "IPY_MODEL_3e4fd0894de240ff9baa58b10bc60baf",
        "IPY_MODEL_a30fa01aae0342e1a354d49028862a4b"
       ],
       "error": {},
       "layout": "IPY_MODEL_94d7b022df9a4c29bbb09f7f5913b530",
       "msg": "Failed to load model class 'VBoxModel' from module '@jupyter-widgets/controls'"
      }
     },
     "3a47c3371c2041518db7a5b9f34e67d0": {
      "model_module": "@jupyter-widgets/base",
      "model_module_version": "2.0.0",
      "model_name": "LayoutModel",
      "state": {
       "_view_name": "ErrorWidgetView",
       "error": {},
       "msg": "Failed to load model class 'LayoutModel' from module '@jupyter-widgets/base'"
      }
     },
     "3b7cd890d5c34d4797ede0ad7db971c1": {
      "model_module": "@jupyter-widgets/base",
      "model_module_version": "2.0.0",
      "model_name": "LayoutModel",
      "state": {
       "_view_name": "ErrorWidgetView",
       "error": {},
       "msg": "Failed to load model class 'LayoutModel' from module '@jupyter-widgets/base'"
      }
     },
     "3b832ed7e9174092b1190b80615d22b7": {
      "model_module": "@jupyter-widgets/base",
      "model_module_version": "2.0.0",
      "model_name": "LayoutModel",
      "state": {
       "_view_name": "ErrorWidgetView",
       "error": {},
       "msg": "Failed to load model class 'LayoutModel' from module '@jupyter-widgets/base'"
      }
     },
     "3b9c0055340140df9f948adc05daefc2": {
      "model_module": "@jupyter-widgets/controls",
      "model_module_version": "2.0.0",
      "model_name": "SliderStyleModel",
      "state": {
       "_view_name": "ErrorWidgetView",
       "description_width": "",
       "error": {},
       "msg": "Failed to load model class 'SliderStyleModel' from module '@jupyter-widgets/controls'"
      }
     },
     "3c6fa43e8cfc4e83b1f40f7784cf9231": {
      "model_module": "@jupyter-widgets/base",
      "model_module_version": "2.0.0",
      "model_name": "LayoutModel",
      "state": {
       "_view_name": "ErrorWidgetView",
       "error": {},
       "msg": "Failed to load model class 'LayoutModel' from module '@jupyter-widgets/base'"
      }
     },
     "3cc8d59425664f218c2283fbade41f76": {
      "model_module": "@jupyter-widgets/base",
      "model_module_version": "2.0.0",
      "model_name": "LayoutModel",
      "state": {
       "_view_name": "ErrorWidgetView",
       "error": {},
       "msg": "Failed to load model class 'LayoutModel' from module '@jupyter-widgets/base'"
      }
     },
     "3d16589365614d08a66a79ae063bab49": {
      "model_module": "@jupyter-widgets/base",
      "model_module_version": "2.0.0",
      "model_name": "LayoutModel",
      "state": {
       "_view_name": "ErrorWidgetView",
       "error": {},
       "msg": "Failed to load model class 'LayoutModel' from module '@jupyter-widgets/base'"
      }
     },
     "3e2c21d3f274489fb5acec97d06b94a8": {
      "model_module": "@jupyter-widgets/base",
      "model_module_version": "2.0.0",
      "model_name": "LayoutModel",
      "state": {
       "_view_name": "ErrorWidgetView",
       "error": {},
       "msg": "Failed to load model class 'LayoutModel' from module '@jupyter-widgets/base'"
      }
     },
     "3e41cc051edd412981359183a8f62f13": {
      "model_module": "@jupyter-widgets/base",
      "model_module_version": "2.0.0",
      "model_name": "LayoutModel",
      "state": {
       "_view_name": "ErrorWidgetView",
       "error": {},
       "msg": "Failed to load model class 'LayoutModel' from module '@jupyter-widgets/base'"
      }
     },
     "3e4fd0894de240ff9baa58b10bc60baf": {
      "model_module": "@jupyter-widgets/controls",
      "model_module_version": "2.0.0",
      "model_name": "VBoxModel",
      "state": {
       "_view_name": "ErrorWidgetView",
       "children": [
        "IPY_MODEL_b46ed2ee70374c1a9291a5454171f92c"
       ],
       "error": {},
       "layout": "IPY_MODEL_a0a094162eb5442ca12ace36db8e9bb5",
       "msg": "Failed to load model class 'VBoxModel' from module '@jupyter-widgets/controls'"
      }
     },
     "3ff6923810304b7f94266fe95d6b36ad": {
      "model_module": "@jupyter-widgets/controls",
      "model_module_version": "2.0.0",
      "model_name": "FloatSliderModel",
      "state": {
       "_view_name": "ErrorWidgetView",
       "description": "Power",
       "error": {},
       "layout": "IPY_MODEL_87348606eadb4186a07913eb35b3a2be",
       "max": 2,
       "min": 0.01,
       "msg": "Failed to load model class 'FloatSliderModel' from module '@jupyter-widgets/controls'",
       "step": 0.01,
       "style": "IPY_MODEL_3b9c0055340140df9f948adc05daefc2",
       "value": 1
      }
     },
     "40411549efb24194894a1dd630456fa6": {
      "model_module": "@jupyter-widgets/base",
      "model_module_version": "2.0.0",
      "model_name": "LayoutModel",
      "state": {
       "_view_name": "ErrorWidgetView",
       "error": {},
       "msg": "Failed to load model class 'LayoutModel' from module '@jupyter-widgets/base'",
       "width": "300px"
      }
     },
     "41c451800d3e4fec9872ae2edfd300dd": {
      "model_module": "@jupyter-widgets/controls",
      "model_module_version": "2.0.0",
      "model_name": "VBoxModel",
      "state": {
       "_view_name": "ErrorWidgetView",
       "children": [
        "IPY_MODEL_a23c81f5baed407584a5fcdf2fb41fb4"
       ],
       "error": {},
       "layout": "IPY_MODEL_85277826f80e4839a1c4ca609a18e7c0",
       "msg": "Failed to load model class 'VBoxModel' from module '@jupyter-widgets/controls'"
      }
     },
     "4382a5f9a2224c1b9c0bf9efcaee4d86": {
      "model_module": "@jupyter-widgets/controls",
      "model_module_version": "2.0.0",
      "model_name": "ButtonModel",
      "state": {
       "_view_name": "ErrorWidgetView",
       "description": "Scale",
       "error": {},
       "layout": "IPY_MODEL_2270d1fc92e0472d8fdcf7217677d768",
       "msg": "Failed to load model class 'ButtonModel' from module '@jupyter-widgets/controls'",
       "style": "IPY_MODEL_91e841ae9d74402db6ca6a5b70b98a16"
      }
     },
     "44100c285e0b469eb8e82b170b551e48": {
      "model_module": "@jupyter-widgets/base",
      "model_module_version": "2.0.0",
      "model_name": "LayoutModel",
      "state": {
       "_view_name": "ErrorWidgetView",
       "error": {},
       "msg": "Failed to load model class 'LayoutModel' from module '@jupyter-widgets/base'"
      }
     },
     "4462355bbf524902877b4ce3abaa85f0": {
      "model_module": "@jupyter-widgets/base",
      "model_module_version": "2.0.0",
      "model_name": "LayoutModel",
      "state": {
       "_view_name": "ErrorWidgetView",
       "error": {},
       "msg": "Failed to load model class 'LayoutModel' from module '@jupyter-widgets/base'"
      }
     },
     "45e26ddb9892498e8adc7a18a7f020b8": {
      "model_module": "@jupyter-widgets/base",
      "model_module_version": "2.0.0",
      "model_name": "LayoutModel",
      "state": {
       "_view_name": "ErrorWidgetView",
       "error": {},
       "msg": "Failed to load model class 'LayoutModel' from module '@jupyter-widgets/base'",
       "width": "50%"
      }
     },
     "45fed4368a394349908854ef3c9a3b4c": {
      "model_module": "@jupyter-widgets/base",
      "model_module_version": "2.0.0",
      "model_name": "LayoutModel",
      "state": {
       "_view_name": "ErrorWidgetView",
       "error": {},
       "msg": "Failed to load model class 'LayoutModel' from module '@jupyter-widgets/base'"
      }
     },
     "46f3fb7cbaee484aac05ceeab0d7f26a": {
      "model_module": "@jupyter-widgets/base",
      "model_module_version": "2.0.0",
      "model_name": "LayoutModel",
      "state": {
       "_view_name": "ErrorWidgetView",
       "error": {},
       "msg": "Failed to load model class 'LayoutModel' from module '@jupyter-widgets/base'"
      }
     },
     "47c269bfa9c148769f3649a497a84955": {
      "model_module": "@jupyter-widgets/controls",
      "model_module_version": "2.0.0",
      "model_name": "VBoxModel",
      "state": {
       "_view_name": "ErrorWidgetView",
       "children": [
        "IPY_MODEL_533f489e3e7f4ea09ada5c1011c3fe90",
        "IPY_MODEL_1ef43af280c94714b8db0c6373411412",
        "IPY_MODEL_16fc5982b0ca440484962d40d5997758"
       ],
       "error": {},
       "layout": "IPY_MODEL_825babed0d2c4a46ab3ab86ff69b9a73",
       "msg": "Failed to load model class 'VBoxModel' from module '@jupyter-widgets/controls'"
      }
     },
     "4848dc09a3434ef5b8145c2c4d906076": {
      "model_module": "@jupyter-widgets/base",
      "model_module_version": "2.0.0",
      "model_name": "LayoutModel",
      "state": {
       "_view_name": "ErrorWidgetView",
       "error": {},
       "msg": "Failed to load model class 'LayoutModel' from module '@jupyter-widgets/base'"
      }
     },
     "49514deca81a461ca132a7e7eb5c2015": {
      "model_module": "@jupyter-widgets/base",
      "model_module_version": "2.0.0",
      "model_name": "LayoutModel",
      "state": {
       "_view_name": "ErrorWidgetView",
       "error": {},
       "msg": "Failed to load model class 'LayoutModel' from module '@jupyter-widgets/base'"
      }
     },
     "4ac088245a404e6b8acbebf473bc0935": {
      "model_module": "@jupyter-widgets/controls",
      "model_module_version": "2.0.0",
      "model_name": "ToggleButtonModel",
      "state": {
       "_view_name": "ErrorWidgetView",
       "description": "Autoscale",
       "error": {},
       "layout": "IPY_MODEL_036d8fa59e4c45faaff633c2482b440c",
       "msg": "Failed to load model class 'ToggleButtonModel' from module '@jupyter-widgets/controls'",
       "style": "IPY_MODEL_af0bbb8654c74d8ca6b62e9750b3c499",
       "tooltip": "Autoscale",
       "value": true
      }
     },
     "4c59ce85067a40e3b190dd9e32966f49": {
      "model_module": "@jupyter-widgets/base",
      "model_module_version": "2.0.0",
      "model_name": "LayoutModel",
      "state": {
       "_view_name": "ErrorWidgetView",
       "error": {},
       "msg": "Failed to load model class 'LayoutModel' from module '@jupyter-widgets/base'"
      }
     },
     "4c7d672cef0c43f8902a269960a273c7": {
      "model_module": "@jupyter-widgets/controls",
      "model_module_version": "2.0.0",
      "model_name": "ButtonModel",
      "state": {
       "_view_name": "ErrorWidgetView",
       "description": "Scale",
       "error": {},
       "layout": "IPY_MODEL_cefb6a7b6cd446dd9bd8537acc4e3489",
       "msg": "Failed to load model class 'ButtonModel' from module '@jupyter-widgets/controls'",
       "style": "IPY_MODEL_36007d5dcc6f468585a05736745aa007"
      }
     },
     "4cafe2b452db4549b0fca852a979242f": {
      "model_module": "@jupyter-widgets/controls",
      "model_module_version": "2.0.0",
      "model_name": "HBoxModel",
      "state": {
       "_view_name": "ErrorWidgetView",
       "children": [
        "IPY_MODEL_ae3ca8938b374831aa3ce4dba65f8942",
        "IPY_MODEL_cba4bd2e0df74838adac3a43e3b6a0f7"
       ],
       "error": {},
       "layout": "IPY_MODEL_a06ad44b0d8c4594931ca02fc67cf3ec",
       "msg": "Failed to load model class 'HBoxModel' from module '@jupyter-widgets/controls'"
      }
     },
     "4d1be285b9884d7fae1e043fbf71f1ed": {
      "model_module": "@jupyter-widgets/base",
      "model_module_version": "2.0.0",
      "model_name": "LayoutModel",
      "state": {
       "_view_name": "ErrorWidgetView",
       "error": {},
       "msg": "Failed to load model class 'LayoutModel' from module '@jupyter-widgets/base'"
      }
     },
     "4d38c46c95364863b3fcbd9dabf43f32": {
      "model_module": "@jupyter-widgets/base",
      "model_module_version": "2.0.0",
      "model_name": "LayoutModel",
      "state": {
       "_view_name": "ErrorWidgetView",
       "error": {},
       "msg": "Failed to load model class 'LayoutModel' from module '@jupyter-widgets/base'"
      }
     },
     "4d5a935bef4249c981f42ed10f2c6397": {
      "model_module": "@jupyter-widgets/base",
      "model_module_version": "2.0.0",
      "model_name": "LayoutModel",
      "state": {
       "_view_name": "ErrorWidgetView",
       "error": {},
       "msg": "Failed to load model class 'LayoutModel' from module '@jupyter-widgets/base'"
      }
     },
     "4e5981a2245146248b085fa86490dd48": {
      "model_module": "@jupyter-widgets/base",
      "model_module_version": "2.0.0",
      "model_name": "LayoutModel",
      "state": {
       "_view_name": "ErrorWidgetView",
       "error": {},
       "msg": "Failed to load model class 'LayoutModel' from module '@jupyter-widgets/base'"
      }
     },
     "4e722817e7ca4a06a5de7c5afc9a2689": {
      "model_module": "@jupyter-widgets/base",
      "model_module_version": "2.0.0",
      "model_name": "LayoutModel",
      "state": {
       "_view_name": "ErrorWidgetView",
       "error": {},
       "msg": "Failed to load model class 'LayoutModel' from module '@jupyter-widgets/base'"
      }
     },
     "4ecd92a0fcbc4dacb03c88a85427972f": {
      "model_module": "@jupyter-widgets/base",
      "model_module_version": "2.0.0",
      "model_name": "LayoutModel",
      "state": {
       "_view_name": "ErrorWidgetView",
       "error": {},
       "msg": "Failed to load model class 'LayoutModel' from module '@jupyter-widgets/base'"
      }
     },
     "4fa00813469747ca900d33410f71de31": {
      "model_module": "@jupyter-widgets/base",
      "model_module_version": "2.0.0",
      "model_name": "LayoutModel",
      "state": {
       "_view_name": "ErrorWidgetView",
       "error": {},
       "msg": "Failed to load model class 'LayoutModel' from module '@jupyter-widgets/base'"
      }
     },
     "4fd7a2469d3046eb905d51ff5c290dfe": {
      "model_module": "@jupyter-widgets/base",
      "model_module_version": "2.0.0",
      "model_name": "LayoutModel",
      "state": {
       "_view_name": "ErrorWidgetView",
       "error": {},
       "msg": "Failed to load model class 'LayoutModel' from module '@jupyter-widgets/base'"
      }
     },
     "5040e60c104f4905a1e01aee16b99888": {
      "model_module": "@jupyter-widgets/base",
      "model_module_version": "2.0.0",
      "model_name": "LayoutModel",
      "state": {
       "_view_name": "ErrorWidgetView",
       "error": {},
       "msg": "Failed to load model class 'LayoutModel' from module '@jupyter-widgets/base'"
      }
     },
     "506d4197bdb34a378f528b0d8f051942": {
      "model_module": "@jupyter-widgets/base",
      "model_module_version": "2.0.0",
      "model_name": "LayoutModel",
      "state": {
       "_view_name": "ErrorWidgetView",
       "error": {},
       "msg": "Failed to load model class 'LayoutModel' from module '@jupyter-widgets/base'"
      }
     },
     "517ed961ef584f9c918a6ef69d0cf989": {
      "model_module": "@jupyter-widgets/base",
      "model_module_version": "2.0.0",
      "model_name": "LayoutModel",
      "state": {
       "_view_name": "ErrorWidgetView",
       "error": {},
       "msg": "Failed to load model class 'LayoutModel' from module '@jupyter-widgets/base'"
      }
     },
     "52ad3619c7394899953290ca67ca6e0d": {
      "model_module": "@jupyter-widgets/base",
      "model_module_version": "2.0.0",
      "model_name": "LayoutModel",
      "state": {
       "_view_name": "ErrorWidgetView",
       "error": {},
       "msg": "Failed to load model class 'LayoutModel' from module '@jupyter-widgets/base'"
      }
     },
     "533f489e3e7f4ea09ada5c1011c3fe90": {
      "model_module": "@jupyter-widgets/controls",
      "model_module_version": "2.0.0",
      "model_name": "VBoxModel",
      "state": {
       "_view_name": "ErrorWidgetView",
       "children": [
        "IPY_MODEL_5e5f65a212e74f4c9a9270fd37995719",
        "IPY_MODEL_8895164fb40d4b8abf319e77e520e18e"
       ],
       "error": {},
       "layout": "IPY_MODEL_ebf18fedd17b47c485246b9e94aced4d",
       "msg": "Failed to load model class 'VBoxModel' from module '@jupyter-widgets/controls'"
      }
     },
     "53d7fd5e799449df9dbe192cea6af06f": {
      "model_module": "@jupyter-widgets/controls",
      "model_module_version": "2.0.0",
      "model_name": "DescriptionStyleModel",
      "state": {
       "_view_name": "ErrorWidgetView",
       "description_width": "",
       "error": {},
       "msg": "Failed to load model class 'DescriptionStyleModel' from module '@jupyter-widgets/controls'"
      }
     },
     "54788df6756443e9b677227f2bba7a04": {
      "model_module": "@jupyter-widgets/controls",
      "model_module_version": "2.0.0",
      "model_name": "VBoxModel",
      "state": {
       "_view_name": "ErrorWidgetView",
       "children": [
        "IPY_MODEL_7c1266c69eaa49108ed000488059e066"
       ],
       "error": {},
       "layout": "IPY_MODEL_7190e359b1ba4737afbb886e2a2e005f",
       "msg": "Failed to load model class 'VBoxModel' from module '@jupyter-widgets/controls'"
      }
     },
     "5500cfabd0ab4485bf36d009462a5fe8": {
      "model_module": "@jupyter-widgets/base",
      "model_module_version": "2.0.0",
      "model_name": "LayoutModel",
      "state": {
       "_view_name": "ErrorWidgetView",
       "error": {},
       "msg": "Failed to load model class 'LayoutModel' from module '@jupyter-widgets/base'"
      }
     },
     "55079f170aa54bd5aff2f704dcbdfd48": {
      "model_module": "@jupyter-widgets/controls",
      "model_module_version": "2.0.0",
      "model_name": "DescriptionStyleModel",
      "state": {
       "_view_name": "ErrorWidgetView",
       "description_width": "",
       "error": {},
       "msg": "Failed to load model class 'DescriptionStyleModel' from module '@jupyter-widgets/controls'"
      }
     },
     "553afab2ddc048cbb72bb425d0dad5e8": {
      "model_module": "@jupyter-widgets/base",
      "model_module_version": "2.0.0",
      "model_name": "LayoutModel",
      "state": {
       "_view_name": "ErrorWidgetView",
       "error": {},
       "msg": "Failed to load model class 'LayoutModel' from module '@jupyter-widgets/base'"
      }
     },
     "5655e37882f64edea04ee7b338e273ce": {
      "model_module": "@jupyter-widgets/controls",
      "model_module_version": "2.0.0",
      "model_name": "HBoxModel",
      "state": {
       "_view_name": "ErrorWidgetView",
       "children": [
        "IPY_MODEL_68b6d77202834763b64f3d467bf9a86b",
        "IPY_MODEL_f697828f2e6f452bb640e9495b09a093"
       ],
       "error": {},
       "layout": "IPY_MODEL_e8f52d7db4ac40608fcc5893e974972b",
       "msg": "Failed to load model class 'HBoxModel' from module '@jupyter-widgets/controls'"
      }
     },
     "574754bba8f447808bf20623248771a0": {
      "model_module": "@jupyter-widgets/controls",
      "model_module_version": "2.0.0",
      "model_name": "ButtonStyleModel",
      "state": {
       "_view_name": "ErrorWidgetView",
       "error": {},
       "msg": "Failed to load model class 'ButtonStyleModel' from module '@jupyter-widgets/controls'"
      }
     },
     "580e10bc4a5f4477bf86e7a8d28a7844": {
      "model_module": "@jupyter-widgets/base",
      "model_module_version": "2.0.0",
      "model_name": "LayoutModel",
      "state": {
       "_view_name": "ErrorWidgetView",
       "error": {},
       "msg": "Failed to load model class 'LayoutModel' from module '@jupyter-widgets/base'"
      }
     },
     "590dfd89378d40ed81b64fa4d8a8f150": {
      "model_module": "@jupyter-widgets/base",
      "model_module_version": "2.0.0",
      "model_name": "LayoutModel",
      "state": {
       "_view_name": "ErrorWidgetView",
       "error": {},
       "msg": "Failed to load model class 'LayoutModel' from module '@jupyter-widgets/base'"
      }
     },
     "5a13f47c7c25408680eb4bdc4effe561": {
      "model_module": "@jupyter-widgets/base",
      "model_module_version": "2.0.0",
      "model_name": "LayoutModel",
      "state": {
       "_view_name": "ErrorWidgetView",
       "error": {},
       "msg": "Failed to load model class 'LayoutModel' from module '@jupyter-widgets/base'",
       "width": "300px"
      }
     },
     "5a5bacfd5b7146759276fdc2ccc6d2d2": {
      "model_module": "@jupyter-widgets/base",
      "model_module_version": "2.0.0",
      "model_name": "LayoutModel",
      "state": {
       "_view_name": "ErrorWidgetView",
       "error": {},
       "msg": "Failed to load model class 'LayoutModel' from module '@jupyter-widgets/base'"
      }
     },
     "5c45d85c8d154dfb8486084903eb736a": {
      "model_module": "@jupyter-widgets/controls",
      "model_module_version": "2.0.0",
      "model_name": "HBoxModel",
      "state": {
       "_view_name": "ErrorWidgetView",
       "children": [
        "IPY_MODEL_c97e780a0bc0474fafb9da67403f1c65",
        "IPY_MODEL_d1ee18dbf203420481105e4e585dc384",
        "IPY_MODEL_355120c2db514d58908802a8db321431"
       ],
       "error": {},
       "layout": "IPY_MODEL_8dd97156061a4796b2fc5a7376989045",
       "msg": "Failed to load model class 'HBoxModel' from module '@jupyter-widgets/controls'"
      }
     },
     "5c6fb0909c844ea58f7640d3cfd3c987": {
      "model_module": "@jupyter-widgets/controls",
      "model_module_version": "2.0.0",
      "model_name": "VBoxModel",
      "state": {
       "_view_name": "ErrorWidgetView",
       "children": [
        "IPY_MODEL_d6bbbe6fff50445987c86f975b6a8796",
        "IPY_MODEL_7d59447888614c779831c6685c924b25",
        "IPY_MODEL_3ff6923810304b7f94266fe95d6b36ad"
       ],
       "error": {},
       "layout": "IPY_MODEL_d7bc11e379f942d58adb26903ac7a863",
       "msg": "Failed to load model class 'VBoxModel' from module '@jupyter-widgets/controls'"
      }
     },
     "5cf35eb37789463092207b07aa5a91cb": {
      "model_module": "@jupyter-widgets/base",
      "model_module_version": "2.0.0",
      "model_name": "LayoutModel",
      "state": {
       "_view_name": "ErrorWidgetView",
       "error": {},
       "msg": "Failed to load model class 'LayoutModel' from module '@jupyter-widgets/base'"
      }
     },
     "5d78194e76c3411ca0630ec82a9410bb": {
      "model_module": "@jupyter-widgets/controls",
      "model_module_version": "2.0.0",
      "model_name": "ToggleButtonModel",
      "state": {
       "_view_name": "ErrorWidgetView",
       "description": "Autoscale",
       "error": {},
       "layout": "IPY_MODEL_a26256bb0074469887fe954b74e90d2a",
       "msg": "Failed to load model class 'ToggleButtonModel' from module '@jupyter-widgets/controls'",
       "style": "IPY_MODEL_2c11b6e533cf49d89dd260fa7c2dfd6e",
       "tooltip": "Autoscale",
       "value": true
      }
     },
     "5ddc72ee3e9843cfb836961e5e0c91f2": {
      "model_module": "@jupyter-widgets/base",
      "model_module_version": "2.0.0",
      "model_name": "LayoutModel",
      "state": {
       "_view_name": "ErrorWidgetView",
       "error": {},
       "msg": "Failed to load model class 'LayoutModel' from module '@jupyter-widgets/base'"
      }
     },
     "5e5f65a212e74f4c9a9270fd37995719": {
      "model_module": "@jupyter-widgets/controls",
      "model_module_version": "2.0.0",
      "model_name": "SelectionSliderModel",
      "state": {
       "_options_labels": [
        "0.000",
        "0.368",
        "0.736",
        "1.104",
        "1.473",
        "1.841",
        "2.209",
        "2.577",
        "2.945",
        "3.313",
        "3.682",
        "4.050",
        "4.418",
        "4.786",
        "5.154"
       ],
       "_view_name": "ErrorWidgetView",
       "description": "x [Å]",
       "error": {},
       "index": 14,
       "layout": "IPY_MODEL_580e10bc4a5f4477bf86e7a8d28a7844",
       "msg": "Failed to load model class 'SelectionSliderModel' from module '@jupyter-widgets/controls'",
       "style": "IPY_MODEL_0bc02908f8534318b34ae2f112973289"
      }
     },
     "5e8c6681d79049e19e67cc322fa15526": {
      "model_module": "@jupyter-widgets/base",
      "model_module_version": "2.0.0",
      "model_name": "LayoutModel",
      "state": {
       "_view_name": "ErrorWidgetView",
       "error": {},
       "msg": "Failed to load model class 'LayoutModel' from module '@jupyter-widgets/base'"
      }
     },
     "5ecfe7b3da9a4a17adf79dba09556fd8": {
      "model_module": "@jupyter-widgets/base",
      "model_module_version": "2.0.0",
      "model_name": "LayoutModel",
      "state": {
       "_view_name": "ErrorWidgetView",
       "error": {},
       "msg": "Failed to load model class 'LayoutModel' from module '@jupyter-widgets/base'"
      }
     },
     "5ef7901b0a15409eb73142c4ce13644d": {
      "model_module": "@jupyter-widgets/base",
      "model_module_version": "2.0.0",
      "model_name": "LayoutModel",
      "state": {
       "_view_name": "ErrorWidgetView",
       "error": {},
       "msg": "Failed to load model class 'LayoutModel' from module '@jupyter-widgets/base'"
      }
     },
     "5f0a63fd9cfd415988911e24a04c946c": {
      "model_module": "@jupyter-widgets/base",
      "model_module_version": "2.0.0",
      "model_name": "LayoutModel",
      "state": {
       "_view_name": "ErrorWidgetView",
       "error": {},
       "msg": "Failed to load model class 'LayoutModel' from module '@jupyter-widgets/base'",
       "width": "20%"
      }
     },
     "600d7ee001aa44e4bbf98dc031db7757": {
      "model_module": "@jupyter-widgets/base",
      "model_module_version": "2.0.0",
      "model_name": "LayoutModel",
      "state": {
       "_view_name": "ErrorWidgetView",
       "error": {},
       "msg": "Failed to load model class 'LayoutModel' from module '@jupyter-widgets/base'"
      }
     },
     "6049effd68fb4469bfce662e267b8601": {
      "model_module": "@jupyter-widgets/base",
      "model_module_version": "2.0.0",
      "model_name": "LayoutModel",
      "state": {
       "_view_name": "ErrorWidgetView",
       "error": {},
       "msg": "Failed to load model class 'LayoutModel' from module '@jupyter-widgets/base'"
      }
     },
     "6078378dc83c4c7b9f31a0c24b2faf14": {
      "model_module": "@jupyter-widgets/base",
      "model_module_version": "2.0.0",
      "model_name": "LayoutModel",
      "state": {
       "_view_name": "ErrorWidgetView",
       "error": {},
       "msg": "Failed to load model class 'LayoutModel' from module '@jupyter-widgets/base'"
      }
     },
     "60e8876f46874c9aac363d2820472964": {
      "model_module": "@jupyter-widgets/base",
      "model_module_version": "2.0.0",
      "model_name": "LayoutModel",
      "state": {
       "_view_name": "ErrorWidgetView",
       "error": {},
       "msg": "Failed to load model class 'LayoutModel' from module '@jupyter-widgets/base'"
      }
     },
     "611d164f6d684d3486583d9fda54840a": {
      "model_module": "@jupyter-widgets/base",
      "model_module_version": "2.0.0",
      "model_name": "LayoutModel",
      "state": {
       "_view_name": "ErrorWidgetView",
       "error": {},
       "msg": "Failed to load model class 'LayoutModel' from module '@jupyter-widgets/base'",
       "width": "20%"
      }
     },
     "61f725fb37404c979d35a15e11bf75de": {
      "model_module": "@jupyter-widgets/base",
      "model_module_version": "2.0.0",
      "model_name": "LayoutModel",
      "state": {
       "_view_name": "ErrorWidgetView",
       "error": {},
       "msg": "Failed to load model class 'LayoutModel' from module '@jupyter-widgets/base'"
      }
     },
     "62127b9e2543458597467f810779ca09": {
      "model_module": "@jupyter-widgets/controls",
      "model_module_version": "2.0.0",
      "model_name": "SliderStyleModel",
      "state": {
       "_view_name": "ErrorWidgetView",
       "description_width": "",
       "error": {},
       "msg": "Failed to load model class 'SliderStyleModel' from module '@jupyter-widgets/controls'"
      }
     },
     "623a47da0ba543b684a2f7db38824ec2": {
      "model_module": "@jupyter-widgets/base",
      "model_module_version": "2.0.0",
      "model_name": "LayoutModel",
      "state": {
       "_view_name": "ErrorWidgetView",
       "error": {},
       "msg": "Failed to load model class 'LayoutModel' from module '@jupyter-widgets/base'"
      }
     },
     "62d7ab04affd4cf48065175018f70263": {
      "model_module": "@jupyter-widgets/base",
      "model_module_version": "2.0.0",
      "model_name": "LayoutModel",
      "state": {
       "_view_name": "ErrorWidgetView",
       "error": {},
       "msg": "Failed to load model class 'LayoutModel' from module '@jupyter-widgets/base'"
      }
     },
     "6310b565ea1245f4898bcee88c3f89c0": {
      "model_module": "@jupyter-widgets/base",
      "model_module_version": "2.0.0",
      "model_name": "LayoutModel",
      "state": {
       "_view_name": "ErrorWidgetView",
       "error": {},
       "msg": "Failed to load model class 'LayoutModel' from module '@jupyter-widgets/base'"
      }
     },
     "63a789ed6fd44255b53ec64528c27c48": {
      "model_module": "@jupyter-widgets/controls",
      "model_module_version": "2.0.0",
      "model_name": "SelectionSliderModel",
      "state": {
       "_options_labels": [
        "0",
        "-70"
       ],
       "_view_name": "ErrorWidgetView",
       "description": "C10 [Å]",
       "error": {},
       "index": 1,
       "layout": "IPY_MODEL_866c3699618044618f388ccde4442560",
       "msg": "Failed to load model class 'SelectionSliderModel' from module '@jupyter-widgets/controls'",
       "style": "IPY_MODEL_06abfa5070b74d66b7b384ad7bfe9f57"
      }
     },
     "6465896ba550425bb6a9a6b679f83553": {
      "model_module": "@jupyter-widgets/base",
      "model_module_version": "2.0.0",
      "model_name": "LayoutModel",
      "state": {
       "_view_name": "ErrorWidgetView",
       "error": {},
       "msg": "Failed to load model class 'LayoutModel' from module '@jupyter-widgets/base'"
      }
     },
     "648e121fe1ae422280ac655acc21c8e1": {
      "model_module": "@jupyter-widgets/base",
      "model_module_version": "2.0.0",
      "model_name": "LayoutModel",
      "state": {
       "_view_name": "ErrorWidgetView",
       "error": {},
       "msg": "Failed to load model class 'LayoutModel' from module '@jupyter-widgets/base'"
      }
     },
     "668c644c71cd41249ccfa500f8afc751": {
      "model_module": "@jupyter-widgets/controls",
      "model_module_version": "2.0.0",
      "model_name": "SelectionRangeSliderModel",
      "state": {
       "_model_name": "SelectionRangeSliderModel",
       "_options_labels": [
        "0.000",
        "1.003",
        "2.007",
        "3.010",
        "4.013",
        "5.017",
        "6.020",
        "7.023",
        "8.027",
        "9.030",
        "10.033",
        "11.037",
        "12.040",
        "13.044",
        "14.047",
        "15.050",
        "16.054",
        "17.057",
        "18.060",
        "19.064",
        "20.067",
        "21.070",
        "22.074",
        "23.077",
        "24.080",
        "25.084",
        "26.087",
        "27.090",
        "28.094",
        "29.097",
        "30.100",
        "31.104",
        "32.107",
        "33.111",
        "34.114",
        "35.117",
        "36.121",
        "37.124",
        "38.127",
        "39.131",
        "40.134",
        "41.137",
        "42.141",
        "43.144",
        "44.147",
        "45.151",
        "46.154",
        "47.157",
        "48.161",
        "49.164",
        "50.167",
        "51.171",
        "52.174",
        "53.178",
        "54.181",
        "55.184",
        "56.188",
        "57.191",
        "58.194",
        "59.198",
        "60.201",
        "61.204",
        "62.208",
        "63.211",
        "64.214",
        "65.218",
        "66.221",
        "67.224",
        "68.228",
        "69.231",
        "70.234",
        "71.238",
        "72.241",
        "73.244",
        "74.248",
        "75.251",
        "76.255",
        "77.258",
        "78.261",
        "79.265",
        "80.268",
        "81.271",
        "82.275",
        "83.278",
        "84.281",
        "85.285",
        "86.288",
        "87.291",
        "88.295",
        "89.298",
        "90.301",
        "91.305",
        "92.308",
        "93.311",
        "94.315",
        "95.318",
        "96.322",
        "97.325",
        "98.328",
        "99.332"
       ],
       "_view_name": "ErrorWidgetView",
       "description": "Radial scattering angle [mrad]",
       "error": {},
       "index": [
        56,
        99
       ],
       "layout": "IPY_MODEL_60e8876f46874c9aac363d2820472964",
       "msg": "Failed to load model class 'SelectionRangeSliderModel' from module '@jupyter-widgets/controls'",
       "style": "IPY_MODEL_a8015d2fab394a77ba81ec1677b14d34"
      }
     },
     "66fcc1edc05f4e4e841a6d4ed16cac27": {
      "model_module": "@jupyter-widgets/base",
      "model_module_version": "2.0.0",
      "model_name": "LayoutModel",
      "state": {
       "_view_name": "ErrorWidgetView",
       "error": {},
       "msg": "Failed to load model class 'LayoutModel' from module '@jupyter-widgets/base'"
      }
     },
     "674d9970beb44472a0f30e4a494c5c00": {
      "model_module": "@jupyter-widgets/controls",
      "model_module_version": "2.0.0",
      "model_name": "ToggleButtonModel",
      "state": {
       "_view_name": "ErrorWidgetView",
       "description": "Continuous update",
       "error": {},
       "layout": "IPY_MODEL_45e26ddb9892498e8adc7a18a7f020b8",
       "msg": "Failed to load model class 'ToggleButtonModel' from module '@jupyter-widgets/controls'",
       "style": "IPY_MODEL_e68b51dded8d4f428cf01176bf813f76",
       "value": true
      }
     },
     "67ecb3e2bdd846a28b88ab4a4d6fca55": {
      "model_module": "@jupyter-widgets/controls",
      "model_module_version": "2.0.0",
      "model_name": "HBoxModel",
      "state": {
       "_view_name": "ErrorWidgetView",
       "children": [
        "IPY_MODEL_5c6fb0909c844ea58f7640d3cfd3c987",
        "IPY_MODEL_c51cb6930309453381973d3058b44400"
       ],
       "error": {},
       "layout": "IPY_MODEL_e8b0c3474515497fb882479edd439768",
       "msg": "Failed to load model class 'HBoxModel' from module '@jupyter-widgets/controls'"
      }
     },
     "68b6d77202834763b64f3d467bf9a86b": {
      "model_module": "@jupyter-widgets/controls",
      "model_module_version": "2.0.0",
      "model_name": "VBoxModel",
      "state": {
       "_view_name": "ErrorWidgetView",
       "children": [
        "IPY_MODEL_302ca76a8ec047bd9ebb440b2de2e72d",
        "IPY_MODEL_d41feb85c5034de69d0947957cc6bdc0",
        "IPY_MODEL_b6d3b2c715e44a84945a0a666172aa3a"
       ],
       "error": {},
       "layout": "IPY_MODEL_b7ae7303e5c94511b873e0fd8a24a3fa",
       "msg": "Failed to load model class 'VBoxModel' from module '@jupyter-widgets/controls'"
      }
     },
     "692f3d2e3993479f8c16cef8310412b0": {
      "model_module": "@jupyter-widgets/controls",
      "model_module_version": "2.0.0",
      "model_name": "SliderStyleModel",
      "state": {
       "_view_name": "ErrorWidgetView",
       "description_width": "",
       "error": {},
       "msg": "Failed to load model class 'SliderStyleModel' from module '@jupyter-widgets/controls'"
      }
     },
     "6b55de9ad8e64628bbcfe81706e58620": {
      "model_module": "@jupyter-widgets/base",
      "model_module_version": "2.0.0",
      "model_name": "LayoutModel",
      "state": {
       "_view_name": "ErrorWidgetView",
       "error": {},
       "msg": "Failed to load model class 'LayoutModel' from module '@jupyter-widgets/base'"
      }
     },
     "6b85315eb255424fa07c7b153aa91097": {
      "model_module": "@jupyter-widgets/base",
      "model_module_version": "2.0.0",
      "model_name": "LayoutModel",
      "state": {
       "_view_name": "ErrorWidgetView",
       "error": {},
       "msg": "Failed to load model class 'LayoutModel' from module '@jupyter-widgets/base'"
      }
     },
     "6c32cb333ad443a89193ddef924c1bbe": {
      "model_module": "@jupyter-widgets/base",
      "model_module_version": "2.0.0",
      "model_name": "LayoutModel",
      "state": {
       "_view_name": "ErrorWidgetView",
       "error": {},
       "msg": "Failed to load model class 'LayoutModel' from module '@jupyter-widgets/base'"
      }
     },
     "6cc2ead023e44875a3e8f22c4d6f733a": {
      "model_module": "@jupyter-widgets/base",
      "model_module_version": "2.0.0",
      "model_name": "LayoutModel",
      "state": {
       "_view_name": "ErrorWidgetView",
       "error": {},
       "msg": "Failed to load model class 'LayoutModel' from module '@jupyter-widgets/base'"
      }
     },
     "6d3ec571fd194d68841c04e2ac5b5219": {
      "model_module": "@jupyter-widgets/base",
      "model_module_version": "2.0.0",
      "model_name": "LayoutModel",
      "state": {
       "_view_name": "ErrorWidgetView",
       "error": {},
       "msg": "Failed to load model class 'LayoutModel' from module '@jupyter-widgets/base'"
      }
     },
     "6dab7f341dcd4512b8b238bedcbf1b84": {
      "model_module": "@jupyter-widgets/base",
      "model_module_version": "2.0.0",
      "model_name": "LayoutModel",
      "state": {
       "_view_name": "ErrorWidgetView",
       "error": {},
       "msg": "Failed to load model class 'LayoutModel' from module '@jupyter-widgets/base'",
       "width": "300px"
      }
     },
     "6eb2a2fe87d24ee89408262c7e5ee1e0": {
      "model_module": "@jupyter-widgets/base",
      "model_module_version": "2.0.0",
      "model_name": "LayoutModel",
      "state": {
       "_view_name": "ErrorWidgetView",
       "error": {},
       "msg": "Failed to load model class 'LayoutModel' from module '@jupyter-widgets/base'"
      }
     },
     "6ef113f2463342ca816105d07f6078df": {
      "model_module": "@jupyter-widgets/base",
      "model_module_version": "2.0.0",
      "model_name": "LayoutModel",
      "state": {
       "_view_name": "ErrorWidgetView",
       "error": {},
       "msg": "Failed to load model class 'LayoutModel' from module '@jupyter-widgets/base'"
      }
     },
     "70fa45abc4d048fbb9da91d9b57d69cd": {
      "model_module": "@jupyter-widgets/controls",
      "model_module_version": "2.0.0",
      "model_name": "FloatSliderModel",
      "state": {
       "_view_name": "ErrorWidgetView",
       "description": "Power",
       "error": {},
       "layout": "IPY_MODEL_72c311a178f3499ab691b4e66f219128",
       "max": 2,
       "min": 0.01,
       "msg": "Failed to load model class 'FloatSliderModel' from module '@jupyter-widgets/controls'",
       "step": 0.01,
       "style": "IPY_MODEL_f04a2487a29545c399916969efae49aa",
       "value": 1
      }
     },
     "717afe7f51944bbeb9b5eae7abc6b929": {
      "model_module": "@jupyter-widgets/controls",
      "model_module_version": "2.0.0",
      "model_name": "VBoxModel",
      "state": {
       "_view_name": "ErrorWidgetView",
       "children": [
        "IPY_MODEL_b5f67a3c49804671993ca2fb0c09e0a4",
        "IPY_MODEL_8a12e7e871b54b1490a3e5636c73d57b",
        "IPY_MODEL_1e912dc1811a440eaa98d8ea2d7b4dfc"
       ],
       "error": {},
       "layout": "IPY_MODEL_4fa00813469747ca900d33410f71de31",
       "msg": "Failed to load model class 'VBoxModel' from module '@jupyter-widgets/controls'"
      }
     },
     "718bf05a8ecf414194d0c679cd641b04": {
      "model_module": "@jupyter-widgets/base",
      "model_module_version": "2.0.0",
      "model_name": "LayoutModel",
      "state": {
       "_view_name": "ErrorWidgetView",
       "error": {},
       "msg": "Failed to load model class 'LayoutModel' from module '@jupyter-widgets/base'",
       "width": "50%"
      }
     },
     "7190e359b1ba4737afbb886e2a2e005f": {
      "model_module": "@jupyter-widgets/base",
      "model_module_version": "2.0.0",
      "model_name": "LayoutModel",
      "state": {
       "_view_name": "ErrorWidgetView",
       "error": {},
       "msg": "Failed to load model class 'LayoutModel' from module '@jupyter-widgets/base'",
       "width": "300px"
      }
     },
     "72c311a178f3499ab691b4e66f219128": {
      "model_module": "@jupyter-widgets/base",
      "model_module_version": "2.0.0",
      "model_name": "LayoutModel",
      "state": {
       "_view_name": "ErrorWidgetView",
       "error": {},
       "msg": "Failed to load model class 'LayoutModel' from module '@jupyter-widgets/base'"
      }
     },
     "746c3a5b3969469199d7791850cf5f16": {
      "model_module": "@jupyter-widgets/controls",
      "model_module_version": "2.0.0",
      "model_name": "SelectionSliderModel",
      "state": {
       "_options_labels": [
        "0.000, 0.000",
        "0.000, -0.600",
        "0.120, 0.600",
        "0.240, 0.000",
        "0.240, -0.600"
       ],
       "_view_name": "ErrorWidgetView",
       "description": "q [1/Å]",
       "error": {},
       "index": 0,
       "layout": "IPY_MODEL_029132b119694eefb0d9a6c93922d35b",
       "msg": "Failed to load model class 'SelectionSliderModel' from module '@jupyter-widgets/controls'",
       "style": "IPY_MODEL_102eba2329fe4263aaff750e8ada7b5f"
      }
     },
     "7539972f4111429baf5d0ca8d5895668": {
      "model_module": "@jupyter-widgets/base",
      "model_module_version": "2.0.0",
      "model_name": "LayoutModel",
      "state": {
       "_view_name": "ErrorWidgetView",
       "error": {},
       "msg": "Failed to load model class 'LayoutModel' from module '@jupyter-widgets/base'",
       "width": "30%"
      }
     },
     "759b6e492df7423da26f2382a0606685": {
      "model_module": "@jupyter-widgets/controls",
      "model_module_version": "2.0.0",
      "model_name": "ButtonStyleModel",
      "state": {
       "_view_name": "ErrorWidgetView",
       "error": {},
       "msg": "Failed to load model class 'ButtonStyleModel' from module '@jupyter-widgets/controls'"
      }
     },
     "75a3d30b511d4924b85433b6b3ac58a3": {
      "model_module": "@jupyter-widgets/base",
      "model_module_version": "2.0.0",
      "model_name": "LayoutModel",
      "state": {
       "_view_name": "ErrorWidgetView",
       "error": {},
       "msg": "Failed to load model class 'LayoutModel' from module '@jupyter-widgets/base'"
      }
     },
     "76cbb37bef2c4b7ebb67c99fdb95ca76": {
      "model_module": "@jupyter-widgets/base",
      "model_module_version": "2.0.0",
      "model_name": "LayoutModel",
      "state": {
       "_view_name": "ErrorWidgetView",
       "error": {},
       "msg": "Failed to load model class 'LayoutModel' from module '@jupyter-widgets/base'"
      }
     },
     "76f6be1bafe140cb8c94013404faea07": {
      "model_module": "@jupyter-widgets/base",
      "model_module_version": "2.0.0",
      "model_name": "LayoutModel",
      "state": {
       "_view_name": "ErrorWidgetView",
       "error": {},
       "msg": "Failed to load model class 'LayoutModel' from module '@jupyter-widgets/base'"
      }
     },
     "792955da67444dc0b2e4dfbd53fcfeb8": {
      "model_module": "@jupyter-widgets/base",
      "model_module_version": "2.0.0",
      "model_name": "LayoutModel",
      "state": {
       "_view_name": "ErrorWidgetView",
       "error": {},
       "msg": "Failed to load model class 'LayoutModel' from module '@jupyter-widgets/base'"
      }
     },
     "79a4c520373f44a7a450b0b9167aaefd": {
      "model_module": "@jupyter-widgets/base",
      "model_module_version": "2.0.0",
      "model_name": "LayoutModel",
      "state": {
       "_view_name": "ErrorWidgetView",
       "error": {},
       "msg": "Failed to load model class 'LayoutModel' from module '@jupyter-widgets/base'"
      }
     },
     "7a247e4b2bc84de7bad504857419ee05": {
      "model_module": "@jupyter-widgets/controls",
      "model_module_version": "2.0.0",
      "model_name": "DescriptionStyleModel",
      "state": {
       "_view_name": "ErrorWidgetView",
       "description_width": "",
       "error": {},
       "msg": "Failed to load model class 'DescriptionStyleModel' from module '@jupyter-widgets/controls'"
      }
     },
     "7add936bc42b458e9cd8dcc415567140": {
      "model_module": "@jupyter-widgets/controls",
      "model_module_version": "2.0.0",
      "model_name": "VBoxModel",
      "state": {
       "_view_name": "ErrorWidgetView",
       "children": [
        "IPY_MODEL_e22c3da302104396aeb3591de2461b96"
       ],
       "error": {},
       "layout": "IPY_MODEL_f751b3e1f74c43f1bc1badb351287dc5",
       "msg": "Failed to load model class 'VBoxModel' from module '@jupyter-widgets/controls'"
      }
     },
     "7b1d8900cda94e98845471faa4260880": {
      "model_module": "@jupyter-widgets/base",
      "model_module_version": "2.0.0",
      "model_name": "LayoutModel",
      "state": {
       "_view_name": "ErrorWidgetView",
       "error": {},
       "msg": "Failed to load model class 'LayoutModel' from module '@jupyter-widgets/base'"
      }
     },
     "7b1fc1a45d304129adb7a33353d43aa2": {
      "model_module": "@jupyter-widgets/base",
      "model_module_version": "2.0.0",
      "model_name": "LayoutModel",
      "state": {
       "_view_name": "ErrorWidgetView",
       "error": {},
       "msg": "Failed to load model class 'LayoutModel' from module '@jupyter-widgets/base'"
      }
     },
     "7bd5572d3e464cb48077f3716f4dad31": {
      "model_module": "@jupyter-widgets/base",
      "model_module_version": "2.0.0",
      "model_name": "LayoutModel",
      "state": {
       "_view_name": "ErrorWidgetView",
       "error": {},
       "msg": "Failed to load model class 'LayoutModel' from module '@jupyter-widgets/base'"
      }
     },
     "7c1266c69eaa49108ed000488059e066": {
      "model_module": "@jupyter-widgets/controls",
      "model_module_version": "2.0.0",
      "model_name": "HBoxModel",
      "state": {
       "_view_name": "ErrorWidgetView",
       "children": [
        "IPY_MODEL_7dbd18a732054cda9b3b7bc809837d47",
        "IPY_MODEL_a05c340e9dc145aab02b4ef8b1794204",
        "IPY_MODEL_e418d93fef594887ae74352f0fc610b7"
       ],
       "error": {},
       "layout": "IPY_MODEL_b7b60066e8fa402685a5d8e004d6c1dd",
       "msg": "Failed to load model class 'HBoxModel' from module '@jupyter-widgets/controls'"
      }
     },
     "7c410fffab0849c298643e6ad434667e": {
      "model_module": "@jupyter-widgets/base",
      "model_module_version": "2.0.0",
      "model_name": "LayoutModel",
      "state": {
       "_view_name": "ErrorWidgetView",
       "error": {},
       "msg": "Failed to load model class 'LayoutModel' from module '@jupyter-widgets/base'"
      }
     },
     "7d59447888614c779831c6685c924b25": {
      "model_module": "@jupyter-widgets/controls",
      "model_module_version": "2.0.0",
      "model_name": "VBoxModel",
      "state": {
       "_view_name": "ErrorWidgetView",
       "children": [
        "IPY_MODEL_09de840472034a74a0abf1ba055041c0"
       ],
       "error": {},
       "layout": "IPY_MODEL_ea5ae868996244ce9195b767d84a12a2",
       "msg": "Failed to load model class 'VBoxModel' from module '@jupyter-widgets/controls'"
      }
     },
     "7db1d923a1264651811340eabda35f43": {
      "model_module": "@jupyter-widgets/base",
      "model_module_version": "2.0.0",
      "model_name": "LayoutModel",
      "state": {
       "_view_name": "ErrorWidgetView",
       "error": {},
       "msg": "Failed to load model class 'LayoutModel' from module '@jupyter-widgets/base'"
      }
     },
     "7dbd18a732054cda9b3b7bc809837d47": {
      "model_module": "@jupyter-widgets/controls",
      "model_module_version": "2.0.0",
      "model_name": "ButtonModel",
      "state": {
       "_view_name": "ErrorWidgetView",
       "description": "Scale",
       "error": {},
       "layout": "IPY_MODEL_5f0a63fd9cfd415988911e24a04c946c",
       "msg": "Failed to load model class 'ButtonModel' from module '@jupyter-widgets/controls'",
       "style": "IPY_MODEL_574754bba8f447808bf20623248771a0"
      }
     },
     "7eec76c313de40279dde00b173b1416e": {
      "model_module": "@jupyter-widgets/controls",
      "model_module_version": "2.0.0",
      "model_name": "VBoxModel",
      "state": {
       "_view_name": "ErrorWidgetView",
       "children": [
        "IPY_MODEL_7add936bc42b458e9cd8dcc415567140",
        "IPY_MODEL_d653f8ab8dca4be5ac436f93627dc1e5",
        "IPY_MODEL_70fa45abc4d048fbb9da91d9b57d69cd"
       ],
       "error": {},
       "layout": "IPY_MODEL_46f3fb7cbaee484aac05ceeab0d7f26a",
       "msg": "Failed to load model class 'VBoxModel' from module '@jupyter-widgets/controls'"
      }
     },
     "81ed8478e9d24521a7f609b8c4bc149f": {
      "model_module": "@jupyter-widgets/base",
      "model_module_version": "2.0.0",
      "model_name": "LayoutModel",
      "state": {
       "_view_name": "ErrorWidgetView",
       "error": {},
       "msg": "Failed to load model class 'LayoutModel' from module '@jupyter-widgets/base'",
       "width": "30%"
      }
     },
     "825babed0d2c4a46ab3ab86ff69b9a73": {
      "model_module": "@jupyter-widgets/base",
      "model_module_version": "2.0.0",
      "model_name": "LayoutModel",
      "state": {
       "_view_name": "ErrorWidgetView",
       "error": {},
       "msg": "Failed to load model class 'LayoutModel' from module '@jupyter-widgets/base'"
      }
     },
     "8331f779c21145dc9c41ff31a0dc03c1": {
      "model_module": "@jupyter-widgets/base",
      "model_module_version": "2.0.0",
      "model_name": "LayoutModel",
      "state": {
       "_view_name": "ErrorWidgetView",
       "error": {},
       "msg": "Failed to load model class 'LayoutModel' from module '@jupyter-widgets/base'"
      }
     },
     "83a5eef174534220b8b130d39ee5644a": {
      "model_module": "@jupyter-widgets/base",
      "model_module_version": "2.0.0",
      "model_name": "LayoutModel",
      "state": {
       "_view_name": "ErrorWidgetView",
       "error": {},
       "msg": "Failed to load model class 'LayoutModel' from module '@jupyter-widgets/base'"
      }
     },
     "83dd513e12eb4d239e98c4f2b456bd39": {
      "model_module": "@jupyter-widgets/base",
      "model_module_version": "2.0.0",
      "model_name": "LayoutModel",
      "state": {
       "_view_name": "ErrorWidgetView",
       "error": {},
       "msg": "Failed to load model class 'LayoutModel' from module '@jupyter-widgets/base'"
      }
     },
     "8449c61d5dfe4665a48d6afde673c2cc": {
      "model_module": "@jupyter-widgets/controls",
      "model_module_version": "2.0.0",
      "model_name": "DescriptionStyleModel",
      "state": {
       "_view_name": "ErrorWidgetView",
       "description_width": "",
       "error": {},
       "msg": "Failed to load model class 'DescriptionStyleModel' from module '@jupyter-widgets/controls'"
      }
     },
     "8462099149ef4594ae4ebddfed23327e": {
      "model_module": "@jupyter-widgets/base",
      "model_module_version": "2.0.0",
      "model_name": "LayoutModel",
      "state": {
       "_view_name": "ErrorWidgetView",
       "error": {},
       "msg": "Failed to load model class 'LayoutModel' from module '@jupyter-widgets/base'"
      }
     },
     "85277826f80e4839a1c4ca609a18e7c0": {
      "model_module": "@jupyter-widgets/base",
      "model_module_version": "2.0.0",
      "model_name": "LayoutModel",
      "state": {
       "_view_name": "ErrorWidgetView",
       "error": {},
       "msg": "Failed to load model class 'LayoutModel' from module '@jupyter-widgets/base'"
      }
     },
     "866c3699618044618f388ccde4442560": {
      "model_module": "@jupyter-widgets/base",
      "model_module_version": "2.0.0",
      "model_name": "LayoutModel",
      "state": {
       "_view_name": "ErrorWidgetView",
       "error": {},
       "msg": "Failed to load model class 'LayoutModel' from module '@jupyter-widgets/base'"
      }
     },
     "87348606eadb4186a07913eb35b3a2be": {
      "model_module": "@jupyter-widgets/base",
      "model_module_version": "2.0.0",
      "model_name": "LayoutModel",
      "state": {
       "_view_name": "ErrorWidgetView",
       "error": {},
       "msg": "Failed to load model class 'LayoutModel' from module '@jupyter-widgets/base'"
      }
     },
     "87b08b6c9e6f45be9a82a0c2a32adb71": {
      "model_module": "@jupyter-widgets/base",
      "model_module_version": "2.0.0",
      "model_name": "LayoutModel",
      "state": {
       "_view_name": "ErrorWidgetView",
       "error": {},
       "msg": "Failed to load model class 'LayoutModel' from module '@jupyter-widgets/base'"
      }
     },
     "8895164fb40d4b8abf319e77e520e18e": {
      "model_module": "@jupyter-widgets/controls",
      "model_module_version": "2.0.0",
      "model_name": "SelectionSliderModel",
      "state": {
       "_options_labels": [
        "0.000",
        "0.363",
        "0.727",
        "1.090",
        "1.453",
        "1.816",
        "2.180",
        "2.543",
        "2.906",
        "3.269",
        "3.633",
        "3.996",
        "4.359",
        "4.722",
        "5.086",
        "5.449",
        "5.812",
        "6.175",
        "6.539",
        "6.902",
        "7.265",
        "7.628",
        "7.992",
        "8.355",
        "8.718",
        "9.081",
        "9.445",
        "9.808",
        "10.171",
        "10.534",
        "10.898",
        "11.261",
        "11.624",
        "11.987",
        "12.351",
        "12.714",
        "13.077",
        "13.440",
        "13.804",
        "14.167",
        "14.530",
        "14.893",
        "15.257"
       ],
       "_view_name": "ErrorWidgetView",
       "description": "y [Å]",
       "error": {},
       "index": 23,
       "layout": "IPY_MODEL_daa7c75f5c494edfb1e4001169233263",
       "msg": "Failed to load model class 'SelectionSliderModel' from module '@jupyter-widgets/controls'",
       "style": "IPY_MODEL_55079f170aa54bd5aff2f704dcbdfd48"
      }
     },
     "8a12e7e871b54b1490a3e5636c73d57b": {
      "model_module": "@jupyter-widgets/controls",
      "model_module_version": "2.0.0",
      "model_name": "VBoxModel",
      "state": {
       "_view_name": "ErrorWidgetView",
       "children": [
        "IPY_MODEL_8eab8fc4a6da4764bb27eb75c35aff73"
       ],
       "error": {},
       "layout": "IPY_MODEL_6dab7f341dcd4512b8b238bedcbf1b84",
       "msg": "Failed to load model class 'VBoxModel' from module '@jupyter-widgets/controls'"
      }
     },
     "8b18ac7dd7694bbf8cd6b584ea9e8ee0": {
      "model_module": "@jupyter-widgets/base",
      "model_module_version": "2.0.0",
      "model_name": "LayoutModel",
      "state": {
       "_view_name": "ErrorWidgetView",
       "error": {},
       "msg": "Failed to load model class 'LayoutModel' from module '@jupyter-widgets/base'"
      }
     },
     "8b6781c3519a46fa97cda71639713285": {
      "model_module": "@jupyter-widgets/base",
      "model_module_version": "2.0.0",
      "model_name": "LayoutModel",
      "state": {
       "_view_name": "ErrorWidgetView",
       "error": {},
       "msg": "Failed to load model class 'LayoutModel' from module '@jupyter-widgets/base'"
      }
     },
     "8ce70a446abc445d80188564ad547bbe": {
      "model_module": "@jupyter-widgets/base",
      "model_module_version": "2.0.0",
      "model_name": "LayoutModel",
      "state": {
       "_view_name": "ErrorWidgetView",
       "error": {},
       "msg": "Failed to load model class 'LayoutModel' from module '@jupyter-widgets/base'"
      }
     },
     "8dd97156061a4796b2fc5a7376989045": {
      "model_module": "@jupyter-widgets/base",
      "model_module_version": "2.0.0",
      "model_name": "LayoutModel",
      "state": {
       "_view_name": "ErrorWidgetView",
       "error": {},
       "msg": "Failed to load model class 'LayoutModel' from module '@jupyter-widgets/base'"
      }
     },
     "8e5d10a0ddb245f29b7baffc393d5b99": {
      "model_module": "@jupyter-widgets/base",
      "model_module_version": "2.0.0",
      "model_name": "LayoutModel",
      "state": {
       "_view_name": "ErrorWidgetView",
       "error": {},
       "msg": "Failed to load model class 'LayoutModel' from module '@jupyter-widgets/base'"
      }
     },
     "8e5de6fc08cf492fb1513a03a2440356": {
      "model_module": "@jupyter-widgets/base",
      "model_module_version": "2.0.0",
      "model_name": "LayoutModel",
      "state": {
       "_view_name": "ErrorWidgetView",
       "error": {},
       "msg": "Failed to load model class 'LayoutModel' from module '@jupyter-widgets/base'"
      }
     },
     "8eab8fc4a6da4764bb27eb75c35aff73": {
      "model_module": "@jupyter-widgets/controls",
      "model_module_version": "2.0.0",
      "model_name": "HBoxModel",
      "state": {
       "_view_name": "ErrorWidgetView",
       "children": [
        "IPY_MODEL_c72f7bae483844c794cb2ce72bbd5a9c",
        "IPY_MODEL_4ac088245a404e6b8acbebf473bc0935",
        "IPY_MODEL_bb7cfcfb1ab149caa3a4298b63be332d"
       ],
       "error": {},
       "layout": "IPY_MODEL_4462355bbf524902877b4ce3abaa85f0",
       "msg": "Failed to load model class 'HBoxModel' from module '@jupyter-widgets/controls'"
      }
     },
     "9158f8aeb7a848068782cd6ae3c69bba": {
      "model_module": "@jupyter-widgets/base",
      "model_module_version": "2.0.0",
      "model_name": "LayoutModel",
      "state": {
       "_view_name": "ErrorWidgetView",
       "error": {},
       "msg": "Failed to load model class 'LayoutModel' from module '@jupyter-widgets/base'"
      }
     },
     "91763015581e44d6a310af88e2c3f9c6": {
      "model_module": "@jupyter-widgets/base",
      "model_module_version": "2.0.0",
      "model_name": "LayoutModel",
      "state": {
       "_view_name": "ErrorWidgetView",
       "error": {},
       "msg": "Failed to load model class 'LayoutModel' from module '@jupyter-widgets/base'"
      }
     },
     "91e841ae9d74402db6ca6a5b70b98a16": {
      "model_module": "@jupyter-widgets/controls",
      "model_module_version": "2.0.0",
      "model_name": "ButtonStyleModel",
      "state": {
       "_view_name": "ErrorWidgetView",
       "error": {},
       "msg": "Failed to load model class 'ButtonStyleModel' from module '@jupyter-widgets/controls'"
      }
     },
     "9256955f91ce43399ee8925be3ae151b": {
      "model_module": "@jupyter-widgets/base",
      "model_module_version": "2.0.0",
      "model_name": "LayoutModel",
      "state": {
       "_view_name": "ErrorWidgetView",
       "error": {},
       "msg": "Failed to load model class 'LayoutModel' from module '@jupyter-widgets/base'"
      }
     },
     "926c575455e74a5d983a0d5d49537a3a": {
      "model_module": "@jupyter-widgets/controls",
      "model_module_version": "2.0.0",
      "model_name": "ButtonStyleModel",
      "state": {
       "_view_name": "ErrorWidgetView",
       "error": {},
       "msg": "Failed to load model class 'ButtonStyleModel' from module '@jupyter-widgets/controls'"
      }
     },
     "926fb7a5758c4c4a879f489a7b5f72ed": {
      "model_module": "@jupyter-widgets/controls",
      "model_module_version": "2.0.0",
      "model_name": "DescriptionStyleModel",
      "state": {
       "_view_name": "ErrorWidgetView",
       "description_width": "",
       "error": {},
       "msg": "Failed to load model class 'DescriptionStyleModel' from module '@jupyter-widgets/controls'"
      }
     },
     "92d0e8d0b4ea42ec9f06aa86cbccbf40": {
      "model_module": "@jupyter-widgets/base",
      "model_module_version": "2.0.0",
      "model_name": "LayoutModel",
      "state": {
       "_view_name": "ErrorWidgetView",
       "error": {},
       "msg": "Failed to load model class 'LayoutModel' from module '@jupyter-widgets/base'",
       "width": "30%"
      }
     },
     "9308fca758534944b9971efe3aab154f": {
      "model_module": "@jupyter-widgets/controls",
      "model_module_version": "2.0.0",
      "model_name": "ToggleButtonModel",
      "state": {
       "_view_name": "ErrorWidgetView",
       "description": "Autoscale",
       "error": {},
       "layout": "IPY_MODEL_81ed8478e9d24521a7f609b8c4bc149f",
       "msg": "Failed to load model class 'ToggleButtonModel' from module '@jupyter-widgets/controls'",
       "style": "IPY_MODEL_53d7fd5e799449df9dbe192cea6af06f",
       "tooltip": "Autoscale",
       "value": true
      }
     },
     "931c4cdf9884479693f74c2258f4ebde": {
      "model_module": "@jupyter-widgets/base",
      "model_module_version": "2.0.0",
      "model_name": "LayoutModel",
      "state": {
       "_view_name": "ErrorWidgetView",
       "error": {},
       "msg": "Failed to load model class 'LayoutModel' from module '@jupyter-widgets/base'"
      }
     },
     "93721788da55448ea7e0bd321228a085": {
      "model_module": "@jupyter-widgets/controls",
      "model_module_version": "2.0.0",
      "model_name": "ButtonStyleModel",
      "state": {
       "_view_name": "ErrorWidgetView",
       "error": {},
       "msg": "Failed to load model class 'ButtonStyleModel' from module '@jupyter-widgets/controls'"
      }
     },
     "9447ee618e87463daa13990e0563ab4f": {
      "model_module": "@jupyter-widgets/base",
      "model_module_version": "2.0.0",
      "model_name": "LayoutModel",
      "state": {
       "_view_name": "ErrorWidgetView",
       "error": {},
       "msg": "Failed to load model class 'LayoutModel' from module '@jupyter-widgets/base'"
      }
     },
     "94d7b022df9a4c29bbb09f7f5913b530": {
      "model_module": "@jupyter-widgets/base",
      "model_module_version": "2.0.0",
      "model_name": "LayoutModel",
      "state": {
       "_view_name": "ErrorWidgetView",
       "error": {},
       "msg": "Failed to load model class 'LayoutModel' from module '@jupyter-widgets/base'"
      }
     },
     "95355ea1635240908b9dff1c7235529d": {
      "model_module": "@jupyter-widgets/base",
      "model_module_version": "2.0.0",
      "model_name": "LayoutModel",
      "state": {
       "_view_name": "ErrorWidgetView",
       "error": {},
       "msg": "Failed to load model class 'LayoutModel' from module '@jupyter-widgets/base'"
      }
     },
     "9703f7e851ce41b8a517d8f6cd6cefc7": {
      "model_module": "@jupyter-widgets/base",
      "model_module_version": "2.0.0",
      "model_name": "LayoutModel",
      "state": {
       "_view_name": "ErrorWidgetView",
       "error": {},
       "msg": "Failed to load model class 'LayoutModel' from module '@jupyter-widgets/base'"
      }
     },
     "9a0d5ed0d0854bca86f99b8076249b9c": {
      "model_module": "@jupyter-widgets/controls",
      "model_module_version": "2.0.0",
      "model_name": "ToggleButtonModel",
      "state": {
       "_view_name": "ErrorWidgetView",
       "description": "Autoscale",
       "error": {},
       "layout": "IPY_MODEL_1d99bd92f18a43f580a7490282468f7d",
       "msg": "Failed to load model class 'ToggleButtonModel' from module '@jupyter-widgets/controls'",
       "style": "IPY_MODEL_9ae89d74436342cf8fdcb0ab9725f48c",
       "tooltip": "Autoscale",
       "value": true
      }
     },
     "9aa25897366843a6a2473faa1372a623": {
      "model_module": "@jupyter-widgets/base",
      "model_module_version": "2.0.0",
      "model_name": "LayoutModel",
      "state": {
       "_view_name": "ErrorWidgetView",
       "error": {},
       "msg": "Failed to load model class 'LayoutModel' from module '@jupyter-widgets/base'"
      }
     },
     "9ae89d74436342cf8fdcb0ab9725f48c": {
      "model_module": "@jupyter-widgets/controls",
      "model_module_version": "2.0.0",
      "model_name": "DescriptionStyleModel",
      "state": {
       "_view_name": "ErrorWidgetView",
       "description_width": "",
       "error": {},
       "msg": "Failed to load model class 'DescriptionStyleModel' from module '@jupyter-widgets/controls'"
      }
     },
     "9bd941c1a0a74ea2bafd9d44f0cc2fb8": {
      "model_module": "@jupyter-widgets/base",
      "model_module_version": "2.0.0",
      "model_name": "LayoutModel",
      "state": {
       "_view_name": "ErrorWidgetView",
       "error": {},
       "msg": "Failed to load model class 'LayoutModel' from module '@jupyter-widgets/base'"
      }
     },
     "9c6e49ef4ded46cdaa78c24b26ea3aae": {
      "model_module": "@jupyter-widgets/controls",
      "model_module_version": "2.0.0",
      "model_name": "VBoxModel",
      "state": {
       "_view_name": "ErrorWidgetView",
       "children": [
        "IPY_MODEL_a57229d750d14e6d8e8d75220b3c1030",
        "IPY_MODEL_1b913c0399f34aa8b844c1f33d32c2a6",
        "IPY_MODEL_0b1e2b73d1c34af8b464a9df17bb100a"
       ],
       "error": {},
       "layout": "IPY_MODEL_2553065c54f846e7af80667b4067e690",
       "msg": "Failed to load model class 'VBoxModel' from module '@jupyter-widgets/controls'"
      }
     },
     "9cbf73f6f973477aa159e5ac7dbbe209": {
      "model_module": "@jupyter-widgets/controls",
      "model_module_version": "2.0.0",
      "model_name": "DescriptionStyleModel",
      "state": {
       "_view_name": "ErrorWidgetView",
       "description_width": "",
       "error": {},
       "msg": "Failed to load model class 'DescriptionStyleModel' from module '@jupyter-widgets/controls'"
      }
     },
     "9ec7114201854ce3991efba2087a4d36": {
      "model_module": "@jupyter-widgets/controls",
      "model_module_version": "2.0.0",
      "model_name": "HBoxModel",
      "state": {
       "_view_name": "ErrorWidgetView",
       "children": [
        "IPY_MODEL_f50531cdbfa3435f8dad1943c4cd5778",
        "IPY_MODEL_9a0d5ed0d0854bca86f99b8076249b9c",
        "IPY_MODEL_2f1760ec0bbd4608bd6f3c0402cc2ac8"
       ],
       "error": {},
       "layout": "IPY_MODEL_e6d483df77834a1698c180cef8715eca",
       "msg": "Failed to load model class 'HBoxModel' from module '@jupyter-widgets/controls'"
      }
     },
     "9ed35a2c597f421aa63fcfcf7a3924e3": {
      "model_module": "@jupyter-widgets/base",
      "model_module_version": "2.0.0",
      "model_name": "LayoutModel",
      "state": {
       "_view_name": "ErrorWidgetView",
       "error": {},
       "msg": "Failed to load model class 'LayoutModel' from module '@jupyter-widgets/base'"
      }
     },
     "9ed95deb6dad4fb0a37c563c93550684": {
      "model_module": "@jupyter-widgets/controls",
      "model_module_version": "2.0.0",
      "model_name": "DescriptionStyleModel",
      "state": {
       "_view_name": "ErrorWidgetView",
       "description_width": "",
       "error": {},
       "msg": "Failed to load model class 'DescriptionStyleModel' from module '@jupyter-widgets/controls'"
      }
     },
     "9f9eace713de49c18e8ad2543eeec034": {
      "model_module": "@jupyter-widgets/base",
      "model_module_version": "2.0.0",
      "model_name": "LayoutModel",
      "state": {
       "_view_name": "ErrorWidgetView",
       "error": {},
       "msg": "Failed to load model class 'LayoutModel' from module '@jupyter-widgets/base'"
      }
     },
     "a05c340e9dc145aab02b4ef8b1794204": {
      "model_module": "@jupyter-widgets/controls",
      "model_module_version": "2.0.0",
      "model_name": "ToggleButtonModel",
      "state": {
       "_view_name": "ErrorWidgetView",
       "description": "Autoscale",
       "error": {},
       "layout": "IPY_MODEL_92d0e8d0b4ea42ec9f06aa86cbccbf40",
       "msg": "Failed to load model class 'ToggleButtonModel' from module '@jupyter-widgets/controls'",
       "style": "IPY_MODEL_1606c90884b94530a591e8af6c440948",
       "tooltip": "Autoscale",
       "value": true
      }
     },
     "a06ad44b0d8c4594931ca02fc67cf3ec": {
      "model_module": "@jupyter-widgets/base",
      "model_module_version": "2.0.0",
      "model_name": "LayoutModel",
      "state": {
       "_view_name": "ErrorWidgetView",
       "error": {},
       "msg": "Failed to load model class 'LayoutModel' from module '@jupyter-widgets/base'"
      }
     },
     "a0a094162eb5442ca12ace36db8e9bb5": {
      "model_module": "@jupyter-widgets/base",
      "model_module_version": "2.0.0",
      "model_name": "LayoutModel",
      "state": {
       "_view_name": "ErrorWidgetView",
       "error": {},
       "msg": "Failed to load model class 'LayoutModel' from module '@jupyter-widgets/base'",
       "width": "300px"
      }
     },
     "a1787a4abc8540bbbaa41b85257c1dd7": {
      "model_module": "@jupyter-widgets/base",
      "model_module_version": "2.0.0",
      "model_name": "LayoutModel",
      "state": {
       "_view_name": "ErrorWidgetView",
       "error": {},
       "msg": "Failed to load model class 'LayoutModel' from module '@jupyter-widgets/base'"
      }
     },
     "a20c92d846874bc89b6ae863c046163c": {
      "model_module": "@jupyter-widgets/base",
      "model_module_version": "2.0.0",
      "model_name": "LayoutModel",
      "state": {
       "_view_name": "ErrorWidgetView",
       "error": {},
       "msg": "Failed to load model class 'LayoutModel' from module '@jupyter-widgets/base'"
      }
     },
     "a22415f2933d4d05a9a5b0095ea0cbf8": {
      "model_module": "@jupyter-widgets/base",
      "model_module_version": "2.0.0",
      "model_name": "LayoutModel",
      "state": {
       "_view_name": "ErrorWidgetView",
       "error": {},
       "msg": "Failed to load model class 'LayoutModel' from module '@jupyter-widgets/base'"
      }
     },
     "a23c81f5baed407584a5fcdf2fb41fb4": {
      "model_module": "@jupyter-widgets/controls",
      "model_module_version": "2.0.0",
      "model_name": "SelectionSliderModel",
      "state": {
       "_options_labels": [
        "74.041",
        "4.041"
       ],
       "_view_name": "ErrorWidgetView",
       "description": "C10 [Å]",
       "error": {},
       "index": 1,
       "layout": "IPY_MODEL_9ed35a2c597f421aa63fcfcf7a3924e3",
       "msg": "Failed to load model class 'SelectionSliderModel' from module '@jupyter-widgets/controls'",
       "style": "IPY_MODEL_fd95640d30d04e0a8b73f9c9fad7529b"
      }
     },
     "a26256bb0074469887fe954b74e90d2a": {
      "model_module": "@jupyter-widgets/base",
      "model_module_version": "2.0.0",
      "model_name": "LayoutModel",
      "state": {
       "_view_name": "ErrorWidgetView",
       "error": {},
       "msg": "Failed to load model class 'LayoutModel' from module '@jupyter-widgets/base'",
       "width": "30%"
      }
     },
     "a2be803b45ba48e8ad9acb0668561a60": {
      "model_module": "@jupyter-widgets/base",
      "model_module_version": "2.0.0",
      "model_name": "LayoutModel",
      "state": {
       "_view_name": "ErrorWidgetView",
       "error": {},
       "msg": "Failed to load model class 'LayoutModel' from module '@jupyter-widgets/base'"
      }
     },
     "a3023b5168e14532a205de988f6eadd7": {
      "model_module": "@jupyter-widgets/base",
      "model_module_version": "2.0.0",
      "model_name": "LayoutModel",
      "state": {
       "_view_name": "ErrorWidgetView",
       "error": {},
       "msg": "Failed to load model class 'LayoutModel' from module '@jupyter-widgets/base'"
      }
     },
     "a30fa01aae0342e1a354d49028862a4b": {
      "model_module": "@jupyter-widgets/controls",
      "model_module_version": "2.0.0",
      "model_name": "FloatSliderModel",
      "state": {
       "_view_name": "ErrorWidgetView",
       "description": "Power",
       "error": {},
       "layout": "IPY_MODEL_45fed4368a394349908854ef3c9a3b4c",
       "max": 2,
       "min": 0.01,
       "msg": "Failed to load model class 'FloatSliderModel' from module '@jupyter-widgets/controls'",
       "step": 0.01,
       "style": "IPY_MODEL_62127b9e2543458597467f810779ca09",
       "value": 1
      }
     },
     "a4424ddbe3d84fccbb1650a35f777397": {
      "model_module": "@jupyter-widgets/controls",
      "model_module_version": "2.0.0",
      "model_name": "HBoxModel",
      "state": {
       "_view_name": "ErrorWidgetView",
       "children": [
        "IPY_MODEL_29e4c4d76c8a44aeb4f6d5785a168afa",
        "IPY_MODEL_47e8f1543e8d41998d2433a1be998203"
       ],
       "error": {},
       "layout": "IPY_MODEL_ce130bba6eba4e538e0b3ad1aa2f0fa4",
       "msg": "Failed to load model class 'HBoxModel' from module '@jupyter-widgets/controls'"
      }
     },
     "a546fea92aa34f45ad38ef4d60034511": {
      "model_module": "@jupyter-widgets/base",
      "model_module_version": "2.0.0",
      "model_name": "LayoutModel",
      "state": {
       "_view_name": "ErrorWidgetView",
       "error": {},
       "msg": "Failed to load model class 'LayoutModel' from module '@jupyter-widgets/base'",
       "width": "30%"
      }
     },
     "a57229d750d14e6d8e8d75220b3c1030": {
      "model_module": "@jupyter-widgets/controls",
      "model_module_version": "2.0.0",
      "model_name": "VBoxModel",
      "state": {
       "_view_name": "ErrorWidgetView",
       "children": [
        "IPY_MODEL_746c3a5b3969469199d7791850cf5f16"
       ],
       "error": {},
       "layout": "IPY_MODEL_284e73eb5aa442b88fc0a61798afedb5",
       "msg": "Failed to load model class 'VBoxModel' from module '@jupyter-widgets/controls'"
      }
     },
     "a8015d2fab394a77ba81ec1677b14d34": {
      "model_module": "@jupyter-widgets/controls",
      "model_module_version": "2.0.0",
      "model_name": "DescriptionStyleModel",
      "state": {
       "_view_name": "ErrorWidgetView",
       "description_width": "",
       "error": {},
       "msg": "Failed to load model class 'DescriptionStyleModel' from module '@jupyter-widgets/controls'"
      }
     },
     "a8b6095771d5476f9dc9d04f73775123": {
      "model_module": "@jupyter-widgets/base",
      "model_module_version": "2.0.0",
      "model_name": "LayoutModel",
      "state": {
       "_view_name": "ErrorWidgetView",
       "error": {},
       "msg": "Failed to load model class 'LayoutModel' from module '@jupyter-widgets/base'"
      }
     },
     "a8f72a99458d4b608bdc56ce5ce79f44": {
      "model_module": "@jupyter-widgets/base",
      "model_module_version": "2.0.0",
      "model_name": "LayoutModel",
      "state": {
       "_view_name": "ErrorWidgetView",
       "error": {},
       "msg": "Failed to load model class 'LayoutModel' from module '@jupyter-widgets/base'"
      }
     },
     "a91f141092434ea69a4733f340b78667": {
      "model_module": "@jupyter-widgets/base",
      "model_module_version": "2.0.0",
      "model_name": "LayoutModel",
      "state": {
       "_view_name": "ErrorWidgetView",
       "error": {},
       "msg": "Failed to load model class 'LayoutModel' from module '@jupyter-widgets/base'"
      }
     },
     "ab5b6747470f4a8bac15d41ab9265451": {
      "model_module": "@jupyter-widgets/controls",
      "model_module_version": "2.0.0",
      "model_name": "HBoxModel",
      "state": {
       "_view_name": "ErrorWidgetView",
       "children": [
        "IPY_MODEL_4382a5f9a2224c1b9c0bf9efcaee4d86",
        "IPY_MODEL_9308fca758534944b9971efe3aab154f",
        "IPY_MODEL_ae3ceb81ceb74c3985661a695fb0d15a"
       ],
       "error": {},
       "layout": "IPY_MODEL_d52b835a933b4230908d34986a64e1d0",
       "msg": "Failed to load model class 'HBoxModel' from module '@jupyter-widgets/controls'"
      }
     },
     "ab6b094003504be1adeb85c41a370d85": {
      "model_module": "@jupyter-widgets/base",
      "model_module_version": "2.0.0",
      "model_name": "LayoutModel",
      "state": {
       "_view_name": "ErrorWidgetView",
       "error": {},
       "msg": "Failed to load model class 'LayoutModel' from module '@jupyter-widgets/base'"
      }
     },
     "acb76772811e4f7c8d0011090c2f2372": {
      "model_module": "@jupyter-widgets/controls",
      "model_module_version": "2.0.0",
      "model_name": "HBoxModel",
      "state": {
       "_view_name": "ErrorWidgetView",
       "children": [
        "IPY_MODEL_9c6e49ef4ded46cdaa78c24b26ea3aae",
        "IPY_MODEL_19dd92a5052b42dd9710250984c91159"
       ],
       "error": {},
       "layout": "IPY_MODEL_7b1d8900cda94e98845471faa4260880",
       "msg": "Failed to load model class 'HBoxModel' from module '@jupyter-widgets/controls'"
      }
     },
     "ad1e3b59a9d54f1c883b121651c0a573": {
      "model_module": "@jupyter-widgets/base",
      "model_module_version": "2.0.0",
      "model_name": "LayoutModel",
      "state": {
       "_view_name": "ErrorWidgetView",
       "error": {},
       "msg": "Failed to load model class 'LayoutModel' from module '@jupyter-widgets/base'",
       "width": "50%"
      }
     },
     "adc701085c1f4aac9e5eaa3eee6ba625": {
      "model_module": "@jupyter-widgets/base",
      "model_module_version": "2.0.0",
      "model_name": "LayoutModel",
      "state": {
       "_view_name": "ErrorWidgetView",
       "error": {},
       "msg": "Failed to load model class 'LayoutModel' from module '@jupyter-widgets/base'"
      }
     },
     "ae1eae43268b45829ade0a62c7a41bb0": {
      "model_module": "@jupyter-widgets/base",
      "model_module_version": "2.0.0",
      "model_name": "LayoutModel",
      "state": {
       "_view_name": "ErrorWidgetView",
       "error": {},
       "msg": "Failed to load model class 'LayoutModel' from module '@jupyter-widgets/base'"
      }
     },
     "ae3ca8938b374831aa3ce4dba65f8942": {
      "model_module": "@jupyter-widgets/controls",
      "model_module_version": "2.0.0",
      "model_name": "VBoxModel",
      "state": {
       "_view_name": "ErrorWidgetView",
       "children": [
        "IPY_MODEL_41c451800d3e4fec9872ae2edfd300dd",
        "IPY_MODEL_2a1b7687c2714bbf9cc5bfeab8cfd3b6",
        "IPY_MODEL_1e679298cafc498f8d712e6635675cbf"
       ],
       "error": {},
       "layout": "IPY_MODEL_4c59ce85067a40e3b190dd9e32966f49",
       "msg": "Failed to load model class 'VBoxModel' from module '@jupyter-widgets/controls'"
      }
     },
     "ae3ceb81ceb74c3985661a695fb0d15a": {
      "model_module": "@jupyter-widgets/controls",
      "model_module_version": "2.0.0",
      "model_name": "ToggleButtonModel",
      "state": {
       "_view_name": "ErrorWidgetView",
       "description": "Continuous update",
       "error": {},
       "layout": "IPY_MODEL_718bf05a8ecf414194d0c679cd641b04",
       "msg": "Failed to load model class 'ToggleButtonModel' from module '@jupyter-widgets/controls'",
       "style": "IPY_MODEL_dd418407798f4d9fbdfa8b47f4da2093",
       "value": true
      }
     },
     "aeaf85c288bb40d998e01a6e45f98b51": {
      "model_module": "@jupyter-widgets/controls",
      "model_module_version": "2.0.0",
      "model_name": "VBoxModel",
      "state": {
       "_view_name": "ErrorWidgetView",
       "children": [
        "IPY_MODEL_35c4d0b6935b478fb9d4a6e9990d0668"
       ],
       "error": {},
       "layout": "IPY_MODEL_043687da76af4fd2b241946da1eebd01",
       "msg": "Failed to load model class 'VBoxModel' from module '@jupyter-widgets/controls'"
      }
     },
     "af0bbb8654c74d8ca6b62e9750b3c499": {
      "model_module": "@jupyter-widgets/controls",
      "model_module_version": "2.0.0",
      "model_name": "DescriptionStyleModel",
      "state": {
       "_view_name": "ErrorWidgetView",
       "description_width": "",
       "error": {},
       "msg": "Failed to load model class 'DescriptionStyleModel' from module '@jupyter-widgets/controls'"
      }
     },
     "af0bd1ee3a1643f78699f8232b925dac": {
      "model_module": "@jupyter-widgets/base",
      "model_module_version": "2.0.0",
      "model_name": "LayoutModel",
      "state": {
       "_view_name": "ErrorWidgetView",
       "error": {},
       "msg": "Failed to load model class 'LayoutModel' from module '@jupyter-widgets/base'"
      }
     },
     "af4399a117ed4cf98e949697441fd8ef": {
      "model_module": "@jupyter-widgets/controls",
      "model_module_version": "2.0.0",
      "model_name": "SelectionSliderModel",
      "state": {
       "_options_labels": [
        "0",
        "-70"
       ],
       "_view_name": "ErrorWidgetView",
       "description": "C10 [Å]",
       "error": {},
       "index": 1,
       "layout": "IPY_MODEL_7c410fffab0849c298643e6ad434667e",
       "msg": "Failed to load model class 'SelectionSliderModel' from module '@jupyter-widgets/controls'",
       "style": "IPY_MODEL_bb16a914a0884658a134b19a5634e553"
      }
     },
     "b21f673f415345f881da4e713a73fc88": {
      "model_module": "@jupyter-widgets/controls",
      "model_module_version": "2.0.0",
      "model_name": "DescriptionStyleModel",
      "state": {
       "_view_name": "ErrorWidgetView",
       "description_width": "",
       "error": {},
       "msg": "Failed to load model class 'DescriptionStyleModel' from module '@jupyter-widgets/controls'"
      }
     },
     "b2e1bd1158214f58abd40a9248e5fc5c": {
      "model_module": "@jupyter-widgets/base",
      "model_module_version": "2.0.0",
      "model_name": "LayoutModel",
      "state": {
       "_view_name": "ErrorWidgetView",
       "error": {},
       "msg": "Failed to load model class 'LayoutModel' from module '@jupyter-widgets/base'"
      }
     },
     "b345f0c5767043c7b88eec2a89eeafea": {
      "model_module": "@jupyter-widgets/base",
      "model_module_version": "2.0.0",
      "model_name": "LayoutModel",
      "state": {
       "_view_name": "ErrorWidgetView",
       "error": {},
       "msg": "Failed to load model class 'LayoutModel' from module '@jupyter-widgets/base'"
      }
     },
     "b46ed2ee70374c1a9291a5454171f92c": {
      "model_module": "@jupyter-widgets/controls",
      "model_module_version": "2.0.0",
      "model_name": "HBoxModel",
      "state": {
       "_view_name": "ErrorWidgetView",
       "children": [
        "IPY_MODEL_4c7d672cef0c43f8902a269960a273c7",
        "IPY_MODEL_c392bf701946422c9bbdb7dc75b27b18",
        "IPY_MODEL_2aec910ffb424345a18057f96ac25110"
       ],
       "error": {},
       "layout": "IPY_MODEL_76f6be1bafe140cb8c94013404faea07",
       "msg": "Failed to load model class 'HBoxModel' from module '@jupyter-widgets/controls'"
      }
     },
     "b4fb41ba4ec642dea6af0b79f4840eb0": {
      "model_module": "@jupyter-widgets/base",
      "model_module_version": "2.0.0",
      "model_name": "LayoutModel",
      "state": {
       "_view_name": "ErrorWidgetView",
       "error": {},
       "msg": "Failed to load model class 'LayoutModel' from module '@jupyter-widgets/base'",
       "width": "300px"
      }
     },
     "b5f67a3c49804671993ca2fb0c09e0a4": {
      "model_module": "@jupyter-widgets/controls",
      "model_module_version": "2.0.0",
      "model_name": "VBoxModel",
      "state": {
       "_view_name": "ErrorWidgetView",
       "children": [
        "IPY_MODEL_af4399a117ed4cf98e949697441fd8ef"
       ],
       "error": {},
       "layout": "IPY_MODEL_edfd403e9b5c4b99a772397ce90d9f15",
       "msg": "Failed to load model class 'VBoxModel' from module '@jupyter-widgets/controls'"
      }
     },
     "b6c03c44cca8413992e319318f5fe90d": {
      "model_module": "@jupyter-widgets/base",
      "model_module_version": "2.0.0",
      "model_name": "LayoutModel",
      "state": {
       "_view_name": "ErrorWidgetView",
       "error": {},
       "msg": "Failed to load model class 'LayoutModel' from module '@jupyter-widgets/base'"
      }
     },
     "b6d3b2c715e44a84945a0a666172aa3a": {
      "model_module": "@jupyter-widgets/controls",
      "model_module_version": "2.0.0",
      "model_name": "FloatSliderModel",
      "state": {
       "_view_name": "ErrorWidgetView",
       "description": "Power",
       "error": {},
       "layout": "IPY_MODEL_c5dccfa4445845d4bdc71e2b20a8372f",
       "max": 2,
       "min": 0.01,
       "msg": "Failed to load model class 'FloatSliderModel' from module '@jupyter-widgets/controls'",
       "step": 0.01,
       "style": "IPY_MODEL_1a16c9b6378f47ba8bad8830d9e89edf",
       "value": 0.25
      }
     },
     "b7ae7303e5c94511b873e0fd8a24a3fa": {
      "model_module": "@jupyter-widgets/base",
      "model_module_version": "2.0.0",
      "model_name": "LayoutModel",
      "state": {
       "_view_name": "ErrorWidgetView",
       "error": {},
       "msg": "Failed to load model class 'LayoutModel' from module '@jupyter-widgets/base'"
      }
     },
     "b7b60066e8fa402685a5d8e004d6c1dd": {
      "model_module": "@jupyter-widgets/base",
      "model_module_version": "2.0.0",
      "model_name": "LayoutModel",
      "state": {
       "_view_name": "ErrorWidgetView",
       "error": {},
       "msg": "Failed to load model class 'LayoutModel' from module '@jupyter-widgets/base'"
      }
     },
     "b7f5220c659848e4b78e3d079bc84bbb": {
      "model_module": "@jupyter-widgets/base",
      "model_module_version": "2.0.0",
      "model_name": "LayoutModel",
      "state": {
       "_view_name": "ErrorWidgetView",
       "error": {},
       "msg": "Failed to load model class 'LayoutModel' from module '@jupyter-widgets/base'"
      }
     },
     "b8fb80ddc85245fe8196c763bc2c9f4a": {
      "model_module": "@jupyter-widgets/base",
      "model_module_version": "2.0.0",
      "model_name": "LayoutModel",
      "state": {
       "_view_name": "ErrorWidgetView",
       "error": {},
       "msg": "Failed to load model class 'LayoutModel' from module '@jupyter-widgets/base'"
      }
     },
     "ba30b969157e490c86c10c53431f9ef6": {
      "model_module": "@jupyter-widgets/base",
      "model_module_version": "2.0.0",
      "model_name": "LayoutModel",
      "state": {
       "_view_name": "ErrorWidgetView",
       "error": {},
       "msg": "Failed to load model class 'LayoutModel' from module '@jupyter-widgets/base'",
       "width": "20%"
      }
     },
     "bac4f3dc8afc40f3a3fe7cd34988d583": {
      "model_module": "@jupyter-widgets/controls",
      "model_module_version": "2.0.0",
      "model_name": "DescriptionStyleModel",
      "state": {
       "_view_name": "ErrorWidgetView",
       "description_width": "",
       "error": {},
       "msg": "Failed to load model class 'DescriptionStyleModel' from module '@jupyter-widgets/controls'"
      }
     },
     "bb16a914a0884658a134b19a5634e553": {
      "model_module": "@jupyter-widgets/controls",
      "model_module_version": "2.0.0",
      "model_name": "DescriptionStyleModel",
      "state": {
       "_view_name": "ErrorWidgetView",
       "description_width": "",
       "error": {},
       "msg": "Failed to load model class 'DescriptionStyleModel' from module '@jupyter-widgets/controls'"
      }
     },
     "bb7cfcfb1ab149caa3a4298b63be332d": {
      "model_module": "@jupyter-widgets/controls",
      "model_module_version": "2.0.0",
      "model_name": "ToggleButtonModel",
      "state": {
       "_view_name": "ErrorWidgetView",
       "description": "Continuous update",
       "error": {},
       "layout": "IPY_MODEL_1902d6f3b9e6442dbc5987ecd234b8f2",
       "msg": "Failed to load model class 'ToggleButtonModel' from module '@jupyter-widgets/controls'",
       "style": "IPY_MODEL_7a247e4b2bc84de7bad504857419ee05",
       "value": true
      }
     },
     "be85095e72304e5992366eb00b08535b": {
      "model_module": "@jupyter-widgets/base",
      "model_module_version": "2.0.0",
      "model_name": "LayoutModel",
      "state": {
       "_view_name": "ErrorWidgetView",
       "error": {},
       "msg": "Failed to load model class 'LayoutModel' from module '@jupyter-widgets/base'"
      }
     },
     "bee6b84874244359867c2120e3667560": {
      "model_module": "@jupyter-widgets/base",
      "model_module_version": "2.0.0",
      "model_name": "LayoutModel",
      "state": {
       "_view_name": "ErrorWidgetView",
       "error": {},
       "msg": "Failed to load model class 'LayoutModel' from module '@jupyter-widgets/base'"
      }
     },
     "c0f9357cbfa44a349031e9c540967d4d": {
      "model_module": "@jupyter-widgets/base",
      "model_module_version": "2.0.0",
      "model_name": "LayoutModel",
      "state": {
       "_view_name": "ErrorWidgetView",
       "error": {},
       "msg": "Failed to load model class 'LayoutModel' from module '@jupyter-widgets/base'"
      }
     },
     "c13c6e89cda345d1ab878ae90412bdb3": {
      "model_module": "@jupyter-widgets/controls",
      "model_module_version": "2.0.0",
      "model_name": "ButtonModel",
      "state": {
       "_view_name": "ErrorWidgetView",
       "description": "Scale",
       "error": {},
       "layout": "IPY_MODEL_e32a028c3f74449abec4655dd33743d0",
       "msg": "Failed to load model class 'ButtonModel' from module '@jupyter-widgets/controls'",
       "style": "IPY_MODEL_759b6e492df7423da26f2382a0606685"
      }
     },
     "c24c311b8dfc4b6a8e5dd156a43a849e": {
      "model_module": "@jupyter-widgets/base",
      "model_module_version": "2.0.0",
      "model_name": "LayoutModel",
      "state": {
       "_view_name": "ErrorWidgetView",
       "error": {},
       "msg": "Failed to load model class 'LayoutModel' from module '@jupyter-widgets/base'"
      }
     },
     "c2992d00be044020b999f5bdc2b7ede3": {
      "model_module": "@jupyter-widgets/base",
      "model_module_version": "2.0.0",
      "model_name": "LayoutModel",
      "state": {
       "_view_name": "ErrorWidgetView",
       "error": {},
       "msg": "Failed to load model class 'LayoutModel' from module '@jupyter-widgets/base'"
      }
     },
     "c37076c0808a48f0b7de247d75a481ee": {
      "model_module": "@jupyter-widgets/base",
      "model_module_version": "2.0.0",
      "model_name": "LayoutModel",
      "state": {
       "_view_name": "ErrorWidgetView",
       "error": {},
       "msg": "Failed to load model class 'LayoutModel' from module '@jupyter-widgets/base'"
      }
     },
     "c392bf701946422c9bbdb7dc75b27b18": {
      "model_module": "@jupyter-widgets/controls",
      "model_module_version": "2.0.0",
      "model_name": "ToggleButtonModel",
      "state": {
       "_view_name": "ErrorWidgetView",
       "description": "Autoscale",
       "error": {},
       "layout": "IPY_MODEL_e49033edeb674becbade96d3deb8562a",
       "msg": "Failed to load model class 'ToggleButtonModel' from module '@jupyter-widgets/controls'",
       "style": "IPY_MODEL_e3ad1f46d69a4bb7b94f44002bbc02ee",
       "tooltip": "Autoscale",
       "value": true
      }
     },
     "c3f1f8a257724457a774fe9b78e92dcb": {
      "model_module": "@jupyter-widgets/base",
      "model_module_version": "2.0.0",
      "model_name": "LayoutModel",
      "state": {
       "_view_name": "ErrorWidgetView",
       "error": {},
       "msg": "Failed to load model class 'LayoutModel' from module '@jupyter-widgets/base'"
      }
     },
     "c54959fdeed144b284d9fa953924136d": {
      "model_module": "@jupyter-widgets/base",
      "model_module_version": "2.0.0",
      "model_name": "LayoutModel",
      "state": {
       "_view_name": "ErrorWidgetView",
       "error": {},
       "msg": "Failed to load model class 'LayoutModel' from module '@jupyter-widgets/base'"
      }
     },
     "c56afdb4f53242c8a8525be5821064fd": {
      "model_module": "@jupyter-widgets/controls",
      "model_module_version": "2.0.0",
      "model_name": "ToggleButtonModel",
      "state": {
       "_view_name": "ErrorWidgetView",
       "description": "Autoscale",
       "error": {},
       "layout": "IPY_MODEL_a546fea92aa34f45ad38ef4d60034511",
       "msg": "Failed to load model class 'ToggleButtonModel' from module '@jupyter-widgets/controls'",
       "style": "IPY_MODEL_02fd8e63e44240b89862425e9dade534",
       "tooltip": "Autoscale",
       "value": true
      }
     },
     "c575cae8032b4ae185909b158fdbe4e8": {
      "model_module": "@jupyter-widgets/base",
      "model_module_version": "2.0.0",
      "model_name": "LayoutModel",
      "state": {
       "_view_name": "ErrorWidgetView",
       "error": {},
       "msg": "Failed to load model class 'LayoutModel' from module '@jupyter-widgets/base'",
       "width": "30%"
      }
     },
     "c5dccfa4445845d4bdc71e2b20a8372f": {
      "model_module": "@jupyter-widgets/base",
      "model_module_version": "2.0.0",
      "model_name": "LayoutModel",
      "state": {
       "_view_name": "ErrorWidgetView",
       "error": {},
       "msg": "Failed to load model class 'LayoutModel' from module '@jupyter-widgets/base'"
      }
     },
     "c67029ba71034f2ea92788cb2a5f53ae": {
      "model_module": "@jupyter-widgets/controls",
      "model_module_version": "2.0.0",
      "model_name": "HBoxModel",
      "state": {
       "_view_name": "ErrorWidgetView",
       "children": [
        "IPY_MODEL_7eec76c313de40279dde00b173b1416e",
        "IPY_MODEL_3356f713a4744bfcb5626aa8b6109ed2"
       ],
       "error": {},
       "layout": "IPY_MODEL_b345f0c5767043c7b88eec2a89eeafea",
       "msg": "Failed to load model class 'HBoxModel' from module '@jupyter-widgets/controls'"
      }
     },
     "c72f7bae483844c794cb2ce72bbd5a9c": {
      "model_module": "@jupyter-widgets/controls",
      "model_module_version": "2.0.0",
      "model_name": "ButtonModel",
      "state": {
       "_view_name": "ErrorWidgetView",
       "description": "Scale",
       "error": {},
       "layout": "IPY_MODEL_611d164f6d684d3486583d9fda54840a",
       "msg": "Failed to load model class 'ButtonModel' from module '@jupyter-widgets/controls'",
       "style": "IPY_MODEL_93721788da55448ea7e0bd321228a085"
      }
     },
     "c7e6d598325c490bbd0798e877922c84": {
      "model_module": "@jupyter-widgets/base",
      "model_module_version": "2.0.0",
      "model_name": "LayoutModel",
      "state": {
       "_view_name": "ErrorWidgetView",
       "error": {},
       "msg": "Failed to load model class 'LayoutModel' from module '@jupyter-widgets/base'"
      }
     },
     "c839ec827d73408b86289e81360c6d80": {
      "model_module": "@jupyter-widgets/base",
      "model_module_version": "2.0.0",
      "model_name": "LayoutModel",
      "state": {
       "_view_name": "ErrorWidgetView",
       "error": {},
       "msg": "Failed to load model class 'LayoutModel' from module '@jupyter-widgets/base'"
      }
     },
     "c84c29c0ae0e45278b2c90e63c75a904": {
      "model_module": "@jupyter-widgets/base",
      "model_module_version": "2.0.0",
      "model_name": "LayoutModel",
      "state": {
       "_view_name": "ErrorWidgetView",
       "error": {},
       "msg": "Failed to load model class 'LayoutModel' from module '@jupyter-widgets/base'"
      }
     },
     "c85c0c6d9ecc460a92f5a3bd31619ba5": {
      "model_module": "@jupyter-widgets/base",
      "model_module_version": "2.0.0",
      "model_name": "LayoutModel",
      "state": {
       "_view_name": "ErrorWidgetView",
       "error": {},
       "msg": "Failed to load model class 'LayoutModel' from module '@jupyter-widgets/base'"
      }
     },
     "c8704a706cca411fabbe261bea414903": {
      "model_module": "@jupyter-widgets/base",
      "model_module_version": "2.0.0",
      "model_name": "LayoutModel",
      "state": {
       "_view_name": "ErrorWidgetView",
       "error": {},
       "msg": "Failed to load model class 'LayoutModel' from module '@jupyter-widgets/base'"
      }
     },
     "c922666fd6b34cf9bb61133f6d292e62": {
      "model_module": "@jupyter-widgets/base",
      "model_module_version": "2.0.0",
      "model_name": "LayoutModel",
      "state": {
       "_view_name": "ErrorWidgetView",
       "error": {},
       "msg": "Failed to load model class 'LayoutModel' from module '@jupyter-widgets/base'",
       "width": "50%"
      }
     },
     "c97e780a0bc0474fafb9da67403f1c65": {
      "model_module": "@jupyter-widgets/controls",
      "model_module_version": "2.0.0",
      "model_name": "ButtonModel",
      "state": {
       "_view_name": "ErrorWidgetView",
       "description": "Scale",
       "error": {},
       "layout": "IPY_MODEL_d978b8b2471548d7ac0082dccdac99c9",
       "msg": "Failed to load model class 'ButtonModel' from module '@jupyter-widgets/controls'",
       "style": "IPY_MODEL_d218c41b671746da9e3ee27ed34a4d7c"
      }
     },
     "ca9944e880d24948a37b7c7ce696f4d5": {
      "model_module": "@jupyter-widgets/base",
      "model_module_version": "2.0.0",
      "model_name": "LayoutModel",
      "state": {
       "_view_name": "ErrorWidgetView",
       "error": {},
       "msg": "Failed to load model class 'LayoutModel' from module '@jupyter-widgets/base'"
      }
     },
     "cb93e6a2cf3f413f9016b54c8215841b": {
      "model_module": "@jupyter-widgets/base",
      "model_module_version": "2.0.0",
      "model_name": "LayoutModel",
      "state": {
       "_view_name": "ErrorWidgetView",
       "error": {},
       "msg": "Failed to load model class 'LayoutModel' from module '@jupyter-widgets/base'"
      }
     },
     "cbba0a69f63643e39f05563fe4e29d27": {
      "model_module": "@jupyter-widgets/base",
      "model_module_version": "2.0.0",
      "model_name": "LayoutModel",
      "state": {
       "_view_name": "ErrorWidgetView",
       "error": {},
       "msg": "Failed to load model class 'LayoutModel' from module '@jupyter-widgets/base'"
      }
     },
     "cbc303af084f4d3fb0727c1020817059": {
      "model_module": "@jupyter-widgets/base",
      "model_module_version": "2.0.0",
      "model_name": "LayoutModel",
      "state": {
       "_view_name": "ErrorWidgetView",
       "error": {},
       "msg": "Failed to load model class 'LayoutModel' from module '@jupyter-widgets/base'",
       "width": "20%"
      }
     },
     "cc6b14c39aeb4adabfe100332d3dc556": {
      "model_module": "@jupyter-widgets/controls",
      "model_module_version": "2.0.0",
      "model_name": "ButtonStyleModel",
      "state": {
       "_view_name": "ErrorWidgetView",
       "error": {},
       "msg": "Failed to load model class 'ButtonStyleModel' from module '@jupyter-widgets/controls'"
      }
     },
     "ce130bba6eba4e538e0b3ad1aa2f0fa4": {
      "model_module": "@jupyter-widgets/base",
      "model_module_version": "2.0.0",
      "model_name": "LayoutModel",
      "state": {
       "_view_name": "ErrorWidgetView",
       "error": {},
       "msg": "Failed to load model class 'LayoutModel' from module '@jupyter-widgets/base'"
      }
     },
     "ce8479932f70461aaf5f2c4a7e034744": {
      "model_module": "@jupyter-widgets/base",
      "model_module_version": "2.0.0",
      "model_name": "LayoutModel",
      "state": {
       "_view_name": "ErrorWidgetView",
       "error": {},
       "msg": "Failed to load model class 'LayoutModel' from module '@jupyter-widgets/base'"
      }
     },
     "ceb9ddba1f53418eb79b298ac1294cc9": {
      "model_module": "@jupyter-widgets/controls",
      "model_module_version": "2.0.0",
      "model_name": "DescriptionStyleModel",
      "state": {
       "_view_name": "ErrorWidgetView",
       "description_width": "",
       "error": {},
       "msg": "Failed to load model class 'DescriptionStyleModel' from module '@jupyter-widgets/controls'"
      }
     },
     "cefb6a7b6cd446dd9bd8537acc4e3489": {
      "model_module": "@jupyter-widgets/base",
      "model_module_version": "2.0.0",
      "model_name": "LayoutModel",
      "state": {
       "_view_name": "ErrorWidgetView",
       "error": {},
       "msg": "Failed to load model class 'LayoutModel' from module '@jupyter-widgets/base'",
       "width": "20%"
      }
     },
     "cf2f5a10abab40629914f5c3ecffabac": {
      "model_module": "@jupyter-widgets/base",
      "model_module_version": "2.0.0",
      "model_name": "LayoutModel",
      "state": {
       "_view_name": "ErrorWidgetView",
       "error": {},
       "msg": "Failed to load model class 'LayoutModel' from module '@jupyter-widgets/base'"
      }
     },
     "cf8352af1ad2459f947cbfefe661bf0a": {
      "model_module": "@jupyter-widgets/base",
      "model_module_version": "2.0.0",
      "model_name": "LayoutModel",
      "state": {
       "_view_name": "ErrorWidgetView",
       "error": {},
       "msg": "Failed to load model class 'LayoutModel' from module '@jupyter-widgets/base'"
      }
     },
     "d0f33f627d6f45a9a64c6da73211e9e3": {
      "model_module": "@jupyter-widgets/base",
      "model_module_version": "2.0.0",
      "model_name": "LayoutModel",
      "state": {
       "_view_name": "ErrorWidgetView",
       "error": {},
       "msg": "Failed to load model class 'LayoutModel' from module '@jupyter-widgets/base'",
       "width": "300px"
      }
     },
     "d1ee18dbf203420481105e4e585dc384": {
      "model_module": "@jupyter-widgets/controls",
      "model_module_version": "2.0.0",
      "model_name": "ToggleButtonModel",
      "state": {
       "_view_name": "ErrorWidgetView",
       "description": "Autoscale",
       "error": {},
       "layout": "IPY_MODEL_c575cae8032b4ae185909b158fdbe4e8",
       "msg": "Failed to load model class 'ToggleButtonModel' from module '@jupyter-widgets/controls'",
       "style": "IPY_MODEL_31501b994b754e96a8e634381e52f435",
       "tooltip": "Autoscale",
       "value": true
      }
     },
     "d218c41b671746da9e3ee27ed34a4d7c": {
      "model_module": "@jupyter-widgets/controls",
      "model_module_version": "2.0.0",
      "model_name": "ButtonStyleModel",
      "state": {
       "_view_name": "ErrorWidgetView",
       "error": {},
       "msg": "Failed to load model class 'ButtonStyleModel' from module '@jupyter-widgets/controls'"
      }
     },
     "d239152e233d4030ba81a62be23aac23": {
      "model_module": "@jupyter-widgets/base",
      "model_module_version": "2.0.0",
      "model_name": "LayoutModel",
      "state": {
       "_view_name": "ErrorWidgetView",
       "error": {},
       "msg": "Failed to load model class 'LayoutModel' from module '@jupyter-widgets/base'"
      }
     },
     "d2c336234cec4d1a92ed6baa13f334c5": {
      "model_module": "@jupyter-widgets/base",
      "model_module_version": "2.0.0",
      "model_name": "LayoutModel",
      "state": {
       "_view_name": "ErrorWidgetView",
       "error": {},
       "msg": "Failed to load model class 'LayoutModel' from module '@jupyter-widgets/base'"
      }
     },
     "d3376f557fae4650bef5c1d8056b16bf": {
      "model_module": "@jupyter-widgets/base",
      "model_module_version": "2.0.0",
      "model_name": "LayoutModel",
      "state": {
       "_view_name": "ErrorWidgetView",
       "error": {},
       "msg": "Failed to load model class 'LayoutModel' from module '@jupyter-widgets/base'"
      }
     },
     "d3b38b39353641108ac44c6208a9d09f": {
      "model_module": "@jupyter-widgets/base",
      "model_module_version": "2.0.0",
      "model_name": "LayoutModel",
      "state": {
       "_view_name": "ErrorWidgetView",
       "error": {},
       "msg": "Failed to load model class 'LayoutModel' from module '@jupyter-widgets/base'"
      }
     },
     "d41feb85c5034de69d0947957cc6bdc0": {
      "model_module": "@jupyter-widgets/controls",
      "model_module_version": "2.0.0",
      "model_name": "VBoxModel",
      "state": {
       "_view_name": "ErrorWidgetView",
       "children": [
        "IPY_MODEL_5c45d85c8d154dfb8486084903eb736a"
       ],
       "error": {},
       "layout": "IPY_MODEL_5a13f47c7c25408680eb4bdc4effe561",
       "msg": "Failed to load model class 'VBoxModel' from module '@jupyter-widgets/controls'"
      }
     },
     "d50c6c3014d14d8086384b28140fc006": {
      "model_module": "@jupyter-widgets/controls",
      "model_module_version": "2.0.0",
      "model_name": "SliderStyleModel",
      "state": {
       "_view_name": "ErrorWidgetView",
       "description_width": "",
       "error": {},
       "msg": "Failed to load model class 'SliderStyleModel' from module '@jupyter-widgets/controls'"
      }
     },
     "d524718f9230492b92f493a62fb0955a": {
      "model_module": "@jupyter-widgets/base",
      "model_module_version": "2.0.0",
      "model_name": "LayoutModel",
      "state": {
       "_view_name": "ErrorWidgetView",
       "error": {},
       "msg": "Failed to load model class 'LayoutModel' from module '@jupyter-widgets/base'"
      }
     },
     "d52b835a933b4230908d34986a64e1d0": {
      "model_module": "@jupyter-widgets/base",
      "model_module_version": "2.0.0",
      "model_name": "LayoutModel",
      "state": {
       "_view_name": "ErrorWidgetView",
       "error": {},
       "msg": "Failed to load model class 'LayoutModel' from module '@jupyter-widgets/base'"
      }
     },
     "d55d6c8b2a5540b4bd06e516c56b3283": {
      "model_module": "@jupyter-widgets/base",
      "model_module_version": "2.0.0",
      "model_name": "LayoutModel",
      "state": {
       "_view_name": "ErrorWidgetView",
       "error": {},
       "msg": "Failed to load model class 'LayoutModel' from module '@jupyter-widgets/base'"
      }
     },
     "d638212a73a94f28b72bc8a15fbec0c6": {
      "model_module": "@jupyter-widgets/controls",
      "model_module_version": "2.0.0",
      "model_name": "HBoxModel",
      "state": {
       "_view_name": "ErrorWidgetView",
       "children": [
        "IPY_MODEL_162f571bea4e43b2acdba0de532513e2",
        "IPY_MODEL_db0eee8e7c764a1388244817a723fa66",
        "IPY_MODEL_24e9e6f7f54c4c899a32df7598238cf4"
       ],
       "error": {},
       "layout": "IPY_MODEL_d87a77fdc5cb4c3faf13c6856d075eca",
       "msg": "Failed to load model class 'HBoxModel' from module '@jupyter-widgets/controls'"
      }
     },
     "d653f8ab8dca4be5ac436f93627dc1e5": {
      "model_module": "@jupyter-widgets/controls",
      "model_module_version": "2.0.0",
      "model_name": "VBoxModel",
      "state": {
       "_view_name": "ErrorWidgetView",
       "children": [
        "IPY_MODEL_ab5b6747470f4a8bac15d41ab9265451"
       ],
       "error": {},
       "layout": "IPY_MODEL_36913b1a80424ff9a2dc8ace1140701c",
       "msg": "Failed to load model class 'VBoxModel' from module '@jupyter-widgets/controls'"
      }
     },
     "d6bbbe6fff50445987c86f975b6a8796": {
      "model_module": "@jupyter-widgets/controls",
      "model_module_version": "2.0.0",
      "model_name": "VBoxModel",
      "state": {
       "_view_name": "ErrorWidgetView",
       "children": [
        "IPY_MODEL_668c644c71cd41249ccfa500f8afc751"
       ],
       "error": {},
       "layout": "IPY_MODEL_9158f8aeb7a848068782cd6ae3c69bba",
       "msg": "Failed to load model class 'VBoxModel' from module '@jupyter-widgets/controls'"
      }
     },
     "d7bc11e379f942d58adb26903ac7a863": {
      "model_module": "@jupyter-widgets/base",
      "model_module_version": "2.0.0",
      "model_name": "LayoutModel",
      "state": {
       "_view_name": "ErrorWidgetView",
       "error": {},
       "msg": "Failed to load model class 'LayoutModel' from module '@jupyter-widgets/base'"
      }
     },
     "d7be130a25044417a7901872a729414e": {
      "model_module": "@jupyter-widgets/base",
      "model_module_version": "2.0.0",
      "model_name": "LayoutModel",
      "state": {
       "_view_name": "ErrorWidgetView",
       "error": {},
       "msg": "Failed to load model class 'LayoutModel' from module '@jupyter-widgets/base'"
      }
     },
     "d87a77fdc5cb4c3faf13c6856d075eca": {
      "model_module": "@jupyter-widgets/base",
      "model_module_version": "2.0.0",
      "model_name": "LayoutModel",
      "state": {
       "_view_name": "ErrorWidgetView",
       "error": {},
       "msg": "Failed to load model class 'LayoutModel' from module '@jupyter-widgets/base'"
      }
     },
     "d91ca2b78e1448389e000e967757cb9b": {
      "model_module": "@jupyter-widgets/base",
      "model_module_version": "2.0.0",
      "model_name": "LayoutModel",
      "state": {
       "_view_name": "ErrorWidgetView",
       "error": {},
       "msg": "Failed to load model class 'LayoutModel' from module '@jupyter-widgets/base'"
      }
     },
     "d978b8b2471548d7ac0082dccdac99c9": {
      "model_module": "@jupyter-widgets/base",
      "model_module_version": "2.0.0",
      "model_name": "LayoutModel",
      "state": {
       "_view_name": "ErrorWidgetView",
       "error": {},
       "msg": "Failed to load model class 'LayoutModel' from module '@jupyter-widgets/base'",
       "width": "20%"
      }
     },
     "da489cc41c414c12886a656e0f1300ac": {
      "model_module": "@jupyter-widgets/controls",
      "model_module_version": "2.0.0",
      "model_name": "ToggleButtonModel",
      "state": {
       "_view_name": "ErrorWidgetView",
       "description": "Continuous update",
       "error": {},
       "layout": "IPY_MODEL_02f888a6d2db4d65b4944569c7429530",
       "msg": "Failed to load model class 'ToggleButtonModel' from module '@jupyter-widgets/controls'",
       "style": "IPY_MODEL_33fed1997db043c897f202e4ffabaf9c",
       "value": true
      }
     },
     "daa51653e14042d29bb7077ed708012d": {
      "model_module": "@jupyter-widgets/base",
      "model_module_version": "2.0.0",
      "model_name": "LayoutModel",
      "state": {
       "_view_name": "ErrorWidgetView",
       "error": {},
       "msg": "Failed to load model class 'LayoutModel' from module '@jupyter-widgets/base'"
      }
     },
     "daa7c75f5c494edfb1e4001169233263": {
      "model_module": "@jupyter-widgets/base",
      "model_module_version": "2.0.0",
      "model_name": "LayoutModel",
      "state": {
       "_view_name": "ErrorWidgetView",
       "error": {},
       "msg": "Failed to load model class 'LayoutModel' from module '@jupyter-widgets/base'"
      }
     },
     "daa8f17a091f4406803b8f45914307d9": {
      "model_module": "@jupyter-widgets/base",
      "model_module_version": "2.0.0",
      "model_name": "LayoutModel",
      "state": {
       "_view_name": "ErrorWidgetView",
       "error": {},
       "msg": "Failed to load model class 'LayoutModel' from module '@jupyter-widgets/base'"
      }
     },
     "db0eee8e7c764a1388244817a723fa66": {
      "model_module": "@jupyter-widgets/controls",
      "model_module_version": "2.0.0",
      "model_name": "ToggleButtonModel",
      "state": {
       "_view_name": "ErrorWidgetView",
       "description": "Autoscale",
       "error": {},
       "layout": "IPY_MODEL_7539972f4111429baf5d0ca8d5895668",
       "msg": "Failed to load model class 'ToggleButtonModel' from module '@jupyter-widgets/controls'",
       "style": "IPY_MODEL_0a4bd16ddfe0432db0cf01b0b8af8d91",
       "tooltip": "Autoscale",
       "value": true
      }
     },
     "db7a3bafbd204f5981e7a5f38ce34c82": {
      "model_module": "@jupyter-widgets/base",
      "model_module_version": "2.0.0",
      "model_name": "LayoutModel",
      "state": {
       "_view_name": "ErrorWidgetView",
       "error": {},
       "msg": "Failed to load model class 'LayoutModel' from module '@jupyter-widgets/base'"
      }
     },
     "dc908196f495448db798585f0bd373aa": {
      "model_module": "@jupyter-widgets/base",
      "model_module_version": "2.0.0",
      "model_name": "LayoutModel",
      "state": {
       "_view_name": "ErrorWidgetView",
       "error": {},
       "msg": "Failed to load model class 'LayoutModel' from module '@jupyter-widgets/base'"
      }
     },
     "dd418407798f4d9fbdfa8b47f4da2093": {
      "model_module": "@jupyter-widgets/controls",
      "model_module_version": "2.0.0",
      "model_name": "DescriptionStyleModel",
      "state": {
       "_view_name": "ErrorWidgetView",
       "description_width": "",
       "error": {},
       "msg": "Failed to load model class 'DescriptionStyleModel' from module '@jupyter-widgets/controls'"
      }
     },
     "ddfac7c95dbc42ff8e2ab4c8635f978d": {
      "model_module": "@jupyter-widgets/base",
      "model_module_version": "2.0.0",
      "model_name": "LayoutModel",
      "state": {
       "_view_name": "ErrorWidgetView",
       "error": {},
       "msg": "Failed to load model class 'LayoutModel' from module '@jupyter-widgets/base'"
      }
     },
     "de77cd62993e49ce8e42b6ad79e59d03": {
      "model_module": "@jupyter-widgets/base",
      "model_module_version": "2.0.0",
      "model_name": "LayoutModel",
      "state": {
       "_view_name": "ErrorWidgetView",
       "error": {},
       "msg": "Failed to load model class 'LayoutModel' from module '@jupyter-widgets/base'"
      }
     },
     "dedc25cf37e44e91bdaa1097b795b8e5": {
      "model_module": "@jupyter-widgets/base",
      "model_module_version": "2.0.0",
      "model_name": "LayoutModel",
      "state": {
       "_view_name": "ErrorWidgetView",
       "error": {},
       "msg": "Failed to load model class 'LayoutModel' from module '@jupyter-widgets/base'"
      }
     },
     "e154481fb3f2441da64435e18c09e520": {
      "model_module": "@jupyter-widgets/base",
      "model_module_version": "2.0.0",
      "model_name": "LayoutModel",
      "state": {
       "_view_name": "ErrorWidgetView",
       "error": {},
       "msg": "Failed to load model class 'LayoutModel' from module '@jupyter-widgets/base'"
      }
     },
     "e1fad960c13c4ce098fd1bcddedbb9aa": {
      "model_module": "@jupyter-widgets/base",
      "model_module_version": "2.0.0",
      "model_name": "LayoutModel",
      "state": {
       "_view_name": "ErrorWidgetView",
       "error": {},
       "msg": "Failed to load model class 'LayoutModel' from module '@jupyter-widgets/base'"
      }
     },
     "e22c3da302104396aeb3591de2461b96": {
      "model_module": "@jupyter-widgets/controls",
      "model_module_version": "2.0.0",
      "model_name": "SelectionSliderModel",
      "state": {
       "_options_labels": [
        "0",
        "1",
        "2",
        "3",
        "4",
        "5",
        "6",
        "7"
       ],
       "_view_name": "ErrorWidgetView",
       "description": "Frozen phonons",
       "error": {},
       "index": 7,
       "layout": "IPY_MODEL_49514deca81a461ca132a7e7eb5c2015",
       "msg": "Failed to load model class 'SelectionSliderModel' from module '@jupyter-widgets/controls'",
       "style": "IPY_MODEL_b21f673f415345f881da4e713a73fc88"
      }
     },
     "e2a6380f76b346c59b8f3b0e0ea7a497": {
      "model_module": "@jupyter-widgets/base",
      "model_module_version": "2.0.0",
      "model_name": "LayoutModel",
      "state": {
       "_view_name": "ErrorWidgetView",
       "error": {},
       "msg": "Failed to load model class 'LayoutModel' from module '@jupyter-widgets/base'"
      }
     },
     "e32a028c3f74449abec4655dd33743d0": {
      "model_module": "@jupyter-widgets/base",
      "model_module_version": "2.0.0",
      "model_name": "LayoutModel",
      "state": {
       "_view_name": "ErrorWidgetView",
       "error": {},
       "msg": "Failed to load model class 'LayoutModel' from module '@jupyter-widgets/base'",
       "width": "20%"
      }
     },
     "e39680c0cf314226bb947ec1858d98b2": {
      "model_module": "@jupyter-widgets/base",
      "model_module_version": "2.0.0",
      "model_name": "LayoutModel",
      "state": {
       "_view_name": "ErrorWidgetView",
       "error": {},
       "msg": "Failed to load model class 'LayoutModel' from module '@jupyter-widgets/base'"
      }
     },
     "e3ad1f46d69a4bb7b94f44002bbc02ee": {
      "model_module": "@jupyter-widgets/controls",
      "model_module_version": "2.0.0",
      "model_name": "DescriptionStyleModel",
      "state": {
       "_view_name": "ErrorWidgetView",
       "description_width": "",
       "error": {},
       "msg": "Failed to load model class 'DescriptionStyleModel' from module '@jupyter-widgets/controls'"
      }
     },
     "e418d93fef594887ae74352f0fc610b7": {
      "model_module": "@jupyter-widgets/controls",
      "model_module_version": "2.0.0",
      "model_name": "ToggleButtonModel",
      "state": {
       "_view_name": "ErrorWidgetView",
       "description": "Continuous update",
       "error": {},
       "layout": "IPY_MODEL_ad1e3b59a9d54f1c883b121651c0a573",
       "msg": "Failed to load model class 'ToggleButtonModel' from module '@jupyter-widgets/controls'",
       "style": "IPY_MODEL_926fb7a5758c4c4a879f489a7b5f72ed",
       "value": true
      }
     },
     "e49033edeb674becbade96d3deb8562a": {
      "model_module": "@jupyter-widgets/base",
      "model_module_version": "2.0.0",
      "model_name": "LayoutModel",
      "state": {
       "_view_name": "ErrorWidgetView",
       "error": {},
       "msg": "Failed to load model class 'LayoutModel' from module '@jupyter-widgets/base'",
       "width": "30%"
      }
     },
     "e68b51dded8d4f428cf01176bf813f76": {
      "model_module": "@jupyter-widgets/controls",
      "model_module_version": "2.0.0",
      "model_name": "DescriptionStyleModel",
      "state": {
       "_view_name": "ErrorWidgetView",
       "description_width": "",
       "error": {},
       "msg": "Failed to load model class 'DescriptionStyleModel' from module '@jupyter-widgets/controls'"
      }
     },
     "e6d483df77834a1698c180cef8715eca": {
      "model_module": "@jupyter-widgets/base",
      "model_module_version": "2.0.0",
      "model_name": "LayoutModel",
      "state": {
       "_view_name": "ErrorWidgetView",
       "error": {},
       "msg": "Failed to load model class 'LayoutModel' from module '@jupyter-widgets/base'"
      }
     },
     "e724b9c90b8a41d0b4ac1ed3180d1624": {
      "model_module": "@jupyter-widgets/controls",
      "model_module_version": "2.0.0",
      "model_name": "SliderStyleModel",
      "state": {
       "_view_name": "ErrorWidgetView",
       "description_width": "",
       "error": {},
       "msg": "Failed to load model class 'SliderStyleModel' from module '@jupyter-widgets/controls'"
      }
     },
     "e77e691082eb410f81c7afd0b373274b": {
      "model_module": "@jupyter-widgets/base",
      "model_module_version": "2.0.0",
      "model_name": "LayoutModel",
      "state": {
       "_view_name": "ErrorWidgetView",
       "error": {},
       "msg": "Failed to load model class 'LayoutModel' from module '@jupyter-widgets/base'"
      }
     },
     "e8b0c3474515497fb882479edd439768": {
      "model_module": "@jupyter-widgets/base",
      "model_module_version": "2.0.0",
      "model_name": "LayoutModel",
      "state": {
       "_view_name": "ErrorWidgetView",
       "error": {},
       "msg": "Failed to load model class 'LayoutModel' from module '@jupyter-widgets/base'"
      }
     },
     "e8c6afdaef2b4ac1b6388894976024a0": {
      "model_module": "@jupyter-widgets/controls",
      "model_module_version": "2.0.0",
      "model_name": "FloatSliderModel",
      "state": {
       "_view_name": "ErrorWidgetView",
       "description": "Power",
       "error": {},
       "layout": "IPY_MODEL_792955da67444dc0b2e4dfbd53fcfeb8",
       "max": 2,
       "min": 0.01,
       "msg": "Failed to load model class 'FloatSliderModel' from module '@jupyter-widgets/controls'",
       "step": 0.01,
       "style": "IPY_MODEL_d50c6c3014d14d8086384b28140fc006",
       "value": 1
      }
     },
     "e8f52d7db4ac40608fcc5893e974972b": {
      "model_module": "@jupyter-widgets/base",
      "model_module_version": "2.0.0",
      "model_name": "LayoutModel",
      "state": {
       "_view_name": "ErrorWidgetView",
       "error": {},
       "msg": "Failed to load model class 'LayoutModel' from module '@jupyter-widgets/base'"
      }
     },
     "ea5ae868996244ce9195b767d84a12a2": {
      "model_module": "@jupyter-widgets/base",
      "model_module_version": "2.0.0",
      "model_name": "LayoutModel",
      "state": {
       "_view_name": "ErrorWidgetView",
       "error": {},
       "msg": "Failed to load model class 'LayoutModel' from module '@jupyter-widgets/base'",
       "width": "300px"
      }
     },
     "ebf18fedd17b47c485246b9e94aced4d": {
      "model_module": "@jupyter-widgets/base",
      "model_module_version": "2.0.0",
      "model_name": "LayoutModel",
      "state": {
       "_view_name": "ErrorWidgetView",
       "error": {},
       "msg": "Failed to load model class 'LayoutModel' from module '@jupyter-widgets/base'"
      }
     },
     "ebf37975789348aaa1a0fd3fe7243870": {
      "model_module": "@jupyter-widgets/base",
      "model_module_version": "2.0.0",
      "model_name": "LayoutModel",
      "state": {
       "_view_name": "ErrorWidgetView",
       "error": {},
       "msg": "Failed to load model class 'LayoutModel' from module '@jupyter-widgets/base'"
      }
     },
     "ec5f80468e134dea8b2978078d2e6bdf": {
      "model_module": "@jupyter-widgets/base",
      "model_module_version": "2.0.0",
      "model_name": "LayoutModel",
      "state": {
       "_view_name": "ErrorWidgetView",
       "error": {},
       "msg": "Failed to load model class 'LayoutModel' from module '@jupyter-widgets/base'"
      }
     },
     "edfd403e9b5c4b99a772397ce90d9f15": {
      "model_module": "@jupyter-widgets/base",
      "model_module_version": "2.0.0",
      "model_name": "LayoutModel",
      "state": {
       "_view_name": "ErrorWidgetView",
       "error": {},
       "msg": "Failed to load model class 'LayoutModel' from module '@jupyter-widgets/base'"
      }
     },
     "f04a2487a29545c399916969efae49aa": {
      "model_module": "@jupyter-widgets/controls",
      "model_module_version": "2.0.0",
      "model_name": "SliderStyleModel",
      "state": {
       "_view_name": "ErrorWidgetView",
       "description_width": "",
       "error": {},
       "msg": "Failed to load model class 'SliderStyleModel' from module '@jupyter-widgets/controls'"
      }
     },
     "f11f462e92094647b9b264a11e3f0610": {
      "model_module": "@jupyter-widgets/controls",
      "model_module_version": "2.0.0",
      "model_name": "SliderStyleModel",
      "state": {
       "_view_name": "ErrorWidgetView",
       "description_width": "",
       "error": {},
       "msg": "Failed to load model class 'SliderStyleModel' from module '@jupyter-widgets/controls'"
      }
     },
     "f2131ac001284faeb6e797cdb7a06086": {
      "model_module": "@jupyter-widgets/base",
      "model_module_version": "2.0.0",
      "model_name": "LayoutModel",
      "state": {
       "_view_name": "ErrorWidgetView",
       "error": {},
       "msg": "Failed to load model class 'LayoutModel' from module '@jupyter-widgets/base'"
      }
     },
     "f420d5a16d8f4c8681a9ef402dbda40c": {
      "model_module": "@jupyter-widgets/controls",
      "model_module_version": "2.0.0",
      "model_name": "SelectionSliderModel",
      "state": {
       "_options_labels": [
        "0",
        "1",
        "2",
        "3",
        "4",
        "5",
        "6",
        "7"
       ],
       "_view_name": "ErrorWidgetView",
       "description": "Frozen phonons",
       "error": {},
       "index": 2,
       "layout": "IPY_MODEL_212aa268f1a644a0bc6a31e24e4d05e6",
       "msg": "Failed to load model class 'SelectionSliderModel' from module '@jupyter-widgets/controls'",
       "style": "IPY_MODEL_9cbf73f6f973477aa159e5ac7dbbe209"
      }
     },
     "f50531cdbfa3435f8dad1943c4cd5778": {
      "model_module": "@jupyter-widgets/controls",
      "model_module_version": "2.0.0",
      "model_name": "ButtonModel",
      "state": {
       "_view_name": "ErrorWidgetView",
       "description": "Scale",
       "error": {},
       "layout": "IPY_MODEL_cbc303af084f4d3fb0727c1020817059",
       "msg": "Failed to load model class 'ButtonModel' from module '@jupyter-widgets/controls'",
       "style": "IPY_MODEL_cc6b14c39aeb4adabfe100332d3dc556"
      }
     },
     "f60f68e08e264cb9b77219143848122f": {
      "model_module": "@jupyter-widgets/base",
      "model_module_version": "2.0.0",
      "model_name": "LayoutModel",
      "state": {
       "_view_name": "ErrorWidgetView",
       "error": {},
       "msg": "Failed to load model class 'LayoutModel' from module '@jupyter-widgets/base'"
      }
     },
     "f654a834ae8d4d18afd493f620610c4c": {
      "model_module": "@jupyter-widgets/base",
      "model_module_version": "2.0.0",
      "model_name": "LayoutModel",
      "state": {
       "_view_name": "ErrorWidgetView",
       "error": {},
       "msg": "Failed to load model class 'LayoutModel' from module '@jupyter-widgets/base'"
      }
     },
     "f6cedef5b9444c70af8cd629966e5482": {
      "model_module": "@jupyter-widgets/controls",
      "model_module_version": "2.0.0",
      "model_name": "DescriptionStyleModel",
      "state": {
       "_view_name": "ErrorWidgetView",
       "description_width": "",
       "error": {},
       "msg": "Failed to load model class 'DescriptionStyleModel' from module '@jupyter-widgets/controls'"
      }
     },
     "f73e372d321e4858b8764838f64e149a": {
      "model_module": "@jupyter-widgets/base",
      "model_module_version": "2.0.0",
      "model_name": "LayoutModel",
      "state": {
       "_view_name": "ErrorWidgetView",
       "error": {},
       "msg": "Failed to load model class 'LayoutModel' from module '@jupyter-widgets/base'"
      }
     },
     "f751b3e1f74c43f1bc1badb351287dc5": {
      "model_module": "@jupyter-widgets/base",
      "model_module_version": "2.0.0",
      "model_name": "LayoutModel",
      "state": {
       "_view_name": "ErrorWidgetView",
       "error": {},
       "msg": "Failed to load model class 'LayoutModel' from module '@jupyter-widgets/base'"
      }
     },
     "f791ccbff1e54f3b8a53c042541e1081": {
      "model_module": "@jupyter-widgets/controls",
      "model_module_version": "2.0.0",
      "model_name": "HBoxModel",
      "state": {
       "_view_name": "ErrorWidgetView",
       "children": [
        "IPY_MODEL_717afe7f51944bbeb9b5eae7abc6b929",
        "IPY_MODEL_c5ed7a4e909b4b5b9423444047050417"
       ],
       "error": {},
       "layout": "IPY_MODEL_7bd5572d3e464cb48077f3716f4dad31",
       "msg": "Failed to load model class 'HBoxModel' from module '@jupyter-widgets/controls'"
      }
     },
     "fa95b26e11994386b915557aac1cdc6c": {
      "model_module": "@jupyter-widgets/base",
      "model_module_version": "2.0.0",
      "model_name": "LayoutModel",
      "state": {
       "_view_name": "ErrorWidgetView",
       "error": {},
       "msg": "Failed to load model class 'LayoutModel' from module '@jupyter-widgets/base'"
      }
     },
     "fd95640d30d04e0a8b73f9c9fad7529b": {
      "model_module": "@jupyter-widgets/controls",
      "model_module_version": "2.0.0",
      "model_name": "DescriptionStyleModel",
      "state": {
       "_view_name": "ErrorWidgetView",
       "description_width": "",
       "error": {},
       "msg": "Failed to load model class 'DescriptionStyleModel' from module '@jupyter-widgets/controls'"
      }
     },
     "fed8de04cc6a4de7a1882596f478f942": {
      "model_module": "@jupyter-widgets/base",
      "model_module_version": "2.0.0",
      "model_name": "LayoutModel",
      "state": {
       "_view_name": "ErrorWidgetView",
       "error": {},
       "msg": "Failed to load model class 'LayoutModel' from module '@jupyter-widgets/base'"
      }
     },
     "ff3bdb968c3541f8b0b45a743475593a": {
      "model_module": "@jupyter-widgets/base",
      "model_module_version": "2.0.0",
      "model_name": "LayoutModel",
      "state": {
       "_view_name": "ErrorWidgetView",
       "error": {},
       "msg": "Failed to load model class 'LayoutModel' from module '@jupyter-widgets/base'"
      }
     },
     "fff89e70b9494d4085444eec4480ff37": {
      "model_module": "@jupyter-widgets/base",
      "model_module_version": "2.0.0",
      "model_name": "LayoutModel",
      "state": {
       "_view_name": "ErrorWidgetView",
       "error": {},
       "msg": "Failed to load model class 'LayoutModel' from module '@jupyter-widgets/base'"
      }
     }
    },
    "version_major": 2,
    "version_minor": 0
   }
  }
 },
 "nbformat": 4,
 "nbformat_minor": 5
}
