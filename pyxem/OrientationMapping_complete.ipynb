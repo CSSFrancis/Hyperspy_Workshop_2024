{
 "cells": [
  {
   "cell_type": "markdown",
   "id": "513d756a-53ec-4099-bd4e-d5935a3df184",
   "metadata": {},
   "source": [
    "# Orientation Mapping\n",
    "\n",
    "Orientation Mapping in `pyxem` is very fast and powerful!  There are many tools for aligning your data like:\n",
    "\n",
    "- Aligning your zero beam with [center_direct_beam](https://pyxem.readthedocs.io/en/stable/examples/processing/centering_the_zero_beam.html#sphx-glr-examples-processing-centering-the-zero-beam-py)\n",
    "- Removing astigmatism with  [apply_affine_transformation](https://pyxem.readthedocs.io/en/stable/examples/processing/determining_ellipticity.html#sphx-glr-examples-processing-determining-ellipticity-py)\n",
    "- Removing the background using [subtract_background](https://pyxem.readthedocs.io/en/stable/examples/processing/background_subtraction.html#sphx-glr-examples-processing-background-subtraction-py)\n",
    "- Get Polar coordainates using [2D azimuthal integration](https://pyxem.readthedocs.io/en/stable/examples/processing/azimuthal_integration.html#sphx-glr-examples-processing-azimuthal-integration-py)\n",
    "\n",
    "For more information see this paper:\n",
    "\n",
    "```\n",
    "Niels Cautaerts, Phillip Crout, Håkon W. Ånes, Eric Prestat, Jiwon Jeong, Gerhard Dehm, Christian H. Liebscher,\n",
    "Free, flexible and fast: Orientation mapping using the multi-core and GPU-accelerated template matching capabilities in the Python-based open source 4D-STEM analysis toolbox Pyxem,\n",
    "Ultramicroscopy,\n",
    "Volume 237,\n",
    "2022,\n",
    "113517,\n",
    "ISSN 0304-3991,\n",
    "https://doi.org/10.1016/j.ultramic.2022.11351\n",
    "```\n",
    "\n",
    "<center><img src=\"Images/OrientationMapping.jpg\" alt=\"Orient1\" height=\"500\" width=\"500\"> <img src=\"Images/OrientationMapping2.jpg\" alt=\"Orient1\" height=\"600\" width=\"500\"></center>\n"
   ]
  },
  {
   "cell_type": "markdown",
   "id": "b2cb4453-5d9e-4ac9-bf81-9f487db8f189",
   "metadata": {},
   "source": [
    "---\n",
    "**NOTE**\n",
    "\n",
    "This uses pyxem==0.19.0 and diffsims==0.6.0.\n",
    "\n",
    "---"
   ]
  },
  {
   "cell_type": "code",
   "execution_count": null,
   "id": "4abd27ce-8381-4ffd-a406-89f856e9473d",
   "metadata": {
    "tags": []
   },
   "outputs": [],
   "source": [
    "import numpy as np\n",
    "import matplotlib.pyplot as plt\n",
    "import hyperspy.api as hs\n",
    "import zarr"
   ]
  },
  {
   "cell_type": "code",
   "execution_count": null,
   "id": "ee2981f4-7c87-4456-a745-cbbf8edc89c1",
   "metadata": {
    "tags": []
   },
   "outputs": [],
   "source": [
    "# load the data from a zip store zspy file\n",
    "store = zarr.ZipStore(\"data/cuzipProcessed.zspy\")\n",
    "s = hs.load(store, lazy=True)"
   ]
  },
  {
   "cell_type": "code",
   "execution_count": null,
   "id": "4953a7c7-fa02-49ec-af9a-1438fa102ab8",
   "metadata": {
    "tags": []
   },
   "outputs": [],
   "source": [
    "# get the azimuthal integral 2d\n",
    "az = s.get_azimuthal_integral2d(npt=250, mean=True,radial_range=[0,3.] )"
   ]
  },
  {
   "cell_type": "code",
   "execution_count": null,
   "id": "e7304b7d-fa77-494a-9ce2-036432d8d0c0",
   "metadata": {},
   "outputs": [],
   "source": [
    "# transfer the navigator\n",
    "az.navigator= s.navigator"
   ]
  },
  {
   "cell_type": "code",
   "execution_count": null,
   "id": "caee36fa-8185-4f8b-b413-108b1d51f509",
   "metadata": {
    "tags": []
   },
   "outputs": [],
   "source": [
    "# plot the azimuthal Integral "
   ]
  },
  {
   "cell_type": "markdown",
   "id": "1bd31002-4d97-4146-9550-13348bb7faf7",
   "metadata": {},
   "source": [
    "## Creating a Simulation Library\n",
    "\n",
    "We can make a simple simulation library using `diffsims`. Here we sample in the (reduced) S2 space removing any orieations that are identical due to symetry.  Additionally, because we correlate in the polar direction we don't have to consider the first Euler angle!"
   ]
  },
  {
   "cell_type": "code",
   "execution_count": null,
   "id": "9f878a88-15b6-49fc-8b95-7cca7ce7c91e",
   "metadata": {
    "tags": []
   },
   "outputs": [],
   "source": [
    "from orix.sampling import get_sample_reduced_fundamental\n",
    "from orix.vector import Vector3d\n",
    "from orix import plot\n",
    "import matplotlib.pyplot as plt\n",
    "from orix.crystal_map import Phase\n",
    "from diffsims.generators.simulation_generator import SimulationGenerator"
   ]
  },
  {
   "cell_type": "code",
   "execution_count": null,
   "id": "69d78033-97a3-400f-ad82-f03c6a6393fa",
   "metadata": {
    "tags": []
   },
   "outputs": [],
   "source": [
    "# load the cif file\n",
    "p = Phase.from_cif(\"data/Cu.cif\")"
   ]
  },
  {
   "cell_type": "code",
   "execution_count": null,
   "id": "8424196e-9686-45d2-ae2d-b3efe55c3e8f",
   "metadata": {
    "tags": []
   },
   "outputs": [],
   "source": [
    "# get the reduced set of points\n",
    "grid = get_sample_reduced_fundamental(1, point_group=p.point_group)"
   ]
  },
  {
   "cell_type": "code",
   "execution_count": null,
   "id": "40782d2d-a3a1-4647-b043-f098ea16eb3a",
   "metadata": {
    "tags": []
   },
   "outputs": [],
   "source": [
    "# plotting the rotations in 2D on the sterographic projection\n",
    "vectors = grid*Vector3d.zvector()\n",
    "subplot_kw = {\"projection\": \"ipf\", \"symmetry\": p.point_group, \"direction\": Vector3d.zvector}\n",
    "fig = plt.figure(figsize=(4, 4))\n",
    "\n",
    "ax0 = fig.add_subplot(111, **subplot_kw)\n",
    "ax0.scatter(vectors, alpha=0.05)\n",
    "_ = ax0.set_title(f\"CU Samping, Z\")\n"
   ]
  },
  {
   "cell_type": "code",
   "execution_count": null,
   "id": "9b2a60b8-4373-42bf-9991-b11d404a62bf",
   "metadata": {
    "tags": []
   },
   "outputs": [],
   "source": [
    "# Create a simulation\n",
    "gen = SimulationGenerator(200, minimum_intensity=.05, shape_factor_model=\"linear\")\n",
    "sim = gen.calculate_diffraction2d(phase=p, rotation=grid, max_excitation_error=0.15, reciprocal_radius=3, with_direct_beam=False)"
   ]
  },
  {
   "cell_type": "code",
   "execution_count": null,
   "id": "dcd30a00-c8d5-48b5-8812-27ed15ad86df",
   "metadata": {
    "tags": []
   },
   "outputs": [],
   "source": [
    "# plot the simulation\n",
    "sim.plot(interactive=True, show_labels=True,)"
   ]
  },
  {
   "cell_type": "code",
   "execution_count": null,
   "id": "6d703dbc-173d-46c4-8f22-e002364e8c3f",
   "metadata": {
    "tags": []
   },
   "outputs": [],
   "source": [
    "#close the plot\n",
    "plt.close(\"all\")"
   ]
  },
  {
   "cell_type": "code",
   "execution_count": null,
   "id": "d9fe4499-04f1-46a1-aa84-f6a9473e5967",
   "metadata": {
    "tags": []
   },
   "outputs": [],
   "source": [
    "# get the best fit orientation. \n",
    "orient = az.get_orientation(sim,n_best=10, frac_keep=1, normalize_templates=True)"
   ]
  },
  {
   "cell_type": "code",
   "execution_count": null,
   "id": "2db1f2a6-6bcf-40b0-9033-ed9e7096e309",
   "metadata": {
    "tags": []
   },
   "outputs": [],
   "source": [
    "# plot the phase markers (lazily :). This helps us to verify that we have the right parameters without computing everything!\n",
    "m= orient.to_single_phase_markers(include_intensity=True, intesity_scale=10)\n",
    "s.plot(vmax=\"99.9th\")\n",
    "s.add_marker(m)"
   ]
  },
  {
   "cell_type": "code",
   "execution_count": null,
   "id": "9518e175-b856-421b-b361-5c5be6fb7ae6",
   "metadata": {
    "tags": []
   },
   "outputs": [],
   "source": [
    "plt.close(\"all\")"
   ]
  },
  {
   "cell_type": "code",
   "execution_count": null,
   "id": "63bacd14-bf2b-4092-8fe7-6cc5283f394c",
   "metadata": {
    "tags": []
   },
   "outputs": [],
   "source": [
    "orient.compute()"
   ]
  },
  {
   "cell_type": "code",
   "execution_count": null,
   "id": "0fcf51e3-b6ea-44bb-b26d-c8a472169590",
   "metadata": {
    "tags": []
   },
   "outputs": [],
   "source": [
    "nav = orient.to_navigator()"
   ]
  },
  {
   "cell_type": "code",
   "execution_count": null,
   "id": "717578b6-bfcb-46fa-87e9-2db8375e5e50",
   "metadata": {
    "tags": []
   },
   "outputs": [],
   "source": [
    "nav.plot()"
   ]
  },
  {
   "cell_type": "code",
   "execution_count": null,
   "id": "a4c05a00-920a-46aa-9211-f0360a4f6fe7",
   "metadata": {
    "tags": []
   },
   "outputs": [],
   "source": [
    "%matplotlib ipympl\n",
    "ipf_markers = orient.to_ipf_markers()\n",
    "vector_markers = orient.to_single_phase_markers()\n",
    "s.plot(navigator=nav, vmax=\"99.9th\")\n",
    "s.add_marker(ipf_markers)\n",
    "s.add_marker(vector_markers)"
   ]
  },
  {
   "cell_type": "code",
   "execution_count": null,
   "id": "523f8fb1-cd8a-492f-ac9d-d43b98d99031",
   "metadata": {
    "tags": []
   },
   "outputs": [],
   "source": [
    "orient.isig[1].T.plot()"
   ]
  },
  {
   "cell_type": "code",
   "execution_count": null,
   "id": "59cb0401-7a17-4b0c-a2f3-7fb5a7651aa7",
   "metadata": {},
   "outputs": [],
   "source": []
  }
 ],
 "metadata": {
  "kernelspec": {
   "display_name": "pyxem-dev",
   "language": "python",
   "name": "pyxem-dev"
  },
  "language_info": {
   "codemirror_mode": {
    "name": "ipython",
    "version": 3
   },
   "file_extension": ".py",
   "mimetype": "text/x-python",
   "name": "python",
   "nbconvert_exporter": "python",
   "pygments_lexer": "ipython3",
   "version": "3.11.6"
  }
 },
 "nbformat": 4,
 "nbformat_minor": 5
}
