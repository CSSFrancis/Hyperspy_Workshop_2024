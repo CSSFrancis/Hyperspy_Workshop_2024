{
 "cells": [
  {
   "cell_type": "markdown",
   "id": "f147aed7",
   "metadata": {
    "@deathbeds/jupyterlab-fonts": {
     "styles": {
      "": {
       "body[data-jp-deck-mode='presenting'] &": {
        "zoom": "233%"
       }
      }
     }
    },
    "slideshow": {
     "slide_type": "slide"
    },
    "tags": []
   },
   "source": [
    "# pyxem\n",
    "\n",
    "\n",
    "### A 4-D STEM Package in the Hyperspy Ecosystem\n",
    "\n",
    "#### Carter Francis, University of Wisconsin Madison\n",
    "#### *May 16, 2024*"
   ]
  },
  {
   "cell_type": "code",
   "execution_count": 2,
   "id": "6292373571683830",
   "metadata": {
    "tags": []
   },
   "outputs": [
    {
     "name": "stderr",
     "output_type": "stream",
     "text": [
      "WARNING:silx.opencl.common:Unable to import pyOpenCl. Please install it from: https://pypi.org/project/pyopencl\n"
     ]
    }
   ],
   "source": [
    "# import pyxem and hyperspy\n",
    "import pyxem as pxm\n",
    "import hyperspy.api as hs"
   ]
  },
  {
   "cell_type": "markdown",
   "id": "0131013f-8d9d-4e63-9c7c-e03d69ddb66a",
   "metadata": {},
   "source": [
    "### Download the Data (Try to do this ahead of time!)"
   ]
  },
  {
   "cell_type": "code",
   "execution_count": 4,
   "id": "3d8a18c3-2a07-4fc5-b355-7419af8be705",
   "metadata": {
    "tags": []
   },
   "outputs": [
    {
     "name": "stderr",
     "output_type": "stream",
     "text": [
      "Downloading data from 'https://zenodo.org/record/8021874/files/data_processed.zspy' to file '/Users/carterfrancis/PycharmProjects/Hyperspy_Workshop_2024/pyxem/data/data_processed.zspy'.\n",
      "100%|█████████████████████████████████████| 58.3M/58.3M [00:00<00:00, 72.2GB/s]\n"
     ]
    }
   ],
   "source": [
    "# dowload the data :\n",
    "import pooch\n",
    "\n",
    "pxm.data.mgo_nanocrystals(allow_download=True, lazy=True)\n",
    "pxm.data.zrnb_precipitate(allow_download=True, lazy=True)\n",
    "pxm.data.twinned_nanowire(allow_download=True, lazy=True)\n",
    "file_path = pooch.retrieve(\n",
    "    url=\"https://zenodo.org/record/8021874/files/data_processed.zspy\",\n",
    "    fname=\"data_processed.zspy\",\n",
    "    path=\"./data/\",\n",
    "    known_hash=\"15cb8e71da39b85c32fe9bb8b53587aab15fed8b31b1e99d11c6f2061a0a0798\", \n",
    "    progressbar=True\n",
    ")\n",
    "\n"
   ]
  },
  {
   "cell_type": "code",
   "execution_count": null,
   "id": "7fa320c4-7f5f-43c0-9b75-f9a46198bea4",
   "metadata": {},
   "outputs": [],
   "source": []
  },
  {
   "cell_type": "markdown",
   "id": "539fda54-ef5a-4c6e-9e0e-97c53994d0aa",
   "metadata": {
    "@deathbeds/jupyterlab-fonts": {
     "styles": {
      "": {
       "body[data-jp-deck-mode='presenting'] &": {
        "z-index": "5",
        "zoom": "231%"
       }
      }
     }
    },
    "slideshow": {
     "slide_type": "slide"
    },
    "tags": []
   },
   "source": [
    "# Outline"
   ]
  },
  {
   "cell_type": "markdown",
   "id": "d8e1f5bd-a249-4bc6-bdb5-abb8e419c19f",
   "metadata": {
    "@deathbeds/jupyterlab-fonts": {
     "styles": {
      "": {
       "body[data-jp-deck-mode='presenting'] &": {
        "zoom": "311%"
       }
      }
     }
    },
    "slideshow": {
     "slide_type": "fragment"
    },
    "tags": []
   },
   "source": [
    "1. Introduction to 4D STEM\n",
    "2. Introduction to pyxem\n",
    "3. Example Workflows\n",
    "    1. Loading and Visualizing Data (This Notebook)\n",
    "    2. Creating Virtual Images (MgO Nanocrystals) (This Notebook)\n",
    "    3. Strain Mapping and Finding Vectors (Inclusions in ZrNb) (30 min) \n",
    "    4. Azimuthal Integration And Orientation Mapping in Molecular Glasses (30 min)"
   ]
  },
  {
   "cell_type": "markdown",
   "id": "0dbeb6d6-afe6-4401-b9f0-94dcecf8f735",
   "metadata": {
    "@deathbeds/jupyterlab-fonts": {
     "styles": {
      "": {
       "body[data-jp-deck-mode='presenting'] &": {
        "height": "6.293222815169338%",
        "left": "3.177083333333333%",
        "position": "fixed",
        "top": "3.9073326775641855%",
        "width": "96.66666666666667%"
       }
      }
     }
    },
    "slideshow": {
     "slide_type": "slide"
    },
    "tags": []
   },
   "source": [
    "# Introduction to 4D STEM"
   ]
  },
  {
   "cell_type": "markdown",
   "id": "87b13772-104d-4fe9-896a-c321d7ed12ab",
   "metadata": {
    "@deathbeds/jupyterlab-fonts": {
     "styles": {
      "": {
       "body[data-jp-deck-mode='presenting'] &": {
        "height": "85.43096402796303%",
        "left": "24.191081523895264%",
        "position": "fixed",
        "top": "14.162538109756099%",
        "width": "43.87776851654053%"
       }
      }
     }
    },
    "jupyterlab-deck": {
     "layer": "fragment"
    },
    "slideshow": {
     "slide_type": "subslide"
    },
    "tags": []
   },
   "source": [
    "<img src=\"Images/4DSTEM.gif\" alt=\"4D STEM GIF\">"
   ]
  },
  {
   "cell_type": "markdown",
   "id": "527db597-9e92-41f6-8cfc-9b805092aa4b",
   "metadata": {
    "@deathbeds/jupyterlab-fonts": {
     "styles": {
      "": {
       "body[data-jp-deck-mode='presenting'] &": {
        "height": "6.293222815169338%",
        "left": "3.958333333333333%",
        "position": "fixed",
        "top": "7.745506951423106%",
        "width": "96.66666666666667%"
       }
      }
     }
    },
    "slideshow": {
     "slide_type": "slide"
    },
    "tags": []
   },
   "source": [
    "# Introduction to pyxem (pix-em)"
   ]
  },
  {
   "cell_type": "markdown",
   "id": "268662bb",
   "metadata": {
    "@deathbeds/jupyterlab-fonts": {
     "styles": {
      "": {
       "body[data-jp-deck-mode='presenting'] &": {
        "height": "28.874912720992853%",
        "left": "5.567491157849629%",
        "position": "fixed",
        "top": "18.7067775409746%",
        "width": "90.6553810119629%",
        "zoom": "214%"
       }
      }
     }
    },
    "slideshow": {
     "slide_type": "fragment"
    },
    "tags": []
   },
   "source": [
    "\n",
    "Because pyxem extends hyperspy importing hyperspy will automatically load pyxem if it is installed.\n",
    "\n",
    "This also means that we inherit all of the upstream hyperspy functionality such as:\n",
    "\n",
    "1. Fast I-O (from [many different file formats](https://hyperspy.org/rosettasciio/supported_formats/index.html))\n",
    "2. Machine learning with [Matrix Factorization](https://hyperspy.org/hyperspy-doc/current/user_guide/mva.html)\n",
    "3. Fitting with [1-D and 2-D functions](https://hyperspy.org/hyperspy-doc/current/user_guide/model.html)\n",
    "4. [Interactive Plotting](https://hyperspy.org/hyperspy-doc/current/user_guide/visualisation.html)\n",
    "5. [Metadata Handling](https://hyperspy.org/hyperspy-doc/current/user_guide/metadata_structure.html)\n",
    "6. And __Much Much__ More!"
   ]
  },
  {
   "cell_type": "markdown",
   "id": "33a567d4-e506-46e0-b2ee-56e89035d92c",
   "metadata": {
    "@deathbeds/jupyterlab-fonts": {
     "styles": {
      "": {
       "body[data-jp-deck-mode='presenting'] &": {
        "zoom": "325%"
       }
      }
     }
    },
    "slideshow": {
     "slide_type": "slide"
    },
    "tags": []
   },
   "source": [
    "For more information about pyxem check out our [github](https://github.com/pyxem/pyxem) our [documentation](https://pyxem.readthedocs.io/en/latest/) or the set of [tutorial notebooks](https://github.com/pyxem/pyxem-demos) or our new set of [examples](https://pyxem.readthedocs.io/en/stable/examples/index.html)"
   ]
  },
  {
   "cell_type": "markdown",
   "id": "11e59c8a-f22d-402e-ae7a-0a4221252beb",
   "metadata": {},
   "source": [
    "## Loading and Visualizing Data"
   ]
  },
  {
   "cell_type": "markdown",
   "id": "30fd99fb-87f3-411a-88a5-d293e4e73af3",
   "metadata": {},
   "source": [
    "Data in `pyxem` can be loaded exactly the same as loading data in `hyperspy`.  Many different formats are supported but only the `.hspy` (hdf5) and `.zspy` (zarr) formats retain all of the metadata\n",
    "\n",
    "```python\n",
    "import hyperspy.api as hs\n",
    "s = hs.load(\"path/to/file/to/load.hspy\")\n",
    "```\n",
    "\n",
    "Visualization can easily be done by then calling the function\n",
    "\n",
    "```python\n",
    "s.plot()\n",
    "```\n"
   ]
  },
  {
   "cell_type": "code",
   "execution_count": 6,
   "id": "e360c0a3-59d6-450b-a3eb-098472c1e5d9",
   "metadata": {
    "scrolled": true,
    "tags": []
   },
   "outputs": [
    {
     "name": "stderr",
     "output_type": "stream",
     "text": [
      "INFO:distributed.http.proxy:To route to workers diagnostics web server please install jupyter-server-proxy: python -m pip install jupyter-server-proxy\n",
      "INFO:distributed.scheduler:State start\n",
      "INFO:distributed.diskutils:Found stale lock file and directory '/var/folders/zs/ggjk5_sn2yjgjq4_l93t8__r0000gn/T/dask-scratch-space/scheduler-plce2awm', purging\n",
      "INFO:distributed.scheduler:  Scheduler at:     tcp://127.0.0.1:60044\n",
      "INFO:distributed.scheduler:  dashboard at:  http://127.0.0.1:8787/status\n",
      "INFO:distributed.nanny:        Start Nanny at: 'tcp://127.0.0.1:60047'\n",
      "INFO:distributed.nanny:        Start Nanny at: 'tcp://127.0.0.1:60048'\n",
      "INFO:distributed.nanny:        Start Nanny at: 'tcp://127.0.0.1:60049'\n",
      "INFO:distributed.nanny:        Start Nanny at: 'tcp://127.0.0.1:60050'\n",
      "INFO:distributed.scheduler:Register worker <WorkerState 'tcp://127.0.0.1:60056', name: 1, status: init, memory: 0, processing: 0>\n",
      "INFO:distributed.scheduler:Starting worker compute stream, tcp://127.0.0.1:60056\n",
      "INFO:distributed.core:Starting established connection to tcp://127.0.0.1:60061\n",
      "INFO:distributed.scheduler:Register worker <WorkerState 'tcp://127.0.0.1:60058', name: 3, status: init, memory: 0, processing: 0>\n",
      "INFO:distributed.scheduler:Starting worker compute stream, tcp://127.0.0.1:60058\n",
      "INFO:distributed.core:Starting established connection to tcp://127.0.0.1:60065\n",
      "INFO:distributed.scheduler:Register worker <WorkerState 'tcp://127.0.0.1:60057', name: 2, status: init, memory: 0, processing: 0>\n",
      "INFO:distributed.scheduler:Starting worker compute stream, tcp://127.0.0.1:60057\n",
      "INFO:distributed.core:Starting established connection to tcp://127.0.0.1:60066\n",
      "INFO:distributed.scheduler:Register worker <WorkerState 'tcp://127.0.0.1:60055', name: 0, status: init, memory: 0, processing: 0>\n",
      "INFO:distributed.scheduler:Starting worker compute stream, tcp://127.0.0.1:60055\n",
      "INFO:distributed.core:Starting established connection to tcp://127.0.0.1:60062\n",
      "INFO:distributed.scheduler:Receive client connection: Client-d0e4e5be-1063-11ef-8eea-72c312e5b675\n",
      "INFO:distributed.core:Starting established connection to tcp://127.0.0.1:60069\n"
     ]
    },
    {
     "data": {
      "text/html": [
       "<div>\n",
       "    <div style=\"width: 24px; height: 24px; background-color: #e1e1e1; border: 3px solid #9D9D9D; border-radius: 5px; position: absolute;\"> </div>\n",
       "    <div style=\"margin-left: 48px;\">\n",
       "        <h3 style=\"margin-bottom: 0px;\">Client</h3>\n",
       "        <p style=\"color: #9D9D9D; margin-bottom: 0px;\">Client-d0e4e5be-1063-11ef-8eea-72c312e5b675</p>\n",
       "        <table style=\"width: 100%; text-align: left;\">\n",
       "\n",
       "        <tr>\n",
       "        \n",
       "            <td style=\"text-align: left;\"><strong>Connection method:</strong> Cluster object</td>\n",
       "            <td style=\"text-align: left;\"><strong>Cluster type:</strong> distributed.LocalCluster</td>\n",
       "        \n",
       "        </tr>\n",
       "\n",
       "        \n",
       "            <tr>\n",
       "                <td style=\"text-align: left;\">\n",
       "                    <strong>Dashboard: </strong> <a href=\"http://127.0.0.1:8787/status\" target=\"_blank\">http://127.0.0.1:8787/status</a>\n",
       "                </td>\n",
       "                <td style=\"text-align: left;\"></td>\n",
       "            </tr>\n",
       "        \n",
       "\n",
       "        </table>\n",
       "\n",
       "        \n",
       "\n",
       "        \n",
       "            <details>\n",
       "            <summary style=\"margin-bottom: 20px;\"><h3 style=\"display: inline;\">Cluster Info</h3></summary>\n",
       "            <div class=\"jp-RenderedHTMLCommon jp-RenderedHTML jp-mod-trusted jp-OutputArea-output\">\n",
       "    <div style=\"width: 24px; height: 24px; background-color: #e1e1e1; border: 3px solid #9D9D9D; border-radius: 5px; position: absolute;\">\n",
       "    </div>\n",
       "    <div style=\"margin-left: 48px;\">\n",
       "        <h3 style=\"margin-bottom: 0px; margin-top: 0px;\">LocalCluster</h3>\n",
       "        <p style=\"color: #9D9D9D; margin-bottom: 0px;\">287e130c</p>\n",
       "        <table style=\"width: 100%; text-align: left;\">\n",
       "            <tr>\n",
       "                <td style=\"text-align: left;\">\n",
       "                    <strong>Dashboard:</strong> <a href=\"http://127.0.0.1:8787/status\" target=\"_blank\">http://127.0.0.1:8787/status</a>\n",
       "                </td>\n",
       "                <td style=\"text-align: left;\">\n",
       "                    <strong>Workers:</strong> 4\n",
       "                </td>\n",
       "            </tr>\n",
       "            <tr>\n",
       "                <td style=\"text-align: left;\">\n",
       "                    <strong>Total threads:</strong> 8\n",
       "                </td>\n",
       "                <td style=\"text-align: left;\">\n",
       "                    <strong>Total memory:</strong> 16.00 GiB\n",
       "                </td>\n",
       "            </tr>\n",
       "            \n",
       "            <tr>\n",
       "    <td style=\"text-align: left;\"><strong>Status:</strong> running</td>\n",
       "    <td style=\"text-align: left;\"><strong>Using processes:</strong> True</td>\n",
       "</tr>\n",
       "\n",
       "            \n",
       "        </table>\n",
       "\n",
       "        <details>\n",
       "            <summary style=\"margin-bottom: 20px;\">\n",
       "                <h3 style=\"display: inline;\">Scheduler Info</h3>\n",
       "            </summary>\n",
       "\n",
       "            <div style=\"\">\n",
       "    <div>\n",
       "        <div style=\"width: 24px; height: 24px; background-color: #FFF7E5; border: 3px solid #FF6132; border-radius: 5px; position: absolute;\"> </div>\n",
       "        <div style=\"margin-left: 48px;\">\n",
       "            <h3 style=\"margin-bottom: 0px;\">Scheduler</h3>\n",
       "            <p style=\"color: #9D9D9D; margin-bottom: 0px;\">Scheduler-406d99eb-9108-4988-a07a-aa46ac2c982a</p>\n",
       "            <table style=\"width: 100%; text-align: left;\">\n",
       "                <tr>\n",
       "                    <td style=\"text-align: left;\">\n",
       "                        <strong>Comm:</strong> tcp://127.0.0.1:60044\n",
       "                    </td>\n",
       "                    <td style=\"text-align: left;\">\n",
       "                        <strong>Workers:</strong> 4\n",
       "                    </td>\n",
       "                </tr>\n",
       "                <tr>\n",
       "                    <td style=\"text-align: left;\">\n",
       "                        <strong>Dashboard:</strong> <a href=\"http://127.0.0.1:8787/status\" target=\"_blank\">http://127.0.0.1:8787/status</a>\n",
       "                    </td>\n",
       "                    <td style=\"text-align: left;\">\n",
       "                        <strong>Total threads:</strong> 8\n",
       "                    </td>\n",
       "                </tr>\n",
       "                <tr>\n",
       "                    <td style=\"text-align: left;\">\n",
       "                        <strong>Started:</strong> Just now\n",
       "                    </td>\n",
       "                    <td style=\"text-align: left;\">\n",
       "                        <strong>Total memory:</strong> 16.00 GiB\n",
       "                    </td>\n",
       "                </tr>\n",
       "            </table>\n",
       "        </div>\n",
       "    </div>\n",
       "\n",
       "    <details style=\"margin-left: 48px;\">\n",
       "        <summary style=\"margin-bottom: 20px;\">\n",
       "            <h3 style=\"display: inline;\">Workers</h3>\n",
       "        </summary>\n",
       "\n",
       "        \n",
       "        <div style=\"margin-bottom: 20px;\">\n",
       "            <div style=\"width: 24px; height: 24px; background-color: #DBF5FF; border: 3px solid #4CC9FF; border-radius: 5px; position: absolute;\"> </div>\n",
       "            <div style=\"margin-left: 48px;\">\n",
       "            <details>\n",
       "                <summary>\n",
       "                    <h4 style=\"margin-bottom: 0px; display: inline;\">Worker: 0</h4>\n",
       "                </summary>\n",
       "                <table style=\"width: 100%; text-align: left;\">\n",
       "                    <tr>\n",
       "                        <td style=\"text-align: left;\">\n",
       "                            <strong>Comm: </strong> tcp://127.0.0.1:60055\n",
       "                        </td>\n",
       "                        <td style=\"text-align: left;\">\n",
       "                            <strong>Total threads: </strong> 2\n",
       "                        </td>\n",
       "                    </tr>\n",
       "                    <tr>\n",
       "                        <td style=\"text-align: left;\">\n",
       "                            <strong>Dashboard: </strong> <a href=\"http://127.0.0.1:60060/status\" target=\"_blank\">http://127.0.0.1:60060/status</a>\n",
       "                        </td>\n",
       "                        <td style=\"text-align: left;\">\n",
       "                            <strong>Memory: </strong> 4.00 GiB\n",
       "                        </td>\n",
       "                    </tr>\n",
       "                    <tr>\n",
       "                        <td style=\"text-align: left;\">\n",
       "                            <strong>Nanny: </strong> tcp://127.0.0.1:60047\n",
       "                        </td>\n",
       "                        <td style=\"text-align: left;\"></td>\n",
       "                    </tr>\n",
       "                    <tr>\n",
       "                        <td colspan=\"2\" style=\"text-align: left;\">\n",
       "                            <strong>Local directory: </strong> /var/folders/zs/ggjk5_sn2yjgjq4_l93t8__r0000gn/T/dask-scratch-space/worker-ia1pveax\n",
       "                        </td>\n",
       "                    </tr>\n",
       "\n",
       "                    \n",
       "\n",
       "                    \n",
       "\n",
       "                </table>\n",
       "            </details>\n",
       "            </div>\n",
       "        </div>\n",
       "        \n",
       "        <div style=\"margin-bottom: 20px;\">\n",
       "            <div style=\"width: 24px; height: 24px; background-color: #DBF5FF; border: 3px solid #4CC9FF; border-radius: 5px; position: absolute;\"> </div>\n",
       "            <div style=\"margin-left: 48px;\">\n",
       "            <details>\n",
       "                <summary>\n",
       "                    <h4 style=\"margin-bottom: 0px; display: inline;\">Worker: 1</h4>\n",
       "                </summary>\n",
       "                <table style=\"width: 100%; text-align: left;\">\n",
       "                    <tr>\n",
       "                        <td style=\"text-align: left;\">\n",
       "                            <strong>Comm: </strong> tcp://127.0.0.1:60056\n",
       "                        </td>\n",
       "                        <td style=\"text-align: left;\">\n",
       "                            <strong>Total threads: </strong> 2\n",
       "                        </td>\n",
       "                    </tr>\n",
       "                    <tr>\n",
       "                        <td style=\"text-align: left;\">\n",
       "                            <strong>Dashboard: </strong> <a href=\"http://127.0.0.1:60059/status\" target=\"_blank\">http://127.0.0.1:60059/status</a>\n",
       "                        </td>\n",
       "                        <td style=\"text-align: left;\">\n",
       "                            <strong>Memory: </strong> 4.00 GiB\n",
       "                        </td>\n",
       "                    </tr>\n",
       "                    <tr>\n",
       "                        <td style=\"text-align: left;\">\n",
       "                            <strong>Nanny: </strong> tcp://127.0.0.1:60048\n",
       "                        </td>\n",
       "                        <td style=\"text-align: left;\"></td>\n",
       "                    </tr>\n",
       "                    <tr>\n",
       "                        <td colspan=\"2\" style=\"text-align: left;\">\n",
       "                            <strong>Local directory: </strong> /var/folders/zs/ggjk5_sn2yjgjq4_l93t8__r0000gn/T/dask-scratch-space/worker-mvxnol7n\n",
       "                        </td>\n",
       "                    </tr>\n",
       "\n",
       "                    \n",
       "\n",
       "                    \n",
       "\n",
       "                </table>\n",
       "            </details>\n",
       "            </div>\n",
       "        </div>\n",
       "        \n",
       "        <div style=\"margin-bottom: 20px;\">\n",
       "            <div style=\"width: 24px; height: 24px; background-color: #DBF5FF; border: 3px solid #4CC9FF; border-radius: 5px; position: absolute;\"> </div>\n",
       "            <div style=\"margin-left: 48px;\">\n",
       "            <details>\n",
       "                <summary>\n",
       "                    <h4 style=\"margin-bottom: 0px; display: inline;\">Worker: 2</h4>\n",
       "                </summary>\n",
       "                <table style=\"width: 100%; text-align: left;\">\n",
       "                    <tr>\n",
       "                        <td style=\"text-align: left;\">\n",
       "                            <strong>Comm: </strong> tcp://127.0.0.1:60057\n",
       "                        </td>\n",
       "                        <td style=\"text-align: left;\">\n",
       "                            <strong>Total threads: </strong> 2\n",
       "                        </td>\n",
       "                    </tr>\n",
       "                    <tr>\n",
       "                        <td style=\"text-align: left;\">\n",
       "                            <strong>Dashboard: </strong> <a href=\"http://127.0.0.1:60064/status\" target=\"_blank\">http://127.0.0.1:60064/status</a>\n",
       "                        </td>\n",
       "                        <td style=\"text-align: left;\">\n",
       "                            <strong>Memory: </strong> 4.00 GiB\n",
       "                        </td>\n",
       "                    </tr>\n",
       "                    <tr>\n",
       "                        <td style=\"text-align: left;\">\n",
       "                            <strong>Nanny: </strong> tcp://127.0.0.1:60049\n",
       "                        </td>\n",
       "                        <td style=\"text-align: left;\"></td>\n",
       "                    </tr>\n",
       "                    <tr>\n",
       "                        <td colspan=\"2\" style=\"text-align: left;\">\n",
       "                            <strong>Local directory: </strong> /var/folders/zs/ggjk5_sn2yjgjq4_l93t8__r0000gn/T/dask-scratch-space/worker-qdsicsfu\n",
       "                        </td>\n",
       "                    </tr>\n",
       "\n",
       "                    \n",
       "\n",
       "                    \n",
       "\n",
       "                </table>\n",
       "            </details>\n",
       "            </div>\n",
       "        </div>\n",
       "        \n",
       "        <div style=\"margin-bottom: 20px;\">\n",
       "            <div style=\"width: 24px; height: 24px; background-color: #DBF5FF; border: 3px solid #4CC9FF; border-radius: 5px; position: absolute;\"> </div>\n",
       "            <div style=\"margin-left: 48px;\">\n",
       "            <details>\n",
       "                <summary>\n",
       "                    <h4 style=\"margin-bottom: 0px; display: inline;\">Worker: 3</h4>\n",
       "                </summary>\n",
       "                <table style=\"width: 100%; text-align: left;\">\n",
       "                    <tr>\n",
       "                        <td style=\"text-align: left;\">\n",
       "                            <strong>Comm: </strong> tcp://127.0.0.1:60058\n",
       "                        </td>\n",
       "                        <td style=\"text-align: left;\">\n",
       "                            <strong>Total threads: </strong> 2\n",
       "                        </td>\n",
       "                    </tr>\n",
       "                    <tr>\n",
       "                        <td style=\"text-align: left;\">\n",
       "                            <strong>Dashboard: </strong> <a href=\"http://127.0.0.1:60063/status\" target=\"_blank\">http://127.0.0.1:60063/status</a>\n",
       "                        </td>\n",
       "                        <td style=\"text-align: left;\">\n",
       "                            <strong>Memory: </strong> 4.00 GiB\n",
       "                        </td>\n",
       "                    </tr>\n",
       "                    <tr>\n",
       "                        <td style=\"text-align: left;\">\n",
       "                            <strong>Nanny: </strong> tcp://127.0.0.1:60050\n",
       "                        </td>\n",
       "                        <td style=\"text-align: left;\"></td>\n",
       "                    </tr>\n",
       "                    <tr>\n",
       "                        <td colspan=\"2\" style=\"text-align: left;\">\n",
       "                            <strong>Local directory: </strong> /var/folders/zs/ggjk5_sn2yjgjq4_l93t8__r0000gn/T/dask-scratch-space/worker-a8t6na28\n",
       "                        </td>\n",
       "                    </tr>\n",
       "\n",
       "                    \n",
       "\n",
       "                    \n",
       "\n",
       "                </table>\n",
       "            </details>\n",
       "            </div>\n",
       "        </div>\n",
       "        \n",
       "\n",
       "    </details>\n",
       "</div>\n",
       "\n",
       "        </details>\n",
       "    </div>\n",
       "</div>\n",
       "            </details>\n",
       "        \n",
       "\n",
       "    </div>\n",
       "</div>"
      ],
      "text/plain": [
       "<Client: 'tcp://127.0.0.1:60044' processes=4 threads=8, memory=16.00 GiB>"
      ]
     },
     "execution_count": 6,
     "metadata": {},
     "output_type": "execute_result"
    }
   ],
   "source": [
    "# Starting up a distributed Cluster locally \n",
    "# You don't have to do this but it helps to visualize what is happening. Note that you can \n",
    "from dask.distributed import Client\n",
    "client = Client()  # set up local cluster on your laptop\n",
    "client\n",
    "# Ignore INFO below just giving informataion about the scheduler set up"
   ]
  },
  {
   "cell_type": "code",
   "execution_count": 7,
   "id": "c734be03-1985-4710-ba01-f77059bec2d8",
   "metadata": {
    "tags": []
   },
   "outputs": [
    {
     "data": {
      "text/html": [
       "<div>\n",
       "    <div style=\"width: 24px; height: 24px; background-color: #e1e1e1; border: 3px solid #9D9D9D; border-radius: 5px; position: absolute;\"> </div>\n",
       "    <div style=\"margin-left: 48px;\">\n",
       "        <h3 style=\"margin-bottom: 0px;\">Client</h3>\n",
       "        <p style=\"color: #9D9D9D; margin-bottom: 0px;\">Client-d0e4e5be-1063-11ef-8eea-72c312e5b675</p>\n",
       "        <table style=\"width: 100%; text-align: left;\">\n",
       "\n",
       "        <tr>\n",
       "        \n",
       "            <td style=\"text-align: left;\"><strong>Connection method:</strong> Cluster object</td>\n",
       "            <td style=\"text-align: left;\"><strong>Cluster type:</strong> distributed.LocalCluster</td>\n",
       "        \n",
       "        </tr>\n",
       "\n",
       "        \n",
       "            <tr>\n",
       "                <td style=\"text-align: left;\">\n",
       "                    <strong>Dashboard: </strong> <a href=\"http://127.0.0.1:8787/status\" target=\"_blank\">http://127.0.0.1:8787/status</a>\n",
       "                </td>\n",
       "                <td style=\"text-align: left;\"></td>\n",
       "            </tr>\n",
       "        \n",
       "\n",
       "        </table>\n",
       "\n",
       "        \n",
       "\n",
       "        \n",
       "            <details>\n",
       "            <summary style=\"margin-bottom: 20px;\"><h3 style=\"display: inline;\">Cluster Info</h3></summary>\n",
       "            <div class=\"jp-RenderedHTMLCommon jp-RenderedHTML jp-mod-trusted jp-OutputArea-output\">\n",
       "    <div style=\"width: 24px; height: 24px; background-color: #e1e1e1; border: 3px solid #9D9D9D; border-radius: 5px; position: absolute;\">\n",
       "    </div>\n",
       "    <div style=\"margin-left: 48px;\">\n",
       "        <h3 style=\"margin-bottom: 0px; margin-top: 0px;\">LocalCluster</h3>\n",
       "        <p style=\"color: #9D9D9D; margin-bottom: 0px;\">287e130c</p>\n",
       "        <table style=\"width: 100%; text-align: left;\">\n",
       "            <tr>\n",
       "                <td style=\"text-align: left;\">\n",
       "                    <strong>Dashboard:</strong> <a href=\"http://127.0.0.1:8787/status\" target=\"_blank\">http://127.0.0.1:8787/status</a>\n",
       "                </td>\n",
       "                <td style=\"text-align: left;\">\n",
       "                    <strong>Workers:</strong> 4\n",
       "                </td>\n",
       "            </tr>\n",
       "            <tr>\n",
       "                <td style=\"text-align: left;\">\n",
       "                    <strong>Total threads:</strong> 8\n",
       "                </td>\n",
       "                <td style=\"text-align: left;\">\n",
       "                    <strong>Total memory:</strong> 16.00 GiB\n",
       "                </td>\n",
       "            </tr>\n",
       "            \n",
       "            <tr>\n",
       "    <td style=\"text-align: left;\"><strong>Status:</strong> running</td>\n",
       "    <td style=\"text-align: left;\"><strong>Using processes:</strong> True</td>\n",
       "</tr>\n",
       "\n",
       "            \n",
       "        </table>\n",
       "\n",
       "        <details>\n",
       "            <summary style=\"margin-bottom: 20px;\">\n",
       "                <h3 style=\"display: inline;\">Scheduler Info</h3>\n",
       "            </summary>\n",
       "\n",
       "            <div style=\"\">\n",
       "    <div>\n",
       "        <div style=\"width: 24px; height: 24px; background-color: #FFF7E5; border: 3px solid #FF6132; border-radius: 5px; position: absolute;\"> </div>\n",
       "        <div style=\"margin-left: 48px;\">\n",
       "            <h3 style=\"margin-bottom: 0px;\">Scheduler</h3>\n",
       "            <p style=\"color: #9D9D9D; margin-bottom: 0px;\">Scheduler-406d99eb-9108-4988-a07a-aa46ac2c982a</p>\n",
       "            <table style=\"width: 100%; text-align: left;\">\n",
       "                <tr>\n",
       "                    <td style=\"text-align: left;\">\n",
       "                        <strong>Comm:</strong> tcp://127.0.0.1:60044\n",
       "                    </td>\n",
       "                    <td style=\"text-align: left;\">\n",
       "                        <strong>Workers:</strong> 4\n",
       "                    </td>\n",
       "                </tr>\n",
       "                <tr>\n",
       "                    <td style=\"text-align: left;\">\n",
       "                        <strong>Dashboard:</strong> <a href=\"http://127.0.0.1:8787/status\" target=\"_blank\">http://127.0.0.1:8787/status</a>\n",
       "                    </td>\n",
       "                    <td style=\"text-align: left;\">\n",
       "                        <strong>Total threads:</strong> 8\n",
       "                    </td>\n",
       "                </tr>\n",
       "                <tr>\n",
       "                    <td style=\"text-align: left;\">\n",
       "                        <strong>Started:</strong> Just now\n",
       "                    </td>\n",
       "                    <td style=\"text-align: left;\">\n",
       "                        <strong>Total memory:</strong> 16.00 GiB\n",
       "                    </td>\n",
       "                </tr>\n",
       "            </table>\n",
       "        </div>\n",
       "    </div>\n",
       "\n",
       "    <details style=\"margin-left: 48px;\">\n",
       "        <summary style=\"margin-bottom: 20px;\">\n",
       "            <h3 style=\"display: inline;\">Workers</h3>\n",
       "        </summary>\n",
       "\n",
       "        \n",
       "        <div style=\"margin-bottom: 20px;\">\n",
       "            <div style=\"width: 24px; height: 24px; background-color: #DBF5FF; border: 3px solid #4CC9FF; border-radius: 5px; position: absolute;\"> </div>\n",
       "            <div style=\"margin-left: 48px;\">\n",
       "            <details>\n",
       "                <summary>\n",
       "                    <h4 style=\"margin-bottom: 0px; display: inline;\">Worker: 0</h4>\n",
       "                </summary>\n",
       "                <table style=\"width: 100%; text-align: left;\">\n",
       "                    <tr>\n",
       "                        <td style=\"text-align: left;\">\n",
       "                            <strong>Comm: </strong> tcp://127.0.0.1:60055\n",
       "                        </td>\n",
       "                        <td style=\"text-align: left;\">\n",
       "                            <strong>Total threads: </strong> 2\n",
       "                        </td>\n",
       "                    </tr>\n",
       "                    <tr>\n",
       "                        <td style=\"text-align: left;\">\n",
       "                            <strong>Dashboard: </strong> <a href=\"http://127.0.0.1:60060/status\" target=\"_blank\">http://127.0.0.1:60060/status</a>\n",
       "                        </td>\n",
       "                        <td style=\"text-align: left;\">\n",
       "                            <strong>Memory: </strong> 4.00 GiB\n",
       "                        </td>\n",
       "                    </tr>\n",
       "                    <tr>\n",
       "                        <td style=\"text-align: left;\">\n",
       "                            <strong>Nanny: </strong> tcp://127.0.0.1:60047\n",
       "                        </td>\n",
       "                        <td style=\"text-align: left;\"></td>\n",
       "                    </tr>\n",
       "                    <tr>\n",
       "                        <td colspan=\"2\" style=\"text-align: left;\">\n",
       "                            <strong>Local directory: </strong> /var/folders/zs/ggjk5_sn2yjgjq4_l93t8__r0000gn/T/dask-scratch-space/worker-ia1pveax\n",
       "                        </td>\n",
       "                    </tr>\n",
       "\n",
       "                    \n",
       "\n",
       "                    \n",
       "\n",
       "                </table>\n",
       "            </details>\n",
       "            </div>\n",
       "        </div>\n",
       "        \n",
       "        <div style=\"margin-bottom: 20px;\">\n",
       "            <div style=\"width: 24px; height: 24px; background-color: #DBF5FF; border: 3px solid #4CC9FF; border-radius: 5px; position: absolute;\"> </div>\n",
       "            <div style=\"margin-left: 48px;\">\n",
       "            <details>\n",
       "                <summary>\n",
       "                    <h4 style=\"margin-bottom: 0px; display: inline;\">Worker: 1</h4>\n",
       "                </summary>\n",
       "                <table style=\"width: 100%; text-align: left;\">\n",
       "                    <tr>\n",
       "                        <td style=\"text-align: left;\">\n",
       "                            <strong>Comm: </strong> tcp://127.0.0.1:60056\n",
       "                        </td>\n",
       "                        <td style=\"text-align: left;\">\n",
       "                            <strong>Total threads: </strong> 2\n",
       "                        </td>\n",
       "                    </tr>\n",
       "                    <tr>\n",
       "                        <td style=\"text-align: left;\">\n",
       "                            <strong>Dashboard: </strong> <a href=\"http://127.0.0.1:60059/status\" target=\"_blank\">http://127.0.0.1:60059/status</a>\n",
       "                        </td>\n",
       "                        <td style=\"text-align: left;\">\n",
       "                            <strong>Memory: </strong> 4.00 GiB\n",
       "                        </td>\n",
       "                    </tr>\n",
       "                    <tr>\n",
       "                        <td style=\"text-align: left;\">\n",
       "                            <strong>Nanny: </strong> tcp://127.0.0.1:60048\n",
       "                        </td>\n",
       "                        <td style=\"text-align: left;\"></td>\n",
       "                    </tr>\n",
       "                    <tr>\n",
       "                        <td colspan=\"2\" style=\"text-align: left;\">\n",
       "                            <strong>Local directory: </strong> /var/folders/zs/ggjk5_sn2yjgjq4_l93t8__r0000gn/T/dask-scratch-space/worker-mvxnol7n\n",
       "                        </td>\n",
       "                    </tr>\n",
       "\n",
       "                    \n",
       "\n",
       "                    \n",
       "\n",
       "                </table>\n",
       "            </details>\n",
       "            </div>\n",
       "        </div>\n",
       "        \n",
       "        <div style=\"margin-bottom: 20px;\">\n",
       "            <div style=\"width: 24px; height: 24px; background-color: #DBF5FF; border: 3px solid #4CC9FF; border-radius: 5px; position: absolute;\"> </div>\n",
       "            <div style=\"margin-left: 48px;\">\n",
       "            <details>\n",
       "                <summary>\n",
       "                    <h4 style=\"margin-bottom: 0px; display: inline;\">Worker: 2</h4>\n",
       "                </summary>\n",
       "                <table style=\"width: 100%; text-align: left;\">\n",
       "                    <tr>\n",
       "                        <td style=\"text-align: left;\">\n",
       "                            <strong>Comm: </strong> tcp://127.0.0.1:60057\n",
       "                        </td>\n",
       "                        <td style=\"text-align: left;\">\n",
       "                            <strong>Total threads: </strong> 2\n",
       "                        </td>\n",
       "                    </tr>\n",
       "                    <tr>\n",
       "                        <td style=\"text-align: left;\">\n",
       "                            <strong>Dashboard: </strong> <a href=\"http://127.0.0.1:60064/status\" target=\"_blank\">http://127.0.0.1:60064/status</a>\n",
       "                        </td>\n",
       "                        <td style=\"text-align: left;\">\n",
       "                            <strong>Memory: </strong> 4.00 GiB\n",
       "                        </td>\n",
       "                    </tr>\n",
       "                    <tr>\n",
       "                        <td style=\"text-align: left;\">\n",
       "                            <strong>Nanny: </strong> tcp://127.0.0.1:60049\n",
       "                        </td>\n",
       "                        <td style=\"text-align: left;\"></td>\n",
       "                    </tr>\n",
       "                    <tr>\n",
       "                        <td colspan=\"2\" style=\"text-align: left;\">\n",
       "                            <strong>Local directory: </strong> /var/folders/zs/ggjk5_sn2yjgjq4_l93t8__r0000gn/T/dask-scratch-space/worker-qdsicsfu\n",
       "                        </td>\n",
       "                    </tr>\n",
       "\n",
       "                    \n",
       "\n",
       "                    \n",
       "\n",
       "                </table>\n",
       "            </details>\n",
       "            </div>\n",
       "        </div>\n",
       "        \n",
       "        <div style=\"margin-bottom: 20px;\">\n",
       "            <div style=\"width: 24px; height: 24px; background-color: #DBF5FF; border: 3px solid #4CC9FF; border-radius: 5px; position: absolute;\"> </div>\n",
       "            <div style=\"margin-left: 48px;\">\n",
       "            <details>\n",
       "                <summary>\n",
       "                    <h4 style=\"margin-bottom: 0px; display: inline;\">Worker: 3</h4>\n",
       "                </summary>\n",
       "                <table style=\"width: 100%; text-align: left;\">\n",
       "                    <tr>\n",
       "                        <td style=\"text-align: left;\">\n",
       "                            <strong>Comm: </strong> tcp://127.0.0.1:60058\n",
       "                        </td>\n",
       "                        <td style=\"text-align: left;\">\n",
       "                            <strong>Total threads: </strong> 2\n",
       "                        </td>\n",
       "                    </tr>\n",
       "                    <tr>\n",
       "                        <td style=\"text-align: left;\">\n",
       "                            <strong>Dashboard: </strong> <a href=\"http://127.0.0.1:60063/status\" target=\"_blank\">http://127.0.0.1:60063/status</a>\n",
       "                        </td>\n",
       "                        <td style=\"text-align: left;\">\n",
       "                            <strong>Memory: </strong> 4.00 GiB\n",
       "                        </td>\n",
       "                    </tr>\n",
       "                    <tr>\n",
       "                        <td style=\"text-align: left;\">\n",
       "                            <strong>Nanny: </strong> tcp://127.0.0.1:60050\n",
       "                        </td>\n",
       "                        <td style=\"text-align: left;\"></td>\n",
       "                    </tr>\n",
       "                    <tr>\n",
       "                        <td colspan=\"2\" style=\"text-align: left;\">\n",
       "                            <strong>Local directory: </strong> /var/folders/zs/ggjk5_sn2yjgjq4_l93t8__r0000gn/T/dask-scratch-space/worker-a8t6na28\n",
       "                        </td>\n",
       "                    </tr>\n",
       "\n",
       "                    \n",
       "\n",
       "                    \n",
       "\n",
       "                </table>\n",
       "            </details>\n",
       "            </div>\n",
       "        </div>\n",
       "        \n",
       "\n",
       "    </details>\n",
       "</div>\n",
       "\n",
       "        </details>\n",
       "    </div>\n",
       "</div>\n",
       "            </details>\n",
       "        \n",
       "\n",
       "    </div>\n",
       "</div>"
      ],
      "text/plain": [
       "<Client: 'tcp://127.0.0.1:60044' processes=4 threads=8, memory=16.00 GiB>"
      ]
     },
     "execution_count": 7,
     "metadata": {},
     "output_type": "execute_result"
    }
   ],
   "source": [
    "client"
   ]
  },
  {
   "cell_type": "code",
   "execution_count": 2,
   "id": "c5cf628e-7b94-4b65-a850-f52d3ac62e3c",
   "metadata": {
    "tags": []
   },
   "outputs": [
    {
     "name": "stderr",
     "output_type": "stream",
     "text": [
      "WARNING:silx.opencl.common:Unable to import pyOpenCl. Please install it from: https://pypi.org/project/pyopencl\n"
     ]
    }
   ],
   "source": [
    "import pyxem as pxm\n",
    "import hyperspy.api as hs\n",
    "hs.set_log_level(\"ERROR\")"
   ]
  },
  {
   "cell_type": "code",
   "execution_count": 3,
   "id": "eaf5f321-9d40-4ee7-9b98-78fe9d154b64",
   "metadata": {
    "@deathbeds/jupyterlab-fonts": {
     "styles": {
      "": {
       "body[data-jp-deck-mode='presenting'] &": {
        "zoom": "105%"
       }
      }
     }
    },
    "slideshow": {
     "slide_type": "fragment"
    },
    "tags": []
   },
   "outputs": [],
   "source": [
    "# setting the plotting backend (note this works much better with the qt backend!)"
   ]
  },
  {
   "cell_type": "markdown",
   "id": "1a170861-54f6-496b-8aa6-d7403c7ce922",
   "metadata": {
    "@deathbeds/jupyterlab-fonts": {
     "styles": {
      "": {
       "body[data-jp-deck-mode='presenting'] &": {
        "zoom": "214%"
       }
      }
     }
    },
    "slideshow": {
     "slide_type": "slide"
    },
    "tags": []
   },
   "source": [
    "## Creating Virtual Images\n",
    "We can construct Virtual images very easily using [ROIS](http://hyperspy.org/hyperspy-doc/current/user_guide/interactive_operations_ROIs.html) from `hyperspy`."
   ]
  },
  {
   "cell_type": "code",
   "execution_count": 3,
   "id": "eb393e2f-f916-498e-bea8-05fb4b0dbc18",
   "metadata": {
    "tags": []
   },
   "outputs": [
    {
     "name": "stdout",
     "output_type": "stream",
     "text": [
      "2.1.0\n"
     ]
    }
   ],
   "source": [
    "import hyperspy\n",
    "print(hyperspy.__version__)"
   ]
  },
  {
   "cell_type": "code",
   "execution_count": 4,
   "id": "d635f83e-0b86-4dc3-8d01-0827ec7b096b",
   "metadata": {
    "tags": []
   },
   "outputs": [
    {
     "name": "stdout",
     "output_type": "stream",
     "text": [
      "[########################################] | 100% Completed | 876.23 ms\n"
     ]
    }
   ],
   "source": [
    "# This will work with lazy signals if they are small and stored efficiently.\n"
   ]
  },
  {
   "cell_type": "code",
   "execution_count": 5,
   "id": "d6b62e95-51b1-4e68-8c5f-0e2fe987e671",
   "metadata": {
    "tags": []
   },
   "outputs": [],
   "source": [
    "# plot the data\n"
   ]
  },
  {
   "cell_type": "code",
   "execution_count": 6,
   "id": "212fe190-5194-43ef-93f8-74e989a63160",
   "metadata": {
    "tags": []
   },
   "outputs": [
    {
     "data": {
      "text/plain": [
       "([RectangularROI(left=-2.33712, top=-2.33712, right=-1.56349, bottom=-1.56349),\n",
       "  RectangularROI(left=-1.56349, top=-1.56349, right=-0.78986, bottom=-0.78986),\n",
       "  RectangularROI(left=-0.78986, top=-0.78986, right=-0.01623, bottom=-0.01623)],\n",
       " [<Signal2D, title: Integrated intensity, dimensions: (|105, 105)>,\n",
       "  <Signal2D, title: Integrated intensity, dimensions: (|105, 105)>,\n",
       "  <Signal2D, title: Integrated intensity, dimensions: (|105, 105)>])"
      ]
     },
     "execution_count": 6,
     "metadata": {},
     "output_type": "execute_result"
    }
   ],
   "source": [
    "# Lets make an couple of interactive ROI's \n"
   ]
  },
  {
   "cell_type": "markdown",
   "id": "2c75790f-5055-41af-8b2d-4dc047664e8f",
   "metadata": {},
   "source": [
    "We can also define a specific ROI to create virtual Images."
   ]
  },
  {
   "cell_type": "code",
   "execution_count": 7,
   "id": "1d711f89-a92d-4c6e-9816-d5b0035b2338",
   "metadata": {
    "tags": []
   },
   "outputs": [
    {
     "data": {
      "text/plain": [
       "<hyperspy.drawing._widgets.circle.CircleWidget at 0x29b8e3fd0>"
      ]
     },
     "execution_count": 7,
     "metadata": {},
     "output_type": "execute_result"
    }
   ],
   "source": [
    "# get the mean diffraction pattern\n",
    "# plot the mean diffraction pattern\n",
    "# create a ROI to be used as a virtual appature\n",
    "# add roi to plot\n",
    "# create a ROI to be used as a virtual appature\n",
    "# add roi to plot"
   ]
  },
  {
   "cell_type": "code",
   "execution_count": 8,
   "id": "d6594441-7998-4604-b2f4-d98e373671bd",
   "metadata": {
    "@deathbeds/jupyterlab-fonts": {
     "styles": {
      "": {
       "body[data-jp-deck-mode='presenting'] &": {
        "zoom": "174%"
       }
      }
     }
    },
    "slideshow": {
     "slide_type": "fragment"
    },
    "tags": []
   },
   "outputs": [
    {
     "data": {
      "text/plain": [
       "[<Axes: title={'center': 'Virtual Dark Field'}, xlabel='x axis (nm)', ylabel='y axis (nm)'>,\n",
       " <Axes: title={'center': 'Virtual Aperture'}, xlabel='x axis (nm)', ylabel='y axis (nm)'>]"
      ]
     },
     "execution_count": 8,
     "metadata": {},
     "output_type": "execute_result"
    }
   ],
   "source": [
    "# get the integrated intensity to make the virtual images.\n",
    "# integrate the DF ROI \n",
    "# integrate the DF ROI  using `.get_integrated_intensity`\n",
    "\n",
    "\n",
    "# plot_images\n",
    "# Plot both ROI's using hyperspy"
   ]
  },
  {
   "cell_type": "markdown",
   "id": "aafad88d-0105-4528-8dcf-ea24c0d3eb27",
   "metadata": {
    "slideshow": {
     "slide_type": "slide"
    },
    "tags": []
   },
   "source": [
    "### Finding Diffraction Vectors and Crystal Segmentation\n",
    "\n",
    "For many operations in `pyxem` such as Crystal Segmentation, Strain Mapping and Clustering we start with finding the set of diffraction vectors within the dataset.  This starts with the function `s.get_diffraction_vectors()`"
   ]
  },
  {
   "cell_type": "markdown",
   "id": "2fa3417d-7124-428e-a60c-b9700528620c",
   "metadata": {},
   "source": [
    "##### Removing Background\n",
    "\n",
    "For more infromation look at the [background subtraction example](https://pyxem.readthedocs.io/en/stable/examples/processing/background_subtraction.html#sphx-glr-examples-processing-background-subtraction-py)"
   ]
  },
  {
   "cell_type": "code",
   "execution_count": 4,
   "id": "75ca0a56-f79e-4ad5-ad82-4cb18f633e82",
   "metadata": {
    "tags": []
   },
   "outputs": [],
   "source": [
    "# Restart Kernel"
   ]
  },
  {
   "cell_type": "code",
   "execution_count": 66,
   "id": "ec30ae39-5362-454b-9e3e-943cb303c3cc",
   "metadata": {
    "tags": []
   },
   "outputs": [],
   "source": [
    "import pyxem as pxm\n",
    "import hyperspy.api as hs\n",
    "hs.set_log_level(\"ERROR\")"
   ]
  },
  {
   "cell_type": "code",
   "execution_count": 2,
   "id": "fcbc44c2-696a-4982-9900-0dee6504296e",
   "metadata": {
    "tags": []
   },
   "outputs": [],
   "source": [
    "# load data"
   ]
  },
  {
   "cell_type": "code",
   "execution_count": 17,
   "id": "376b030f-999a-4744-9cc4-9b9bf2557c10",
   "metadata": {
    "tags": []
   },
   "outputs": [
    {
     "name": "stdout",
     "output_type": "stream",
     "text": [
      "\u001b[33;20mWARNING | Hyperspy | The function you applied does not take into account the difference of units and of scales in-between axes. (hyperspy.signal:5320)\u001b[0m\n"
     ]
    },
    {
     "name": "stderr",
     "output_type": "stream",
     "text": [
      "WARNING:hyperspy.signal:The function you applied does not take into account the difference of units and of scales in-between axes.\n"
     ]
    }
   ],
   "source": [
    "# find peaks using difference of gaussians  (try min_sigma= 2 max_sigma=4, threshold=0.02)"
   ]
  },
  {
   "cell_type": "code",
   "execution_count": 65,
   "id": "1bdab9d1-622e-4c4f-bb48-13409c300300",
   "metadata": {
    "tags": []
   },
   "outputs": [
    {
     "name": "stdout",
     "output_type": "stream",
     "text": [
      "\u001b[33;20mWARNING | Hyperspy | The function you applied does not take into account the difference of units and of scales in-between axes. (hyperspy.signal:5320)\u001b[0m\n"
     ]
    },
    {
     "name": "stderr",
     "output_type": "stream",
     "text": [
      "WARNING:hyperspy.signal:The function you applied does not take into account the difference of units and of scales in-between axes.\n"
     ]
    },
    {
     "name": "stdout",
     "output_type": "stream",
     "text": [
      "[########################################] | 100% Completed | 106.28 ms\n"
     ]
    },
    {
     "data": {
      "application/vnd.jupyter.widget-view+json": {
       "model_id": "1012f839facd4f6d85ea2f047b4d20f7",
       "version_major": 2,
       "version_minor": 0
      },
      "text/plain": [
       "HBox(children=(Canvas(toolbar=Toolbar(toolitems=[('Home', 'Reset original view', 'home', 'home'), ('Back', 'Ba…"
      ]
     },
     "metadata": {},
     "output_type": "display_data"
    }
   ],
   "source": [
    "%matplotlib ipympl\n",
    "#plot the markers over the dataset"
   ]
  },
  {
   "cell_type": "code",
   "execution_count": null,
   "id": "5dadd7e6-d288-4356-984f-050423c4fbcc",
   "metadata": {},
   "outputs": [],
   "source": [
    "# compute the diffraction vectors"
   ]
  },
  {
   "cell_type": "code",
   "execution_count": 5,
   "id": "31e25beb-8c80-4f5b-bbf0-fd2b5c8fc0af",
   "metadata": {
    "slideshow": {
     "slide_type": "subslide"
    },
    "tags": []
   },
   "outputs": [],
   "source": [
    "# plot the map (number found) of diffraction vectors \n"
   ]
  },
  {
   "cell_type": "code",
   "execution_count": null,
   "id": "3c1b8307-b9d0-4f13-90ec-f2a5b4b1ac04",
   "metadata": {
    "slideshow": {
     "slide_type": "fragment"
    },
    "tags": []
   },
   "outputs": [],
   "source": [
    "import numpy as np\n",
    "\n",
    "distance_threshold = 0.1\n",
    "min_samples = 7\n",
    "# cluster the vectors to get only the unique vectors\n",
    "\n",
    "#remove the zero beam min_magnitude=.4\n",
    "\n"
   ]
  },
  {
   "cell_type": "markdown",
   "id": "cdf4a126-e0da-4992-9875-c48a9c45f892",
   "metadata": {},
   "source": [
    "### Creating Virtual Images from Vectors"
   ]
  },
  {
   "cell_type": "code",
   "execution_count": 64,
   "id": "4bddd3e4-e9de-4d19-9b1b-7c8a3760a97d",
   "metadata": {
    "tags": []
   },
   "outputs": [
    {
     "name": "stdout",
     "output_type": "stream",
     "text": [
      "[########################################] | 100% Completed | 658.76 ms\n"
     ]
    },
    {
     "data": {
      "application/vnd.jupyter.widget-view+json": {
       "model_id": "92c99d0d908542cba731c01b312811af",
       "version_major": 2,
       "version_minor": 0
      },
      "image/png": "[encoded data removed]",
      "text/html": [
       "\n",
       "            <div style=\"display: inline-block;\">\n",
       "                <div class=\"jupyter-widgets widget-label\" style=\"text-align: center;\">\n",
       "                    Figure MgO Nano-Crystals Signal\n",
       "                </div>\n",
       "                <img src='data:image/png;base64,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' width=640.0/>\n",
       "            </div>\n",
       "        "
      ],
      "text/plain": [
       "Canvas(toolbar=Toolbar(toolitems=[('Home', 'Reset original view', 'home', 'home'), ('Back', 'Back to previous …"
      ]
     },
     "metadata": {},
     "output_type": "display_data"
    }
   ],
   "source": [
    "# peaks to rois (include_labels=True)\n"
   ]
  },
  {
   "cell_type": "code",
   "execution_count": null,
   "id": "30bec482-2b5d-4b8f-b0ae-550a64c7add0",
   "metadata": {},
   "outputs": [],
   "source": [
    "# display the vdfs object\n"
   ]
  },
  {
   "cell_type": "code",
   "execution_count": 56,
   "id": "ee5c0115-d76c-4ebd-8875-4b8d99a395d3",
   "metadata": {
    "tags": []
   },
   "outputs": [
    {
     "name": "stdout",
     "output_type": "stream",
     "text": [
      "[########################################] | 100% Completed | 219.12 ms\n"
     ]
    },
    {
     "data": {
      "application/vnd.jupyter.widget-view+json": {
       "model_id": "22fee67e14244cc08bc252c6100d0990",
       "version_major": 2,
       "version_minor": 0
      },
      "text/plain": [
       "HBox(children=(Canvas(toolbar=Toolbar(toolitems=[('Home', 'Reset original view', 'home', 'home'), ('Back', 'Ba…"
      ]
     },
     "metadata": {},
     "output_type": "display_data"
    }
   ],
   "source": [
    "# plot the vdfs (lazily)\n"
   ]
  },
  {
   "cell_type": "code",
   "execution_count": 76,
   "id": "33b59c53-cb15-4249-ac52-1cfb7c16268f",
   "metadata": {
    "tags": []
   },
   "outputs": [
    {
     "name": "stdout",
     "output_type": "stream",
     "text": [
      "[########################################] | 100% Completed | 4.37 sms\n"
     ]
    }
   ],
   "source": [
    "# compute VDFS\n"
   ]
  },
  {
   "cell_type": "markdown",
   "id": "b78aad8c-84c3-4248-be8d-337884bd20f1",
   "metadata": {},
   "source": [
    "### Creating Segmented Detectors"
   ]
  },
  {
   "cell_type": "code",
   "execution_count": 79,
   "id": "8a2b9b4b-c948-4679-b284-298d04cc98d8",
   "metadata": {
    "tags": []
   },
   "outputs": [
    {
     "data": {
      "application/vnd.jupyter.widget-view+json": {
       "model_id": "dc8add58ceab40a4b104c7fdde2a15d2",
       "version_major": 2,
       "version_minor": 0
      },
      "text/plain": [
       "HBox(children=(Canvas(toolbar=Toolbar(toolitems=[('Home', 'Reset original view', 'home', 'home'), ('Back', 'Ba…"
      ]
     },
     "metadata": {},
     "output_type": "display_data"
    }
   ],
   "source": [
    "import pyxem as pxm\n",
    "from pyxem.utils._azimuthal_integrations import _get_control_points\n",
    "import numpy as np\n",
    "import hyperspy.api as hs\n",
    "\n",
    "dp.calibration.center = None  # Center the diffraction patterns\n",
    "\n",
    "\n",
    "# For Visualizing the virtual detector\n",
    "cp = _get_control_points(\n",
    "    1,\n",
    "    npt_azim=8,\n",
    "    radial_range=(1, 2),\n",
    "    azimuthal_range=(-np.pi, np.pi),\n",
    "    affine=dp.calibration.affine,\n",
    ")[:, :, ::-1]\n",
    "\n",
    "poly = hs.plot.markers.Polygons(verts=cp, edgecolor=\"w\", facecolor=\"none\")\n",
    "dp.plot()\n",
    "dp.add_marker(poly)\n",
    "pos = np.mean(cp, axis=1)\n",
    "texts = np.arange(len(pos)).astype(str)\n",
    "texts = hs.plot.markers.Texts(offsets=pos, texts=texts, color=\"w\")\n",
    "dp.add_marker(texts)"
   ]
  },
  {
   "cell_type": "code",
   "execution_count": 85,
   "id": "b14b8540-e005-408a-b7ac-606e17a2c20f",
   "metadata": {
    "tags": []
   },
   "outputs": [
    {
     "name": "stdout",
     "output_type": "stream",
     "text": [
      "[########################################] | 100% Completed | 103.27 ms\n"
     ]
    },
    {
     "data": {
      "application/vnd.jupyter.widget-view+json": {
       "model_id": "46bb665278e04b0e812b6bfb8879e9b2",
       "version_major": 2,
       "version_minor": 0
      },
      "text/plain": [
       "HBox(children=(Canvas(toolbar=Toolbar(toolitems=[('Home', 'Reset original view', 'home', 'home'), ('Back', 'Ba…"
      ]
     },
     "metadata": {},
     "output_type": "display_data"
    }
   ],
   "source": [
    "# Create a 2D Azimuthal Integral and plot the transpose\n"
   ]
  },
  {
   "cell_type": "code",
   "execution_count": 90,
   "id": "fb7110a4-8707-4b06-a56f-2e4f183f330e",
   "metadata": {
    "tags": []
   },
   "outputs": [],
   "source": [
    "# Createa 1D Azimuthal Integral and plot the transpose\n"
   ]
  },
  {
   "cell_type": "code",
   "execution_count": null,
   "id": "932476b6-c0e4-40dd-b0b1-615b59caf8e7",
   "metadata": {},
   "outputs": [],
   "source": []
  }
 ],
 "metadata": {
  "@deathbeds/jupyterlab-fonts": {
   "styles": {
    ":root": {
     "--jp-code-font-size": "20px",
     "--jp-content-font-size1": "25px"
    }
   }
  },
  "celltoolbar": "Slideshow",
  "kernelspec": {
   "display_name": "pyxem-dev",
   "language": "python",
   "name": "pyxem-dev"
  },
  "language_info": {
   "codemirror_mode": {
    "name": "ipython",
    "version": 3
   },
   "file_extension": ".py",
   "mimetype": "text/x-python",
   "name": "python",
   "nbconvert_exporter": "python",
   "pygments_lexer": "ipython3",
   "version": "3.11.6"
  },
  "rise": {
   "scroll": true,
   "start_slideshow_at": "selected",
   "theme": "serif"
  },
  "toc-autonumbering": false,
  "toc-showcode": false
 },
 "nbformat": 4,
 "nbformat_minor": 5
}
