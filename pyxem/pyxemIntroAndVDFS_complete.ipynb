{
 "cells": [
  {
   "cell_type": "markdown",
   "id": "f147aed7",
   "metadata": {
    "@deathbeds/jupyterlab-fonts": {
     "styles": {
      "": {
       "body[data-jp-deck-mode='presenting'] &": {
        "zoom": "233%"
       }
      }
     }
    },
    "slideshow": {
     "slide_type": "slide"
    },
    "tags": []
   },
   "source": [
    "# pyxem\n",
    "\n",
    "\n",
    "### A 4-D STEM Package in the Hyperspy Ecosystem\n",
    "\n",
    "#### Carter Francis, University of Wisconsin Madison\n",
    "#### *May 16, 2024*"
   ]
  },
  {
   "cell_type": "code",
   "execution_count": null,
   "id": "6292373571683830",
   "metadata": {
    "tags": []
   },
   "outputs": [],
   "source": [
    "import pyxem as pxm\n",
    "import hyperspy.api as hs"
   ]
  },
  {
   "cell_type": "markdown",
   "id": "0131013f-8d9d-4e63-9c7c-e03d69ddb66a",
   "metadata": {},
   "source": [
    "### Download the Data (Try to do this ahead of time!)"
   ]
  },
  {
   "cell_type": "code",
   "execution_count": null,
   "id": "3d8a18c3-2a07-4fc5-b355-7419af8be705",
   "metadata": {
    "tags": []
   },
   "outputs": [],
   "source": [
    "pxm.data.mgo_nanocrystals(allow_download=True)\n",
    "pxm.data.zrnb_precipitate(allow_download=True)\n",
    "pxm.data.twinned_nanowire(allow_download=True)"
   ]
  },
  {
   "cell_type": "markdown",
   "id": "539fda54-ef5a-4c6e-9e0e-97c53994d0aa",
   "metadata": {
    "@deathbeds/jupyterlab-fonts": {
     "styles": {
      "": {
       "body[data-jp-deck-mode='presenting'] &": {
        "z-index": "5",
        "zoom": "231%"
       }
      }
     }
    },
    "slideshow": {
     "slide_type": "slide"
    },
    "tags": []
   },
   "source": [
    "# Outline"
   ]
  },
  {
   "cell_type": "markdown",
   "id": "d8e1f5bd-a249-4bc6-bdb5-abb8e419c19f",
   "metadata": {
    "@deathbeds/jupyterlab-fonts": {
     "styles": {
      "": {
       "body[data-jp-deck-mode='presenting'] &": {
        "zoom": "311%"
       }
      }
     }
    },
    "slideshow": {
     "slide_type": "fragment"
    },
    "tags": []
   },
   "source": [
    "1. Introduction to 4D STEM\n",
    "2. Introduction to pyxem\n",
    "3. Example Workflows\n",
    "    1. Loading and Visualizing Data (This Notebook)\n",
    "    2. Creating Virtual Images (MgO Nanocrystals) (This Notebook)\n",
    "    3. Strain Mapping and Finding Vectors (Inclusions in ZrNb) (30 min) \n",
    "    4. Azimuthal Integration And Orientation Mapping in Molecular Glasses (30 min)"
   ]
  },
  {
   "cell_type": "markdown",
   "id": "0dbeb6d6-afe6-4401-b9f0-94dcecf8f735",
   "metadata": {
    "@deathbeds/jupyterlab-fonts": {
     "styles": {
      "": {
       "body[data-jp-deck-mode='presenting'] &": {
        "height": "6.293222815169338%",
        "left": "3.177083333333333%",
        "position": "fixed",
        "top": "3.9073326775641855%",
        "width": "96.66666666666667%"
       }
      }
     }
    },
    "slideshow": {
     "slide_type": "slide"
    },
    "tags": []
   },
   "source": [
    "# Introduction to 4D STEM"
   ]
  },
  {
   "cell_type": "markdown",
   "id": "87b13772-104d-4fe9-896a-c321d7ed12ab",
   "metadata": {
    "@deathbeds/jupyterlab-fonts": {
     "styles": {
      "": {
       "body[data-jp-deck-mode='presenting'] &": {
        "height": "85.43096402796303%",
        "left": "24.191081523895264%",
        "position": "fixed",
        "top": "14.162538109756099%",
        "width": "43.87776851654053%"
       }
      }
     }
    },
    "jupyterlab-deck": {
     "layer": "fragment"
    },
    "slideshow": {
     "slide_type": "subslide"
    },
    "tags": []
   },
   "source": [
    "<img src=\"Images/4DSTEM.gif\" alt=\"4D STEM GIF\">"
   ]
  },
  {
   "cell_type": "markdown",
   "id": "527db597-9e92-41f6-8cfc-9b805092aa4b",
   "metadata": {
    "@deathbeds/jupyterlab-fonts": {
     "styles": {
      "": {
       "body[data-jp-deck-mode='presenting'] &": {
        "height": "6.293222815169338%",
        "left": "3.958333333333333%",
        "position": "fixed",
        "top": "7.745506951423106%",
        "width": "96.66666666666667%"
       }
      }
     }
    },
    "slideshow": {
     "slide_type": "slide"
    },
    "tags": []
   },
   "source": [
    "# Introduction to pyxem (pix-em)"
   ]
  },
  {
   "cell_type": "markdown",
   "id": "268662bb",
   "metadata": {
    "@deathbeds/jupyterlab-fonts": {
     "styles": {
      "": {
       "body[data-jp-deck-mode='presenting'] &": {
        "height": "28.874912720992853%",
        "left": "5.567491157849629%",
        "position": "fixed",
        "top": "18.7067775409746%",
        "width": "90.6553810119629%",
        "zoom": "214%"
       }
      }
     }
    },
    "slideshow": {
     "slide_type": "fragment"
    },
    "tags": []
   },
   "source": [
    "\n",
    "Because pyxem extends hyperspy importing hyperspy will automatically load pyxem if it is installed.\n",
    "\n",
    "This also means that we inherit all of the upstream hyperspy functionality such as:\n",
    "\n",
    "1. Fast I-O (from [many different file formats](https://hyperspy.org/rosettasciio/supported_formats/index.html))\n",
    "2. Machine learning with [Matrix Factorization](https://hyperspy.org/hyperspy-doc/current/user_guide/mva.html)\n",
    "3. Fitting with [1-D and 2-D functions](https://hyperspy.org/hyperspy-doc/current/user_guide/model.html)\n",
    "4. [Interactive Plotting](https://hyperspy.org/hyperspy-doc/current/user_guide/visualisation.html)\n",
    "5. [Metadata Handling](https://hyperspy.org/hyperspy-doc/current/user_guide/metadata_structure.html)\n",
    "6. And __Much Much__ More!"
   ]
  },
  {
   "cell_type": "markdown",
   "id": "33a567d4-e506-46e0-b2ee-56e89035d92c",
   "metadata": {
    "@deathbeds/jupyterlab-fonts": {
     "styles": {
      "": {
       "body[data-jp-deck-mode='presenting'] &": {
        "zoom": "325%"
       }
      }
     }
    },
    "slideshow": {
     "slide_type": "slide"
    },
    "tags": []
   },
   "source": [
    "For more information about pyxem check out our [github](https://github.com/pyxem/pyxem) our [documentation](https://pyxem.readthedocs.io/en/latest/) or the set of [tutorial notebooks](https://github.com/pyxem/pyxem-demos) or our new set of [examples](https://pyxem.readthedocs.io/en/stable/examples/index.html)"
   ]
  },
  {
   "cell_type": "markdown",
   "id": "11e59c8a-f22d-402e-ae7a-0a4221252beb",
   "metadata": {},
   "source": [
    "## Loading and Visualizing Data"
   ]
  },
  {
   "cell_type": "markdown",
   "id": "30fd99fb-87f3-411a-88a5-d293e4e73af3",
   "metadata": {},
   "source": [
    "Data in `pyxem` can be loaded exactly the same as loading data in `hyperspy`.  Many different formats are supported but only the `.hspy` (hdf5) and `.zspy` (zarr) formats retain all of the metadata\n",
    "\n",
    "```python\n",
    "import hyperspy.api as hs\n",
    "s = hs.load(\"path/to/file/to/load.hspy\")\n",
    "```\n",
    "\n",
    "Visualization can easily be done by then calling the function\n",
    "\n",
    "```python\n",
    "s.plot()\n",
    "```\n"
   ]
  },
  {
   "cell_type": "code",
   "execution_count": null,
   "id": "e360c0a3-59d6-450b-a3eb-098472c1e5d9",
   "metadata": {
    "scrolled": true,
    "tags": []
   },
   "outputs": [],
   "source": [
    "# Starting up a distributed Cluster locally \n",
    "# You don't have to do this but it helps to visualize what is happening. Note that you can \n",
    "from dask.distributed import Client\n",
    "client = Client()  # set up local cluster on your laptop\n",
    "client\n",
    "# Ignore INFO below just giving informataion about the scheduler set up"
   ]
  },
  {
   "cell_type": "code",
   "execution_count": null,
   "id": "c734be03-1985-4710-ba01-f77059bec2d8",
   "metadata": {
    "tags": []
   },
   "outputs": [],
   "source": [
    "client"
   ]
  },
  {
   "cell_type": "code",
   "execution_count": null,
   "id": "c5cf628e-7b94-4b65-a850-f52d3ac62e3c",
   "metadata": {
    "tags": []
   },
   "outputs": [],
   "source": [
    "import pyxem as pxm\n",
    "import hyperspy.api as hs\n",
    "hs.set_log_level(\"ERROR\")"
   ]
  },
  {
   "cell_type": "code",
   "execution_count": null,
   "id": "eaf5f321-9d40-4ee7-9b98-78fe9d154b64",
   "metadata": {
    "@deathbeds/jupyterlab-fonts": {
     "styles": {
      "": {
       "body[data-jp-deck-mode='presenting'] &": {
        "zoom": "105%"
       }
      }
     }
    },
    "slideshow": {
     "slide_type": "fragment"
    },
    "tags": []
   },
   "outputs": [],
   "source": [
    "# setting the plotting backend (note this works much better with the qt backend!)\n",
    "%matplotlib qt\n",
    "dp = pxm.data.mgo_nanocrystals(lazy=True)"
   ]
  },
  {
   "cell_type": "markdown",
   "id": "1a170861-54f6-496b-8aa6-d7403c7ce922",
   "metadata": {
    "@deathbeds/jupyterlab-fonts": {
     "styles": {
      "": {
       "body[data-jp-deck-mode='presenting'] &": {
        "zoom": "214%"
       }
      }
     }
    },
    "slideshow": {
     "slide_type": "slide"
    },
    "tags": []
   },
   "source": [
    "## Creating Virtual Images\n",
    "We can construct Virtual images very easily using [ROIS](http://hyperspy.org/hyperspy-doc/current/user_guide/interactive_operations_ROIs.html) from `hyperspy`."
   ]
  },
  {
   "cell_type": "code",
   "execution_count": null,
   "id": "eb393e2f-f916-498e-bea8-05fb4b0dbc18",
   "metadata": {
    "tags": []
   },
   "outputs": [],
   "source": [
    "import hyperspy\n",
    "print(hyperspy.__version__)"
   ]
  },
  {
   "cell_type": "code",
   "execution_count": null,
   "id": "d635f83e-0b86-4dc3-8d01-0827ec7b096b",
   "metadata": {
    "tags": []
   },
   "outputs": [],
   "source": [
    "# This will work with lazy signals if they are small and stored efficiently.\n",
    "dp.compute() "
   ]
  },
  {
   "cell_type": "code",
   "execution_count": null,
   "id": "d6b62e95-51b1-4e68-8c5f-0e2fe987e671",
   "metadata": {
    "tags": []
   },
   "outputs": [],
   "source": [
    "# plot the data\n",
    "dp.plot()"
   ]
  },
  {
   "cell_type": "code",
   "execution_count": null,
   "id": "212fe190-5194-43ef-93f8-74e989a63160",
   "metadata": {
    "tags": []
   },
   "outputs": [],
   "source": [
    "# Lets make an couple of interactive ROI's \n",
    "hs.plot.plot_roi_map(dp, rois=3,single_figure=True)"
   ]
  },
  {
   "cell_type": "markdown",
   "id": "2c75790f-5055-41af-8b2d-4dc047664e8f",
   "metadata": {},
   "source": [
    "We can also define a specific ROI to create virtual Images."
   ]
  },
  {
   "cell_type": "code",
   "execution_count": null,
   "id": "1d711f89-a92d-4c6e-9816-d5b0035b2338",
   "metadata": {
    "tags": []
   },
   "outputs": [],
   "source": [
    "mean_cbed = dp.mean() # get the mean diffraction pattern\n",
    "mean_cbed.plot(vmax=1000) # plot the mean diffraction pattern\n",
    "df_roi = hs.roi.CircleROI(cx=0, cy=0, r= 2.0, r_inner=0.5) # create a ROI to be used as a virtual appature\n",
    "df_roi.add_widget(mean_cbed) # add roi to plot\n",
    "roi = hs.roi.CircleROI(cx=0.12984, cy=1.4607, r=0.24345, r_inner=0) # create a ROI to be used as a virtual appature\n",
    "roi.add_widget(mean_cbed) # add roi to plot"
   ]
  },
  {
   "cell_type": "code",
   "execution_count": null,
   "id": "d6594441-7998-4604-b2f4-d98e373671bd",
   "metadata": {
    "@deathbeds/jupyterlab-fonts": {
     "styles": {
      "": {
       "body[data-jp-deck-mode='presenting'] &": {
        "zoom": "174%"
       }
      }
     }
    },
    "slideshow": {
     "slide_type": "fragment"
    },
    "tags": []
   },
   "outputs": [],
   "source": [
    "# get the integrated intensity to make the virtual images.\n",
    "df =  dp.get_integrated_intensity(df_roi) # integrate the DF ROI \n",
    "virtual =  dp.get_integrated_intensity(roi) # integrate the DF ROI \n",
    "\n",
    "hs.plot.plot_images([df, virtual],\n",
    "                    label=[\"Virtual Dark Field\", \"Virtual Aperture\"],\n",
    "                    tight_layout=True,\n",
    "                    colorbar=None, \n",
    "                    scalebar=\"all\", \n",
    "                    axes_decor=\"off\") # Plot both ROI's using hyperspy"
   ]
  },
  {
   "cell_type": "markdown",
   "id": "aafad88d-0105-4528-8dcf-ea24c0d3eb27",
   "metadata": {
    "slideshow": {
     "slide_type": "slide"
    },
    "tags": []
   },
   "source": [
    "### Finding Diffraction Vectors and Crystal Segmentation\n",
    "\n",
    "For many operations in `pyxem` such as Crystal Segmentation, Strain Mapping and Clustering we start with finding the set of diffraction vectors within the dataset.  This starts with the function `s.get_diffraction_vectors()`"
   ]
  },
  {
   "cell_type": "markdown",
   "id": "2fa3417d-7124-428e-a60c-b9700528620c",
   "metadata": {},
   "source": [
    "##### Removing Background\n",
    "\n",
    "For more infromation look at the [background subtraction example](https://pyxem.readthedocs.io/en/stable/examples/processing/background_subtraction.html#sphx-glr-examples-processing-background-subtraction-py)"
   ]
  },
  {
   "cell_type": "code",
   "execution_count": null,
   "id": "ec30ae39-5362-454b-9e3e-943cb303c3cc",
   "metadata": {
    "tags": []
   },
   "outputs": [],
   "source": [
    "import pyxem as pxm\n",
    "import hyperspy.api as hs\n",
    "hs.set_log_level(\"ERROR\")"
   ]
  },
  {
   "cell_type": "code",
   "execution_count": null,
   "id": "fcbc44c2-696a-4982-9900-0dee6504296e",
   "metadata": {
    "tags": []
   },
   "outputs": [],
   "source": [
    "dp = pxm.data.mgo_nanocrystals(lazy=True)"
   ]
  },
  {
   "cell_type": "code",
   "execution_count": null,
   "id": "376b030f-999a-4744-9cc4-9b9bf2557c10",
   "metadata": {
    "tags": []
   },
   "outputs": [],
   "source": [
    "# find peaks using difference of gaussians \n",
    "dv = dp.get_diffraction_vectors(method=\"difference_of_gaussian\",\n",
    "                                min_sigma=2, max_sigma=4,\n",
    "                                threshold=.02)"
   ]
  },
  {
   "cell_type": "code",
   "execution_count": null,
   "id": "1bdab9d1-622e-4c4f-bb48-13409c300300",
   "metadata": {
    "tags": []
   },
   "outputs": [],
   "source": [
    "%matplotlib ipympl\n",
    "#plot the markers over the dataset\n",
    "m = dv.to_markers(facecolor=\"none\", edgecolor=\"w\", sizes=20)\n",
    "dp.plot()\n",
    "dp.add_marker(m)"
   ]
  },
  {
   "cell_type": "code",
   "execution_count": null,
   "id": "5dadd7e6-d288-4356-984f-050423c4fbcc",
   "metadata": {},
   "outputs": [],
   "source": [
    "# compute the diffraction vectors\n",
    "dv.compute()"
   ]
  },
  {
   "cell_type": "code",
   "execution_count": null,
   "id": "31e25beb-8c80-4f5b-bbf0-fd2b5c8fc0af",
   "metadata": {
    "slideshow": {
     "slide_type": "subslide"
    },
    "tags": []
   },
   "outputs": [],
   "source": [
    "# plot the map (number found) of diffraction vectors \n",
    "dv.get_diffracting_pixels_map().plot()"
   ]
  },
  {
   "cell_type": "code",
   "execution_count": null,
   "id": "3c1b8307-b9d0-4f13-90ec-f2a5b4b1ac04",
   "metadata": {
    "slideshow": {
     "slide_type": "fragment"
    },
    "tags": []
   },
   "outputs": [],
   "source": [
    "import numpy as np\n",
    "distance_threshold = 0.1\n",
    "min_samples = 7\n",
    "# cluster the vectors to get only the unique vectors\n",
    "unique_peaks = dv.get_unique_vectors(method='DBSCAN',\n",
    "                                          distance_threshold=distance_threshold,\n",
    "                                          min_samples=min_samples, columns = (-3,-2))\n",
    "print(np.shape(unique_peaks.data)[0], ' unique vectors were found.')\n",
    "\n",
    "#remove the zero beam\n",
    "unique_peaks = unique_peaks.filter_magnitude(min_magnitude=.4,\n",
    "                                   max_magnitude=np.inf) \n",
    "print(np.shape(unique_peaks)[0], ' unique vectors.')"
   ]
  },
  {
   "cell_type": "markdown",
   "id": "cdf4a126-e0da-4992-9875-c48a9c45f892",
   "metadata": {},
   "source": [
    "### Creating Virtual Images from Vectors"
   ]
  },
  {
   "cell_type": "code",
   "execution_count": null,
   "id": "4bddd3e4-e9de-4d19-9b1b-7c8a3760a97d",
   "metadata": {
    "tags": []
   },
   "outputs": [],
   "source": [
    "rois, texts = unique_peaks.to_roi(radius=.1,\n",
    "                                  include_labels=True,\n",
    "                                  sizes=2,\n",
    "                                  facecolor=\"black\", color=\"w\")\n",
    "mean_dp = dp.mean()\n",
    "mean_dp.plot(vmax=\"99th\")\n",
    "vdfs = dp.get_virtual_image(rois)\n",
    "mean_dp.add_marker(texts)\n"
   ]
  },
  {
   "cell_type": "code",
   "execution_count": null,
   "id": "30bec482-2b5d-4b8f-b0ae-550a64c7add0",
   "metadata": {},
   "outputs": [],
   "source": [
    "# display the vdfs object\n",
    "vdfs"
   ]
  },
  {
   "cell_type": "code",
   "execution_count": null,
   "id": "ee5c0115-d76c-4ebd-8875-4b8d99a395d3",
   "metadata": {
    "tags": []
   },
   "outputs": [],
   "source": [
    "# plot the vdfs (lazily)\n",
    "vdfs.plot()"
   ]
  },
  {
   "cell_type": "code",
   "execution_count": null,
   "id": "33b59c53-cb15-4249-ac52-1cfb7c16268f",
   "metadata": {
    "tags": []
   },
   "outputs": [],
   "source": [
    "# compute VDFS\n",
    "vdfs.compute()"
   ]
  },
  {
   "cell_type": "markdown",
   "id": "b78aad8c-84c3-4248-be8d-337884bd20f1",
   "metadata": {},
   "source": [
    "### Creating Segmented Detectors"
   ]
  },
  {
   "cell_type": "code",
   "execution_count": null,
   "id": "8a2b9b4b-c948-4679-b284-298d04cc98d8",
   "metadata": {
    "tags": []
   },
   "outputs": [],
   "source": [
    "import pyxem as pxm\n",
    "from pyxem.utils._azimuthal_integrations import _get_control_points\n",
    "import numpy as np\n",
    "import hyperspy.api as hs\n",
    "\n",
    "dp.calibration.center = None  # Center the diffraction patterns\n",
    "\n",
    "\n",
    "# For Visualizing the virtual detector\n",
    "cp = _get_control_points(\n",
    "    1,\n",
    "    npt_azim=8,\n",
    "    radial_range=(1, 2),\n",
    "    azimuthal_range=(-np.pi, np.pi),\n",
    "    affine=dp.calibration.affine,\n",
    ")[:, :, ::-1]\n",
    "poly = hs.plot.markers.Polygons(verts=cp, edgecolor=\"w\", facecolor=\"none\")\n",
    "dp.plot()\n",
    "dp.add_marker(poly)\n",
    "pos = np.mean(cp, axis=1)\n",
    "texts = np.arange(len(pos)).astype(str)\n",
    "texts = hs.plot.markers.Texts(offsets=pos, texts=texts, color=\"w\")\n",
    "dp.add_marker(texts)"
   ]
  },
  {
   "cell_type": "code",
   "execution_count": null,
   "id": "b14b8540-e005-408a-b7ac-606e17a2c20f",
   "metadata": {
    "tags": []
   },
   "outputs": [],
   "source": [
    "# Create a 2D Azimuthal Integral and plot the transpose\n",
    "az2d = dp.get_azimuthal_integral2d(npt=1, npt_azim=8, radial_range=(2, 5))\n",
    "az2d.compute()\n",
    "az2d.T.plot()"
   ]
  },
  {
   "cell_type": "code",
   "execution_count": null,
   "id": "fb7110a4-8707-4b06-a56f-2e4f183f330e",
   "metadata": {
    "tags": []
   },
   "outputs": [],
   "source": [
    "# Createa 1D Azimuthal Integral and plot the transpose\n",
    "az1d = dp.get_azimuthal_integral1d(npt=100)\n",
    "az1d.compute()\n",
    "az1d.T.plot()"
   ]
  },
  {
   "cell_type": "code",
   "execution_count": null,
   "id": "932476b6-c0e4-40dd-b0b1-615b59caf8e7",
   "metadata": {},
   "outputs": [],
   "source": []
  }
 ],
 "metadata": {
  "@deathbeds/jupyterlab-fonts": {
   "styles": {
    ":root": {
     "--jp-code-font-size": "20px",
     "--jp-content-font-size1": "25px"
    }
   }
  },
  "celltoolbar": "Slideshow",
  "kernelspec": {
   "display_name": "pyxem-dev",
   "language": "python",
   "name": "pyxem-dev"
  },
  "language_info": {
   "codemirror_mode": {
    "name": "ipython",
    "version": 3
   },
   "file_extension": ".py",
   "mimetype": "text/x-python",
   "name": "python",
   "nbconvert_exporter": "python",
   "pygments_lexer": "ipython3",
   "version": "3.11.6"
  },
  "rise": {
   "scroll": true,
   "start_slideshow_at": "selected",
   "theme": "serif"
  },
  "toc-autonumbering": false,
  "toc-showcode": false
 },
 "nbformat": 4,
 "nbformat_minor": 5
}
